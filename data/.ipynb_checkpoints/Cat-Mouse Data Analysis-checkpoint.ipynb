{
 "cells": [
  {
   "cell_type": "code",
   "execution_count": 1,
   "metadata": {},
   "outputs": [],
   "source": [
    "%matplotlib notebook"
   ]
  },
  {
   "cell_type": "code",
   "execution_count": 2,
   "metadata": {},
   "outputs": [],
   "source": [
    "import os\n",
    "import sys\n",
    "import numpy as np"
   ]
  },
  {
   "cell_type": "code",
   "execution_count": 3,
   "metadata": {},
   "outputs": [],
   "source": [
    "import imageio\n",
    "from IPython.display import HTML"
   ]
  },
  {
   "cell_type": "code",
   "execution_count": 4,
   "metadata": {},
   "outputs": [],
   "source": [
    "import matplotlib.pyplot as plt\n",
    "from matplotlib import animation, rc, ticker\n",
    "from mpl_toolkits.mplot3d.axes3d import Axes3D\n",
    "plt.ioff()"
   ]
  },
  {
   "cell_type": "code",
   "execution_count": 5,
   "metadata": {},
   "outputs": [],
   "source": [
    "import seaborn as sns\n",
    "sns.set()"
   ]
  },
  {
   "cell_type": "code",
   "execution_count": 6,
   "metadata": {},
   "outputs": [],
   "source": [
    "module_path = os.path.abspath(os.path.join('..'))\n",
    "if module_path not in sys.path:\n",
    "    sys.path.append(module_path)"
   ]
  },
  {
   "cell_type": "code",
   "execution_count": 7,
   "metadata": {},
   "outputs": [],
   "source": [
    "from regression_models import PolynomialRegression"
   ]
  },
  {
   "cell_type": "markdown",
   "metadata": {},
   "source": [
    "## Data Preparation"
   ]
  },
  {
   "cell_type": "markdown",
   "metadata": {},
   "source": [
    "### Gathering"
   ]
  },
  {
   "cell_type": "markdown",
   "metadata": {},
   "source": [
    "$D$ is a dictionary in the form of $D[(run, visdepth, timestep, \\alpha, \\beta)] = performance$\n",
    "\n",
    "where:\n",
    "\n",
    "$\\alpha$ = learning rate\n",
    "\n",
    "$\\beta$ = discount rate"
   ]
  },
  {
   "cell_type": "code",
   "execution_count": 8,
   "metadata": {},
   "outputs": [],
   "source": [
    "D = {}"
   ]
  },
  {
   "cell_type": "code",
   "execution_count": 9,
   "metadata": {},
   "outputs": [],
   "source": [
    "max_vis_depth = 4\n",
    "num_runs = 10\n",
    "step_size = 10"
   ]
  },
  {
   "cell_type": "code",
   "execution_count": 10,
   "metadata": {},
   "outputs": [],
   "source": [
    "for depth in range(1, max_vis_depth + 1):\n",
    "    for run in range(1, num_runs + 1):\n",
    "        dir_input = \"sims/cat_mouse/data/\" + str(depth) + \"/data\" + str(run) + \".txt\"\n",
    "        with open(os.path.abspath(os.path.join('..', dir_input))) as f:\n",
    "            for line in f.readlines():\n",
    "                line = list(map(int, line.split()))\n",
    "                for i in range(2, 12):\n",
    "                    D[(run, depth, (i - 1) * step_size, line[0], line[1])] = line[i]\n",
    "                    # key_temp = (depth, (i - 1) * step_size, line[0], line[1])\n",
    "                    # if key_temp not in D:\n",
    "                    #     D[key_temp] = line[i] / num_runs\n",
    "                    # else:\n",
    "                    #    D[key_temp] += line[i] / num_runs"
   ]
  },
  {
   "cell_type": "code",
   "execution_count": 11,
   "metadata": {},
   "outputs": [],
   "source": [
    "n = 11\n",
    "def_depth = 1\n",
    "def_timestep = 100"
   ]
  },
  {
   "cell_type": "code",
   "execution_count": 12,
   "metadata": {},
   "outputs": [],
   "source": [
    "X_domain = np.linspace(0, 1, n)\n",
    "X = np.zeros((4, n, n))\n",
    "X[0] = np.full((n, n), def_depth)\n",
    "X[1] = np.full((n, n), def_timestep)\n",
    "X[2], X[3] = np.meshgrid(X_domain, X_domain)"
   ]
  },
  {
   "cell_type": "code",
   "execution_count": 13,
   "metadata": {},
   "outputs": [],
   "source": [
    "Y = np.zeros((n, n))\n",
    "for i in range(n):\n",
    "    for j in range(n):\n",
    "        Y[i][j] = sum(D[(run, def_depth, def_timestep, i, j)] for run in range(1, num_runs + 1)) / num_runs"
   ]
  },
  {
   "cell_type": "code",
   "execution_count": 14,
   "metadata": {},
   "outputs": [
    {
     "name": "stdout",
     "output_type": "stream",
     "text": [
      "y_min: 4646.3\n",
      "y_max: 14441.0\n",
      "y_range: 9794.7\n",
      "offset: 4897.35\n"
     ]
    }
   ],
   "source": [
    "y_min = np.amin(Y)\n",
    "print('y_min:', y_min)\n",
    "y_max = np.amax(Y)\n",
    "print('y_max:', y_max)\n",
    "y_range = y_max - y_min\n",
    "print('y_range:', y_range)\n",
    "print('offset:', y_range/2)"
   ]
  },
  {
   "cell_type": "markdown",
   "metadata": {},
   "source": [
    "## Data Visualization"
   ]
  },
  {
   "cell_type": "markdown",
   "metadata": {},
   "source": [
    "### Regression"
   ]
  },
  {
   "cell_type": "code",
   "execution_count": 15,
   "metadata": {},
   "outputs": [],
   "source": [
    "model = PolynomialRegression(X, Y)"
   ]
  },
  {
   "cell_type": "markdown",
   "metadata": {},
   "source": [
    "#### Linear model"
   ]
  },
  {
   "cell_type": "code",
   "execution_count": 16,
   "metadata": {},
   "outputs": [
    {
     "name": "stdout",
     "output_type": "stream",
     "text": [
      "0.443282*1 + 0.443282*x0 + 44.328163*x1 + 1903.112397*x2 + 3777.065289*x3\n"
     ]
    }
   ],
   "source": [
    "lin_model = model.process(degree=1)\n",
    "lin_model.print_func()"
   ]
  },
  {
   "cell_type": "code",
   "execution_count": 17,
   "metadata": {},
   "outputs": [
    {
     "name": "stdout",
     "output_type": "stream",
     "text": [
      "0.417901783681\n"
     ]
    }
   ],
   "source": [
    "print(lin_model.r_squared)"
   ]
  },
  {
   "cell_type": "markdown",
   "metadata": {},
   "source": [
    "#### Quadratic model"
   ]
  },
  {
   "cell_type": "code",
   "execution_count": 18,
   "metadata": {
    "scrolled": true
   },
   "outputs": [
    {
     "name": "stdout",
     "output_type": "stream",
     "text": [
      "0.000076*1 + 0.000076*x0 + 0.007593*x1 + -0.729022*x2 + -0.850853*x3 + 0.000076*x0^2 + 0.007593*x0*x1 + -0.729022*x0*x2 + -0.850853*x0*x3 + 0.759343*x1^2 + -72.902232*x1*x2 + -85.085262*x1*x3 + 9500.127146*x2^2 + -610.666942*x2*x3 + 12592.626616*x3^2\n"
     ]
    }
   ],
   "source": [
    "quad_model = model.process(degree=2)\n",
    "quad_model.print_func()"
   ]
  },
  {
   "cell_type": "code",
   "execution_count": 19,
   "metadata": {},
   "outputs": [
    {
     "name": "stdout",
     "output_type": "stream",
     "text": [
      "0.872194916977\n"
     ]
    }
   ],
   "source": [
    "print(quad_model.r_squared)"
   ]
  },
  {
   "cell_type": "markdown",
   "metadata": {},
   "source": [
    "#### Cubic model"
   ]
  },
  {
   "cell_type": "code",
   "execution_count": 20,
   "metadata": {},
   "outputs": [
    {
     "name": "stdout",
     "output_type": "stream",
     "text": [
      "0.000000*1 + 0.000000*x0 + 0.000001*x1 + -0.000015*x2 + -0.000093*x3 + -0.000000*x0^2 + 0.000001*x0*x1 + -0.000015*x0*x2 + -0.000093*x0*x3 + 0.000071*x1^2 + -0.001530*x1*x2 + -0.009298*x1*x3 + 0.108501*x2^2 + -0.743440*x2*x3 + 1.618774*x3^2 + 0.000000*x0^3 + 0.000001*x0^2*x1 + -0.000015*x0^2*x2 + -0.000093*x0^2*x3 + 0.000071*x0*x1^2 + -0.001530*x0*x1*x2 + -0.009298*x0*x1*x3 + 0.108501*x0*x2^2 + -0.743440*x0*x2*x3 + 1.618774*x0*x3^2 + 0.007048*x1^3 + -0.152960*x1^2*x2 + -0.929839*x1^2*x3 + 10.850129*x1*x2^2 + -74.343952*x1*x2*x3 + 161.877399*x1*x3^2 + 2410.946890*x2^3 + 9596.953804*x2^2*x3 + -2771.738716*x2*x3^2 + -1474.987648*x3^3\n"
     ]
    }
   ],
   "source": [
    "cube_model = model.process(degree=3)\n",
    "cube_model.print_func()"
   ]
  },
  {
   "cell_type": "code",
   "execution_count": 21,
   "metadata": {},
   "outputs": [
    {
     "name": "stdout",
     "output_type": "stream",
     "text": [
      "0.891426037679\n"
     ]
    }
   ],
   "source": [
    "print(cube_model.r_squared)"
   ]
  },
  {
   "cell_type": "markdown",
   "metadata": {},
   "source": [
    "### Plotting"
   ]
  },
  {
   "cell_type": "code",
   "execution_count": 22,
   "metadata": {},
   "outputs": [],
   "source": [
    "def plot_animate_preprocess(model, degree):\n",
    "    fig = plt.figure(figsize=(6, 6))\n",
    "    ax = fig.add_subplot(1, 1, 1, projection='3d')\n",
    "    \n",
    "    p = model.plot(ax, X[2], X[3], Y, idx=(2, 3), wireframe=True, show_contours=False)\n",
    "    q = model.plot(ax, X[2], X[3], model.process(degree=degree).predict(), \n",
    "                   idx=(2,3), lims=((-0.5, 1.0), (0.0, 1.5), (0, 15000)),\n",
    "                   show_labels=True, labels=(\"Learning Rate\", \"Discount Rate\", \"Agent Performance\"))\n",
    "\n",
    "    formatter = ticker.ScalarFormatter(useMathText=True)\n",
    "    formatter.set_scientific(True) \n",
    "    formatter.set_powerlimits((-1,1)) \n",
    "    ax.zaxis.set_major_formatter(formatter)\n",
    "\n",
    "    fig.patch.set_alpha(0.)\n",
    "    ax.patch.set_alpha(0.0)\n",
    "    ax.grid(False)\n",
    "    \n",
    "    for ii in range(0, 360, 1):\n",
    "        ax.view_init(elev=30., azim=ii)\n",
    "        plt.savefig(\"perf_vs_params/%d/frame%d.jpeg\" % (degree, ii), transparent=True)"
   ]
  },
  {
   "cell_type": "code",
   "execution_count": 23,
   "metadata": {},
   "outputs": [],
   "source": [
    "def plot_animate_beta(degree, secs=6, fps=60):\n",
    "    frame_steps = 360 // (secs * fps)\n",
    "    \n",
    "    images = []\n",
    "    for ii in range(0, 360, frame_steps):\n",
    "        images.append(imageio.imread(\"perf_vs_params/%d/frame%d.jpeg\" % (degree,ii)))\n",
    "    imageio.mimsave(\"perf_vs_params/%d/anim%d.gif\" % (degree, fps), images, fps=60)\n",
    "    \n",
    "    return HTML('<img src=\"perf_vs_params/%d/anim%d.gif\">' % (degree, fps))"
   ]
  },
  {
   "cell_type": "markdown",
   "metadata": {},
   "source": [
    "#### Linear Estimate"
   ]
  },
  {
   "cell_type": "code",
   "execution_count": 24,
   "metadata": {},
   "outputs": [],
   "source": [
    "plot_animate_preprocess(model, degree=1)"
   ]
  },
  {
   "cell_type": "code",
   "execution_count": 25,
   "metadata": {},
   "outputs": [
    {
     "data": {
      "text/html": [
       "<img src=\"perf_vs_params/1/anim60.gif\">"
      ],
      "text/plain": [
       "<IPython.core.display.HTML object>"
      ]
     },
     "execution_count": 25,
     "metadata": {},
     "output_type": "execute_result"
    }
   ],
   "source": [
    "plot_animate_beta(degree=1, secs=6, fps=60)"
   ]
  },
  {
   "cell_type": "markdown",
   "metadata": {},
   "source": [
    "#### Quadratic Estimate"
   ]
  },
  {
   "cell_type": "code",
   "execution_count": 26,
   "metadata": {},
   "outputs": [],
   "source": [
    "plot_animate_preprocess(model, degree=2)"
   ]
  },
  {
   "cell_type": "code",
   "execution_count": 27,
   "metadata": {},
   "outputs": [
    {
     "data": {
      "text/html": [
       "<img src=\"perf_vs_params/2/anim60.gif\">"
      ],
      "text/plain": [
       "<IPython.core.display.HTML object>"
      ]
     },
     "execution_count": 27,
     "metadata": {},
     "output_type": "execute_result"
    }
   ],
   "source": [
    "plot_animate_beta(degree=2, secs=6, fps=60)"
   ]
  },
  {
   "cell_type": "markdown",
   "metadata": {},
   "source": [
    "#### Cubic Estimate"
   ]
  },
  {
   "cell_type": "code",
   "execution_count": 28,
   "metadata": {},
   "outputs": [],
   "source": [
    "plot_animate_preprocess(model, degree=3)"
   ]
  },
  {
   "cell_type": "code",
   "execution_count": 29,
   "metadata": {},
   "outputs": [
    {
     "data": {
      "text/html": [
       "<img src=\"perf_vs_params/3/anim60.gif\">"
      ],
      "text/plain": [
       "<IPython.core.display.HTML object>"
      ]
     },
     "execution_count": 29,
     "metadata": {},
     "output_type": "execute_result"
    }
   ],
   "source": [
    "plot_animate_beta(degree=3, secs=6, fps=60)"
   ]
  },
  {
   "cell_type": "code",
   "execution_count": null,
   "metadata": {},
   "outputs": [],
   "source": []
  }
 ],
 "metadata": {
  "kernelspec": {
   "display_name": "Python 3",
   "language": "python",
   "name": "python3"
  },
  "language_info": {
   "codemirror_mode": {
    "name": "ipython",
    "version": 3
   },
   "file_extension": ".py",
   "mimetype": "text/x-python",
   "name": "python",
   "nbconvert_exporter": "python",
   "pygments_lexer": "ipython3",
   "version": "3.5.3"
  }
 },
 "nbformat": 4,
 "nbformat_minor": 2
}
