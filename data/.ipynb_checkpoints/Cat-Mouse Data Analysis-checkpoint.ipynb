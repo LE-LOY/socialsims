{
 "cells": [
  {
   "cell_type": "code",
   "execution_count": 1,
   "metadata": {},
   "outputs": [],
   "source": [
    "%matplotlib notebook"
   ]
  },
  {
   "cell_type": "code",
   "execution_count": 2,
   "metadata": {},
   "outputs": [],
   "source": [
    "import os\n",
    "import sys\n",
    "from collections import namedtuple"
   ]
  },
  {
   "cell_type": "code",
   "execution_count": 3,
   "metadata": {},
   "outputs": [],
   "source": [
    "import numpy as np"
   ]
  },
  {
   "cell_type": "code",
   "execution_count": 4,
   "metadata": {},
   "outputs": [],
   "source": [
    "import imageio\n",
    "from IPython.display import HTML"
   ]
  },
  {
   "cell_type": "code",
   "execution_count": 5,
   "metadata": {},
   "outputs": [],
   "source": [
    "import matplotlib.pyplot as plt\n",
    "from matplotlib import animation, rc, ticker\n",
    "from mpl_toolkits.mplot3d.axes3d import Axes3D\n",
    "plt.ioff()"
   ]
  },
  {
   "cell_type": "code",
   "execution_count": 6,
   "metadata": {},
   "outputs": [],
   "source": [
    "import seaborn as sns\n",
    "sns.set()"
   ]
  },
  {
   "cell_type": "code",
   "execution_count": 7,
   "metadata": {},
   "outputs": [],
   "source": [
    "module_path = os.path.abspath(os.path.join('..'))\n",
    "if module_path not in sys.path:\n",
    "    sys.path.append(module_path)"
   ]
  },
  {
   "cell_type": "code",
   "execution_count": 8,
   "metadata": {},
   "outputs": [],
   "source": [
    "from regression_models import PolynomialRegression"
   ]
  },
  {
   "cell_type": "markdown",
   "metadata": {},
   "source": [
    "## Data Preparation"
   ]
  },
  {
   "cell_type": "markdown",
   "metadata": {},
   "source": [
    "The data is stored in $D$ in the form $D[run][visdepth][timestep][\\alpha][\\beta] = performance$\n",
    "\n",
    "where:\n",
    "\n",
    "$\\alpha = 10 \\times \\mbox{learning rate} $\n",
    "\n",
    "$\\beta = 10 \\times \\mbox{discount rate} $\n",
    "\n",
    "Note that $D$ is automatically averaged over runs"
   ]
  },
  {
   "cell_type": "code",
   "execution_count": 9,
   "metadata": {},
   "outputs": [],
   "source": [
    "num_runs = 10\n",
    "max_vis_depth = 4\n",
    "num_steps = 10\n",
    "n = 11"
   ]
  },
  {
   "cell_type": "code",
   "execution_count": 10,
   "metadata": {},
   "outputs": [],
   "source": [
    "step_size = 10\n",
    "num_features = max_vis_depth * num_steps * n * n"
   ]
  },
  {
   "cell_type": "markdown",
   "metadata": {},
   "source": [
    "### Loading"
   ]
  },
  {
   "cell_type": "code",
   "execution_count": 11,
   "metadata": {},
   "outputs": [],
   "source": [
    "D = np.zeros((max_vis_depth + 1, num_steps + 1, n, n))"
   ]
  },
  {
   "cell_type": "code",
   "execution_count": 12,
   "metadata": {},
   "outputs": [],
   "source": [
    "for run in range(1, num_runs + 1):\n",
    "    for depth in range(1, max_vis_depth + 1):\n",
    "        dir_input = \"../sims/cat_mouse/data/\" + str(depth) + \"/data\" + str(run) + \".txt\"\n",
    "        with open(os.path.abspath(dir_input)) as f:\n",
    "            for line in f.readlines():\n",
    "                line = list(map(int, line.split()))\n",
    "                a = line[0]\n",
    "                b = line[1]\n",
    "                for i in range(2, num_steps + 2):\n",
    "                    step = i - 1\n",
    "                    perf = line[i]\n",
    "                    D[depth][step][a][b] += perf / num_runs"
   ]
  },
  {
   "cell_type": "markdown",
   "metadata": {},
   "source": [
    "### Preparation of Improvement Tables"
   ]
  },
  {
   "cell_type": "code",
   "execution_count": 13,
   "metadata": {},
   "outputs": [],
   "source": [
    "ArrayStats = namedtuple('ArrayStats', 'min ave max range')\n",
    "def get_stats(X):\n",
    "    xmin = np.amin(X)\n",
    "    xmax = np.amax(X)\n",
    "    return ArrayStats(xmin, sum(X.flatten()) / X.size, xmax, xmax - xmin)"
   ]
  },
  {
   "cell_type": "markdown",
   "metadata": {},
   "source": [
    "#### Calculation"
   ]
  },
  {
   "cell_type": "code",
   "execution_count": 14,
   "metadata": {},
   "outputs": [],
   "source": [
    "I = np.zeros((max_vis_depth + 1, num_steps + 1, n, n))"
   ]
  },
  {
   "cell_type": "code",
   "execution_count": 15,
   "metadata": {},
   "outputs": [],
   "source": [
    "for depth in range(1, max_vis_depth + 1):\n",
    "    for step in range(1, num_steps + 1):\n",
    "        I[depth][step] = (D[depth][step] - D[depth][step - 1]) / step_size"
   ]
  },
  {
   "cell_type": "code",
   "execution_count": 16,
   "metadata": {
    "scrolled": true
   },
   "outputs": [
    {
     "data": {
      "text/plain": [
       "ArrayStats(min=21.569999999999983, ave=72.748915289256175, max=208.19000000000005, range=186.62000000000006)"
      ]
     },
     "execution_count": 16,
     "metadata": {},
     "output_type": "execute_result"
    }
   ],
   "source": [
    "i_stats = get_stats(I[1:max_vis_depth + 1, 1:num_steps + 1])\n",
    "i_stats"
   ]
  },
  {
   "cell_type": "markdown",
   "metadata": {},
   "source": [
    "#### Normalization"
   ]
  },
  {
   "cell_type": "code",
   "execution_count": 17,
   "metadata": {},
   "outputs": [],
   "source": [
    "def normalize(X, stats):\n",
    "    return (stats.range - (X - stats.min)) / stats.range"
   ]
  },
  {
   "cell_type": "code",
   "execution_count": 18,
   "metadata": {},
   "outputs": [],
   "source": [
    "I_norm = normalize(I, i_stats)"
   ]
  },
  {
   "cell_type": "code",
   "execution_count": 19,
   "metadata": {},
   "outputs": [
    {
     "data": {
      "text/plain": [
       "ArrayStats(min=0.0, ave=0.72575867919163961, max=1.0, range=1.0)"
      ]
     },
     "execution_count": 19,
     "metadata": {},
     "output_type": "execute_result"
    }
   ],
   "source": [
    "i_norm_stats = get_stats(I_norm[1:max_vis_depth + 1, 1:num_steps + 1])\n",
    "i_norm_stats"
   ]
  },
  {
   "cell_type": "markdown",
   "metadata": {},
   "source": [
    "### Preparation of Mesh Grids"
   ]
  },
  {
   "cell_type": "code",
   "execution_count": 20,
   "metadata": {},
   "outputs": [],
   "source": [
    "def_depth = 1\n",
    "def_step = 10"
   ]
  },
  {
   "cell_type": "code",
   "execution_count": 21,
   "metadata": {},
   "outputs": [],
   "source": [
    "X_domain = np.linspace(0, 1, n)\n",
    "X = np.zeros((4, n, n))\n",
    "X[0] = np.full((n, n), def_depth)\n",
    "X[1] = np.full((n, n), def_step * step_size)\n",
    "X[2], X[3] = np.meshgrid(X_domain, X_domain)"
   ]
  },
  {
   "cell_type": "code",
   "execution_count": 22,
   "metadata": {},
   "outputs": [],
   "source": [
    "Y = I_norm[def_depth][def_step]"
   ]
  },
  {
   "cell_type": "code",
   "execution_count": 23,
   "metadata": {},
   "outputs": [
    {
     "data": {
      "text/plain": [
       "ArrayStats(min=0.40365448504983481, ave=0.79049219211532529, max=1.0, range=0.59634551495016519)"
      ]
     },
     "execution_count": 23,
     "metadata": {},
     "output_type": "execute_result"
    }
   ],
   "source": [
    "y_stats = get_stats(Y)\n",
    "y_stats"
   ]
  },
  {
   "cell_type": "markdown",
   "metadata": {},
   "source": [
    "## Data Visualization"
   ]
  },
  {
   "cell_type": "code",
   "execution_count": 24,
   "metadata": {},
   "outputs": [],
   "source": [
    "def plot_dist(X, figsize=(3, 3), load_only=False):\n",
    "    fig, ax = plt.subplots(1, 1, figsize=figsize)\n",
    "    \n",
    "    ax = sns.distplot(X, hist=False, color=\"b\", kde_kws={\"shade\": True}, ax=ax)\n",
    "    \n",
    "    # sns.despine(left=True, ax=ax)\n",
    "    ax.set_yticks([])\n",
    "    \n",
    "    plt.tight_layout()\n",
    "    plt.savefig(\"perf_vs_params/perf_dist.jpeg\", transparent=True)\n",
    "    \n",
    "    return HTML('<img src=\"perf_vs_params/perf_dist.jpeg\">')"
   ]
  },
  {
   "cell_type": "code",
   "execution_count": 25,
   "metadata": {},
   "outputs": [],
   "source": [
    "dist = plot_dist(I_norm[1:max_vis_depth + 1, 1:num_steps + 1].flatten(), figsize=(3, 3))"
   ]
  },
  {
   "cell_type": "code",
   "execution_count": 26,
   "metadata": {},
   "outputs": [
    {
     "data": {
      "text/html": [
       "<img src=\"perf_vs_params/perf_dist.jpeg\">"
      ],
      "text/plain": [
       "<IPython.core.display.HTML object>"
      ]
     },
     "execution_count": 26,
     "metadata": {},
     "output_type": "execute_result"
    }
   ],
   "source": [
    "dist"
   ]
  },
  {
   "cell_type": "code",
   "execution_count": 27,
   "metadata": {},
   "outputs": [],
   "source": [
    "vmin=0.5\n",
    "vmax=1.0"
   ]
  },
  {
   "cell_type": "markdown",
   "metadata": {},
   "source": [
    "### 2D Plots"
   ]
  },
  {
   "cell_type": "code",
   "execution_count": 28,
   "metadata": {
    "scrolled": false
   },
   "outputs": [],
   "source": [
    "def heatmap_anim_preprocess():\n",
    "    for step in range(1, num_steps + 1):\n",
    "        fig, axes = plt.subplots(2, 3, figsize=(6.3, 6), gridspec_kw={'width_ratios':[1, 1, 0.1], 'height_ratios':[1, 1]})\n",
    "\n",
    "        for i in range(2):\n",
    "            for j in range(2):\n",
    "                ax = sns.heatmap(I_norm[2*i + j + 1][step],\n",
    "                                 vmin=vmin, vmax=vmax,\n",
    "                                 cmap=sns.color_palette(\"Blues\", n_colors=100),\n",
    "                                 ax=axes[i][j],\n",
    "                                 cbar=False)\n",
    "\n",
    "                if i == 1:\n",
    "                    ax.set_xticks(np.linspace(0, 10, 6) + .5)\n",
    "                    ax.set_xticklabels(np.linspace(0, 1, 6))\n",
    "                else:\n",
    "                    ax.set_xticks([])\n",
    "\n",
    "                if j == 0:\n",
    "                    ax.set_yticks(np.linspace(0, 10, 6) + 0.8)\n",
    "                    ax.set_yticklabels(np.linspace(0, 1, 6))\n",
    "                else:\n",
    "                    ax.set_yticks([])\n",
    "\n",
    "                ax.set_xlabel('')\n",
    "                ax.set_ylabel('')\n",
    "\n",
    "                ax.invert_yaxis()\n",
    "\n",
    "        mappable = axes[0][0].get_children()[0]\n",
    "        plt.colorbar(mappable, ax=axes, orientation='vertical', ticks=[], cax=axes[0][2], extend='max');\n",
    "        plt.colorbar(mappable, ax=axes, orientation='vertical', ticks=[], cax=axes[1][2], extend='max');\n",
    "\n",
    "        plt.tight_layout()\n",
    "        plt.savefig(\"perf_vs_params/2D/depth_heatmap/%d.jpeg\" % step, transparent=True)\n",
    "        plt.close()"
   ]
  },
  {
   "cell_type": "code",
   "execution_count": 29,
   "metadata": {},
   "outputs": [],
   "source": [
    "def heatmap_anim_get_gif(load_only=False, fps=1):\n",
    "    images = []\n",
    "    for step in range(1, num_steps + 1):\n",
    "        images.append(imageio.imread(\"perf_vs_params/2D/depth_heatmap/%d.jpeg\" % step))\n",
    "    imageio.mimsave(\"perf_vs_params/2D/depth_heatmap/anim.gif\", images, fps=fps)\n",
    "    \n",
    "    return HTML('<img src=\"perf_vs_params/2D/depth_heatmap/anim.gif\">')"
   ]
  },
  {
   "cell_type": "code",
   "execution_count": 30,
   "metadata": {
    "scrolled": true
   },
   "outputs": [],
   "source": [
    "heatmap_anim_preprocess()"
   ]
  },
  {
   "cell_type": "code",
   "execution_count": 31,
   "metadata": {},
   "outputs": [],
   "source": [
    "heatmap_gif = heatmap_anim_get_gif()"
   ]
  },
  {
   "cell_type": "code",
   "execution_count": 32,
   "metadata": {},
   "outputs": [
    {
     "data": {
      "text/html": [
       "<img src=\"perf_vs_params/2D/depth_heatmap/anim.gif\">"
      ],
      "text/plain": [
       "<IPython.core.display.HTML object>"
      ]
     },
     "execution_count": 32,
     "metadata": {},
     "output_type": "execute_result"
    }
   ],
   "source": [
    "heatmap_gif"
   ]
  },
  {
   "cell_type": "code",
   "execution_count": 39,
   "metadata": {},
   "outputs": [],
   "source": [
    "plt.imshow(V,\n",
    "           extent=[-0.5, 10.5, -0.5, 10.5], \n",
    "           origin='lower',\n",
    "           interpolation='nearest',\n",
    "           vmin=vmin,\n",
    "           vmax=vmax,\n",
    "           cmap=plt.cm.coolwarm)\n",
    "plt.colorbar(boundaries=np.linspace(vmin, vmax, 200),\n",
    "             spacing='uniform',\n",
    "             label='Agent Performance',\n",
    "             ticks=[],\n",
    "             extend='max')\n",
    "plt.grid(False)"
   ]
  },
  {
   "cell_type": "markdown",
   "metadata": {},
   "source": [
    "### Regression"
   ]
  },
  {
   "cell_type": "code",
   "execution_count": 26,
   "metadata": {},
   "outputs": [],
   "source": [
    "model = PolynomialRegression(X, Y)"
   ]
  },
  {
   "cell_type": "markdown",
   "metadata": {},
   "source": [
    "#### Linear model"
   ]
  },
  {
   "cell_type": "code",
   "execution_count": 27,
   "metadata": {},
   "outputs": [
    {
     "name": "stdout",
     "output_type": "stream",
     "text": [
      "0.000091*1 + 0.000091*x0 + 0.009132*x1 + -0.056874*x2 + -0.188991*x3\n"
     ]
    }
   ],
   "source": [
    "lin_model = model.process(degree=1)\n",
    "lin_model.print_func()"
   ]
  },
  {
   "cell_type": "code",
   "execution_count": 28,
   "metadata": {},
   "outputs": [
    {
     "name": "stdout",
     "output_type": "stream",
     "text": [
      "0.235152011463\n"
     ]
    }
   ],
   "source": [
    "print(lin_model.r_squared)"
   ]
  },
  {
   "cell_type": "markdown",
   "metadata": {},
   "source": [
    "#### Quadratic model"
   ]
  },
  {
   "cell_type": "code",
   "execution_count": 29,
   "metadata": {
    "scrolled": true
   },
   "outputs": [
    {
     "name": "stdout",
     "output_type": "stream",
     "text": [
      "0.000000*1 + 0.000000*x0 + 0.000001*x1 + 0.000044*x2 + 0.000057*x3 + 0.000000*x0^2 + 0.000001*x0*x1 + 0.000044*x0*x2 + 0.000057*x0*x3 + 0.000074*x1^2 + 0.004428*x1*x2 + 0.005738*x1*x3 + -0.604418*x2^2 + 0.209299*x2*x3 + -0.867604*x3^2\n"
     ]
    }
   ],
   "source": [
    "quad_model = model.process(degree=2)\n",
    "quad_model.print_func()"
   ]
  },
  {
   "cell_type": "code",
   "execution_count": 30,
   "metadata": {},
   "outputs": [
    {
     "name": "stdout",
     "output_type": "stream",
     "text": [
      "0.78807150507\n"
     ]
    }
   ],
   "source": [
    "print(quad_model.r_squared)"
   ]
  },
  {
   "cell_type": "markdown",
   "metadata": {},
   "source": [
    "#### Cubic model"
   ]
  },
  {
   "cell_type": "code",
   "execution_count": 31,
   "metadata": {},
   "outputs": [
    {
     "name": "stdout",
     "output_type": "stream",
     "text": [
      "0.000000*1 + 0.000000*x0 + 0.000000*x1 + 0.000000*x2 + 0.000000*x3 + 0.000000*x0^2 + 0.000000*x0*x1 + 0.000000*x0*x2 + 0.000000*x0*x3 + 0.000000*x1^2 + 0.000000*x1*x2 + 0.000001*x1*x3 + -0.000040*x2^2 + 0.000051*x2*x3 + -0.000137*x3^2 + 0.000000*x0^3 + 0.000000*x0^2*x1 + 0.000000*x0^2*x2 + 0.000000*x0^2*x3 + 0.000000*x0*x1^2 + 0.000000*x0*x1*x2 + 0.000001*x0*x1*x3 + -0.000040*x0*x2^2 + 0.000051*x0*x2*x3 + -0.000137*x0*x3^2 + 0.000001*x1^3 + 0.000026*x1^2*x2 + 0.000074*x1^2*x3 + -0.004047*x1*x2^2 + 0.005088*x1*x2*x3 + -0.013665*x1*x3^2 + 0.002643*x2^3 + -0.407209*x2^2*x3 + 0.107606*x2*x3^2 + 0.296936*x3^3\n"
     ]
    }
   ],
   "source": [
    "cube_model = model.process(degree=3)\n",
    "cube_model.print_func()"
   ]
  },
  {
   "cell_type": "code",
   "execution_count": 32,
   "metadata": {},
   "outputs": [
    {
     "name": "stdout",
     "output_type": "stream",
     "text": [
      "0.799414450235\n"
     ]
    }
   ],
   "source": [
    "print(cube_model.r_squared)"
   ]
  },
  {
   "cell_type": "markdown",
   "metadata": {},
   "source": [
    "### 3D Plotting"
   ]
  },
  {
   "cell_type": "code",
   "execution_count": 65,
   "metadata": {},
   "outputs": [],
   "source": [
    "def plot_animate_preprocess(model, degree):\n",
    "    fig = plt.figure(figsize=(6, 6))\n",
    "    ax = fig.add_subplot(1, 1, 1, projection='3d')\n",
    "    \n",
    "    p = model.plot(ax, X[2], X[3], Y[0], idx=(2, 3), wireframe=True, show_contours=False)\n",
    "    q = model.plot(ax, X[2], X[3], model.process(degree=degree).predict(), \n",
    "                   idx=(2,3), lims=((-0.5, 1.0), (0.0, 1.5), (0, 15000)),\n",
    "                   show_labels=True, labels=(\"Learning Rate\", \"Discount Rate\", \"Agent Performance\"))\n",
    "\n",
    "    formatter = ticker.ScalarFormatter(useMathText=True)\n",
    "    formatter.set_scientific(True) \n",
    "    formatter.set_powerlimits((-1,1)) \n",
    "    ax.zaxis.set_major_formatter(formatter)\n",
    "\n",
    "    fig.patch.set_alpha(0.)\n",
    "    ax.patch.set_alpha(0.0)\n",
    "    ax.grid(False)\n",
    "    \n",
    "    for ii in range(0, 360, 1):\n",
    "        ax.view_init(elev=30., azim=ii)\n",
    "        plt.savefig(\"perf_vs_params/3D/%d/frame%d.jpeg\" % (degree, ii), transparent=True)"
   ]
  },
  {
   "cell_type": "code",
   "execution_count": 66,
   "metadata": {},
   "outputs": [],
   "source": [
    "def plot_animate_beta(degree, secs=6, fps=60):\n",
    "    frame_steps = 360 // (secs * fps)\n",
    "    \n",
    "    images = []\n",
    "    for ii in range(0, 360, frame_steps):\n",
    "        images.append(imageio.imread(\"perf_vs_params/%d/frame%d.jpeg\" % (degree,ii)))\n",
    "    imageio.mimsave(\"perf_vs_params/3D/%d/anim%d.gif\" % (degree, fps), images, fps=60)\n",
    "    \n",
    "    return HTML('<img src=\"perf_vs_params/3D/%d/anim%d.gif\">' % (degree, fps))"
   ]
  },
  {
   "cell_type": "markdown",
   "metadata": {},
   "source": [
    "#### Linear Estimate"
   ]
  },
  {
   "cell_type": "code",
   "execution_count": 24,
   "metadata": {},
   "outputs": [],
   "source": [
    "plot_animate_preprocess(model, degree=1)"
   ]
  },
  {
   "cell_type": "code",
   "execution_count": 24,
   "metadata": {},
   "outputs": [],
   "source": [
    "anim1 = plot_animate_beta(degree=1, secs=6, fps=60)"
   ]
  },
  {
   "cell_type": "code",
   "execution_count": 69,
   "metadata": {},
   "outputs": [
    {
     "data": {
      "text/html": [
       "<img src=\"perf_vs_params/3D/1/anim60.gif\">"
      ],
      "text/plain": [
       "<IPython.core.display.HTML object>"
      ]
     },
     "execution_count": 69,
     "metadata": {},
     "output_type": "execute_result"
    }
   ],
   "source": [
    "anim1"
   ]
  },
  {
   "cell_type": "markdown",
   "metadata": {},
   "source": [
    "#### Quadratic Estimate"
   ]
  },
  {
   "cell_type": "code",
   "execution_count": 26,
   "metadata": {},
   "outputs": [],
   "source": [
    "plot_animate_preprocess(model, degree=2)"
   ]
  },
  {
   "cell_type": "code",
   "execution_count": 26,
   "metadata": {},
   "outputs": [],
   "source": [
    "anim2 = plot_animate_beta(degree=2, secs=6, fps=60)"
   ]
  },
  {
   "cell_type": "code",
   "execution_count": 27,
   "metadata": {},
   "outputs": [
    {
     "data": {
      "text/html": [
       "<img src=\"perf_vs_params/2/anim60.gif\">"
      ],
      "text/plain": [
       "<IPython.core.display.HTML object>"
      ]
     },
     "execution_count": 27,
     "metadata": {},
     "output_type": "execute_result"
    }
   ],
   "source": [
    "anim2"
   ]
  },
  {
   "cell_type": "markdown",
   "metadata": {},
   "source": [
    "#### Cubic Estimate"
   ]
  },
  {
   "cell_type": "code",
   "execution_count": 28,
   "metadata": {},
   "outputs": [],
   "source": [
    "plot_animate_preprocess(model, degree=3)"
   ]
  },
  {
   "cell_type": "code",
   "execution_count": 29,
   "metadata": {},
   "outputs": [],
   "source": [
    "anim3 = plot_animate_beta(degree=3, secs=6, fps=60)"
   ]
  },
  {
   "cell_type": "code",
   "execution_count": 30,
   "metadata": {},
   "outputs": [
    {
     "data": {
      "text/html": [
       "<img src=\"perf_vs_params/3/anim60.gif\">"
      ],
      "text/plain": [
       "<IPython.core.display.HTML object>"
      ]
     },
     "execution_count": 30,
     "metadata": {},
     "output_type": "execute_result"
    }
   ],
   "source": [
    "anim3"
   ]
  },
  {
   "cell_type": "code",
   "execution_count": null,
   "metadata": {},
   "outputs": [],
   "source": []
  }
 ],
 "metadata": {
  "kernelspec": {
   "display_name": "Python 3",
   "language": "python",
   "name": "python3"
  },
  "language_info": {
   "codemirror_mode": {
    "name": "ipython",
    "version": 3
   },
   "file_extension": ".py",
   "mimetype": "text/x-python",
   "name": "python",
   "nbconvert_exporter": "python",
   "pygments_lexer": "ipython3",
   "version": "3.5.3"
  }
 },
 "nbformat": 4,
 "nbformat_minor": 2
}
