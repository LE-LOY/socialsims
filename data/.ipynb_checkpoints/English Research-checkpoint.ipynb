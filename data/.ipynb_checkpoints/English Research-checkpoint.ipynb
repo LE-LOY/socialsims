{
 "cells": [
  {
   "cell_type": "code",
   "execution_count": 1,
   "metadata": {},
   "outputs": [],
   "source": [
    "%matplotlib notebook\n",
    "import matplotlib.pyplot as plt\n",
    "plt.ioff()\n",
    "\n",
    "import numpy as np\n",
    "\n",
    "import math"
   ]
  },
  {
   "cell_type": "markdown",
   "metadata": {},
   "source": [
    "## Data Preparation"
   ]
  },
  {
   "cell_type": "markdown",
   "metadata": {},
   "source": [
    "### Initialization of Values"
   ]
  },
  {
   "cell_type": "code",
   "execution_count": 2,
   "metadata": {},
   "outputs": [],
   "source": [
    "M_cnt = 13\n",
    "F_cnt = 10\n",
    "q_cnt = 10"
   ]
  },
  {
   "cell_type": "code",
   "execution_count": 3,
   "metadata": {},
   "outputs": [],
   "source": [
    "M_dist = np.array([[0, 2, 5, 4, 2],\n",
    "                  [1, 2, 4, 3, 3],\n",
    "                  [0, 2, 5, 6, 0],\n",
    "                  [0, 2, 6, 3, 2],\n",
    "                  [0, 3, 2, 3, 5],\n",
    "                  [0, 4, 6, 1, 2],\n",
    "                  [2, 4, 5, 1, 1],\n",
    "                  [1, 4, 3, 3, 2],\n",
    "                  [0, 4, 3, 4, 2],\n",
    "                  [1, 5, 7, 0, 0]])"
   ]
  },
  {
   "cell_type": "code",
   "execution_count": 4,
   "metadata": {},
   "outputs": [],
   "source": [
    "F_dist = np.array([[0, 0, 9, 1, 0],\n",
    "                  [1, 3, 5, 1, 0],\n",
    "                  [0, 0, 4, 3, 3],\n",
    "                  [0, 3, 3, 4, 0],\n",
    "                  [1, 3, 4, 1, 1],\n",
    "                  [0, 8, 0, 1, 1],\n",
    "                  [1, 5, 2, 2, 0],\n",
    "                  [1, 1, 5, 1, 2],\n",
    "                  [0, 3, 3, 2, 2],\n",
    "                  [0, 2, 4, 4, 0]])"
   ]
  },
  {
   "cell_type": "code",
   "execution_count": 5,
   "metadata": {},
   "outputs": [],
   "source": [
    "def expand_dist(X):\n",
    "    return np.array([[0]*x[0] +\n",
    "                     [1]*x[1] +\n",
    "                     [2]*x[2] +\n",
    "                     [3]*x[3] +\n",
    "                     [4]*x[4] for x in X])"
   ]
  },
  {
   "cell_type": "code",
   "execution_count": 6,
   "metadata": {},
   "outputs": [
    {
     "data": {
      "text/plain": [
       "array([[1, 1, 2, 2, 2, 2, 2, 3, 3, 3, 3, 4, 4],\n",
       "       [0, 1, 1, 2, 2, 2, 2, 3, 3, 3, 4, 4, 4],\n",
       "       [1, 1, 2, 2, 2, 2, 2, 3, 3, 3, 3, 3, 3],\n",
       "       [1, 1, 2, 2, 2, 2, 2, 2, 3, 3, 3, 4, 4],\n",
       "       [1, 1, 1, 2, 2, 3, 3, 3, 4, 4, 4, 4, 4],\n",
       "       [1, 1, 1, 1, 2, 2, 2, 2, 2, 2, 3, 4, 4],\n",
       "       [0, 0, 1, 1, 1, 1, 2, 2, 2, 2, 2, 3, 4],\n",
       "       [0, 1, 1, 1, 1, 2, 2, 2, 3, 3, 3, 4, 4],\n",
       "       [1, 1, 1, 1, 2, 2, 2, 3, 3, 3, 3, 4, 4],\n",
       "       [0, 1, 1, 1, 1, 1, 2, 2, 2, 2, 2, 2, 2]])"
      ]
     },
     "execution_count": 6,
     "metadata": {},
     "output_type": "execute_result"
    }
   ],
   "source": [
    "M = expand_dist(M_dist)\n",
    "M"
   ]
  },
  {
   "cell_type": "code",
   "execution_count": 7,
   "metadata": {},
   "outputs": [
    {
     "data": {
      "text/plain": [
       "array([[2, 2, 2, 2, 2, 2, 2, 2, 2, 3],\n",
       "       [0, 1, 1, 1, 2, 2, 2, 2, 2, 3],\n",
       "       [2, 2, 2, 2, 3, 3, 3, 4, 4, 4],\n",
       "       [1, 1, 1, 2, 2, 2, 3, 3, 3, 3],\n",
       "       [0, 1, 1, 1, 2, 2, 2, 2, 3, 4],\n",
       "       [1, 1, 1, 1, 1, 1, 1, 1, 3, 4],\n",
       "       [0, 1, 1, 1, 1, 1, 2, 2, 3, 3],\n",
       "       [0, 1, 2, 2, 2, 2, 2, 3, 4, 4],\n",
       "       [1, 1, 1, 2, 2, 2, 3, 3, 4, 4],\n",
       "       [1, 1, 2, 2, 2, 2, 3, 3, 3, 3]])"
      ]
     },
     "execution_count": 7,
     "metadata": {},
     "output_type": "execute_result"
    }
   ],
   "source": [
    "F = expand_dist(F_dist)\n",
    "F"
   ]
  },
  {
   "cell_type": "markdown",
   "metadata": {},
   "source": [
    "### Checking the Validity of the Arrays"
   ]
  },
  {
   "cell_type": "code",
   "execution_count": 8,
   "metadata": {},
   "outputs": [],
   "source": [
    "def check_array(X, X_dist, cnt):\n",
    "    for i in range(10):\n",
    "        if sum(X_dist[i]) != cnt:\n",
    "            return False\n",
    "        if len(X[i]) != cnt:\n",
    "            return False\n",
    "    return True"
   ]
  },
  {
   "cell_type": "code",
   "execution_count": 9,
   "metadata": {},
   "outputs": [
    {
     "data": {
      "text/plain": [
       "True"
      ]
     },
     "execution_count": 9,
     "metadata": {},
     "output_type": "execute_result"
    }
   ],
   "source": [
    "check_array(M, M_dist, M_cnt)"
   ]
  },
  {
   "cell_type": "code",
   "execution_count": 10,
   "metadata": {},
   "outputs": [
    {
     "data": {
      "text/plain": [
       "True"
      ]
     },
     "execution_count": 10,
     "metadata": {},
     "output_type": "execute_result"
    }
   ],
   "source": [
    "check_array(F, F_dist, F_cnt)"
   ]
  },
  {
   "cell_type": "markdown",
   "metadata": {},
   "source": [
    "## Plots"
   ]
  },
  {
   "cell_type": "code",
   "execution_count": null,
   "metadata": {},
   "outputs": [],
   "source": []
  },
  {
   "cell_type": "markdown",
   "metadata": {},
   "source": [
    "## Data Analysis"
   ]
  },
  {
   "cell_type": "markdown",
   "metadata": {},
   "source": [
    "##### Sum"
   ]
  },
  {
   "cell_type": "code",
   "execution_count": 11,
   "metadata": {},
   "outputs": [
    {
     "data": {
      "text/plain": [
       "array([ 5, 32, 46, 28, 19])"
      ]
     },
     "execution_count": 11,
     "metadata": {},
     "output_type": "execute_result"
    }
   ],
   "source": [
    "M_dist_sum = M_dist.T.sum(axis=1)\n",
    "M_dist_sum"
   ]
  },
  {
   "cell_type": "code",
   "execution_count": 12,
   "metadata": {},
   "outputs": [
    {
     "data": {
      "text/plain": [
       "130"
      ]
     },
     "execution_count": 12,
     "metadata": {},
     "output_type": "execute_result"
    }
   ],
   "source": [
    "sum(M_dist_sum)"
   ]
  },
  {
   "cell_type": "code",
   "execution_count": 13,
   "metadata": {
    "scrolled": true
   },
   "outputs": [
    {
     "data": {
      "text/plain": [
       "array([ 4, 28, 39, 20,  9])"
      ]
     },
     "execution_count": 13,
     "metadata": {},
     "output_type": "execute_result"
    }
   ],
   "source": [
    "F_dist_sum = F_dist.T.sum(axis=1)\n",
    "F_dist_sum"
   ]
  },
  {
   "cell_type": "code",
   "execution_count": 14,
   "metadata": {},
   "outputs": [
    {
     "data": {
      "text/plain": [
       "100"
      ]
     },
     "execution_count": 14,
     "metadata": {},
     "output_type": "execute_result"
    }
   ],
   "source": [
    "sum(F_dist_sum)"
   ]
  },
  {
   "cell_type": "markdown",
   "metadata": {},
   "source": [
    "##### Means"
   ]
  },
  {
   "cell_type": "code",
   "execution_count": 15,
   "metadata": {},
   "outputs": [
    {
     "data": {
      "text/plain": [
       "2.1846153846153844"
      ]
     },
     "execution_count": 15,
     "metadata": {},
     "output_type": "execute_result"
    }
   ],
   "source": [
    "M.mean()"
   ]
  },
  {
   "cell_type": "code",
   "execution_count": 16,
   "metadata": {},
   "outputs": [
    {
     "data": {
      "text/plain": [
       "2.02"
      ]
     },
     "execution_count": 16,
     "metadata": {},
     "output_type": "execute_result"
    }
   ],
   "source": [
    "F.mean()"
   ]
  },
  {
   "cell_type": "markdown",
   "metadata": {},
   "source": [
    "##### Standard Deviation"
   ]
  },
  {
   "cell_type": "code",
   "execution_count": 17,
   "metadata": {},
   "outputs": [
    {
     "data": {
      "text/plain": [
       "1.079776439714867"
      ]
     },
     "execution_count": 17,
     "metadata": {},
     "output_type": "execute_result"
    }
   ],
   "source": [
    "np.std(M)"
   ]
  },
  {
   "cell_type": "code",
   "execution_count": 18,
   "metadata": {},
   "outputs": [
    {
     "data": {
      "text/plain": [
       "0.9997999799959989"
      ]
     },
     "execution_count": 18,
     "metadata": {},
     "output_type": "execute_result"
    }
   ],
   "source": [
    "np.std(F)"
   ]
  },
  {
   "cell_type": "markdown",
   "metadata": {},
   "source": [
    "### Z-Test"
   ]
  },
  {
   "cell_type": "markdown",
   "metadata": {},
   "source": [
    "claim: Males and Females have equally effective listening habits\n",
    "\n",
    "H0: Males and Females have equally effective listening habits\n",
    "H1: Males and Females have unequally effective listening habits"
   ]
  },
  {
   "cell_type": "markdown",
   "metadata": {},
   "source": [
    "$\\alpha$ = 0.05"
   ]
  },
  {
   "cell_type": "code",
   "execution_count": 19,
   "metadata": {},
   "outputs": [],
   "source": [
    "def calc_z_value(X0, X1):\n",
    "    return ((X0.mean() - X1.mean()) / \n",
    "            math.sqrt((np.std(X0)**2/X0.size) + (np.std(X1)**2/X1.size)))"
   ]
  },
  {
   "cell_type": "code",
   "execution_count": 20,
   "metadata": {},
   "outputs": [
    {
     "data": {
      "text/plain": [
       "1.1953598141296586"
      ]
     },
     "execution_count": 20,
     "metadata": {},
     "output_type": "execute_result"
    }
   ],
   "source": [
    "z = calc_z_value(M, F)\n",
    "z"
   ]
  },
  {
   "cell_type": "markdown",
   "metadata": {},
   "source": [
    "Do not reject the null hypothesis, since -1.96 < 0.7209 < 1.96"
   ]
  },
  {
   "cell_type": "code",
   "execution_count": 29,
   "metadata": {},
   "outputs": [
    {
     "name": "stdout",
     "output_type": "stream",
     "text": [
      "Habit #1: Equally effective\n",
      "Habit #2: Equally effective\n",
      "Habit #3: Equally effective\n",
      "Habit #4: Equally effective\n",
      "Habit #5: Males are better\n",
      "Habit #6: Equally effective\n",
      "Habit #7: Equally effective\n",
      "Habit #8: Equally effective\n",
      "Habit #9: Equally effective\n",
      "Habit #10: Females are better\n"
     ]
    }
   ],
   "source": [
    "for i in range(10):\n",
    "    z_i = calc_z_value(M[i], F[i])\n",
    "    res = \"Equally effective\"\n",
    "    if z_i < -1.96:\n",
    "        res = \"Females are better\"\n",
    "    elif z_i > 1.96:\n",
    "        res = \"Males are better\"\n",
    "    print(\"Habit #{}: {}\".format(i+1, res))"
   ]
  },
  {
   "cell_type": "code",
   "execution_count": null,
   "metadata": {},
   "outputs": [],
   "source": []
  }
 ],
 "metadata": {
  "kernelspec": {
   "display_name": "Python 3",
   "language": "python",
   "name": "python3"
  },
  "language_info": {
   "codemirror_mode": {
    "name": "ipython",
    "version": 3
   },
   "file_extension": ".py",
   "mimetype": "text/x-python",
   "name": "python",
   "nbconvert_exporter": "python",
   "pygments_lexer": "ipython3",
   "version": "3.5.3"
  }
 },
 "nbformat": 4,
 "nbformat_minor": 2
}
