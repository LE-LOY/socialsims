{
 "cells": [
  {
   "cell_type": "code",
   "execution_count": 10,
   "metadata": {},
   "outputs": [
    {
     "name": "stdout",
     "output_type": "stream",
     "text": [
      "[<mpl_toolkits.mplot3d.art3d.Line3D object at 0x000000000A0A5278>, <mpl_toolkits.mplot3d.art3d.Line3D object at 0x000000000A0A5780>, <mpl_toolkits.mplot3d.art3d.Line3D object at 0x000000000A0A5BE0>, <mpl_toolkits.mplot3d.art3d.Line3D object at 0x000000000A0A5D68>, <mpl_toolkits.mplot3d.art3d.Line3D object at 0x000000000A0974E0>, <mpl_toolkits.mplot3d.art3d.Line3D object at 0x000000000A097940>, <mpl_toolkits.mplot3d.art3d.Line3D object at 0x000000000A097DA0>, <mpl_toolkits.mplot3d.art3d.Line3D object at 0x000000000A097F28>, <mpl_toolkits.mplot3d.art3d.Line3D object at 0x000000000A0D16A0>, <mpl_toolkits.mplot3d.art3d.Line3D object at 0x000000000A0D1B00>, <mpl_toolkits.mplot3d.art3d.Line3D object at 0x000000000A0D1F60>, <mpl_toolkits.mplot3d.art3d.Line3D object at 0x000000000A0DE400>, <mpl_toolkits.mplot3d.art3d.Line3D object at 0x000000000A0DE860>, <mpl_toolkits.mplot3d.art3d.Line3D object at 0x000000000A0DECC0>, <mpl_toolkits.mplot3d.art3d.Line3D object at 0x000000000A0DEE48>, <mpl_toolkits.mplot3d.art3d.Line3D object at 0x000000000A0D75C0>, <mpl_toolkits.mplot3d.art3d.Line3D object at 0x000000000A0D7A20>, <mpl_toolkits.mplot3d.art3d.Line3D object at 0x000000000A0D7E80>, <mpl_toolkits.mplot3d.art3d.Line3D object at 0x000000000A0EB320>, <mpl_toolkits.mplot3d.art3d.Line3D object at 0x000000000A0EB780>, <mpl_toolkits.mplot3d.art3d.Line3D object at 0x000000000A088A90>, <mpl_toolkits.mplot3d.art3d.Line3D object at 0x000000000A0EBD68>, <mpl_toolkits.mplot3d.art3d.Line3D object at 0x000000000A0E64E0>, <mpl_toolkits.mplot3d.art3d.Line3D object at 0x000000000A0E6940>, <mpl_toolkits.mplot3d.art3d.Line3D object at 0x000000000A0E6DA0>, <mpl_toolkits.mplot3d.art3d.Line3D object at 0x000000000A0E6F28>, <mpl_toolkits.mplot3d.art3d.Line3D object at 0x000000000A0FC6A0>, <mpl_toolkits.mplot3d.art3d.Line3D object at 0x000000000A0FCB00>, <mpl_toolkits.mplot3d.art3d.Line3D object at 0x000000000A0FCF60>, <mpl_toolkits.mplot3d.art3d.Line3D object at 0x0000000008456400>, <mpl_toolkits.mplot3d.art3d.Line3D object at 0x000000000A0EBBE0>, <mpl_toolkits.mplot3d.art3d.Line3D object at 0x0000000008456CC0>, <mpl_toolkits.mplot3d.art3d.Line3D object at 0x0000000008456E48>, <mpl_toolkits.mplot3d.art3d.Line3D object at 0x000000000848C5C0>, <mpl_toolkits.mplot3d.art3d.Line3D object at 0x000000000848CA20>, <mpl_toolkits.mplot3d.art3d.Line3D object at 0x000000000848CE80>, <mpl_toolkits.mplot3d.art3d.Line3D object at 0x0000000008479320>, <mpl_toolkits.mplot3d.art3d.Line3D object at 0x0000000008479780>, <mpl_toolkits.mplot3d.art3d.Line3D object at 0x0000000008479BE0>, <mpl_toolkits.mplot3d.art3d.Line3D object at 0x0000000008479D68>, <mpl_toolkits.mplot3d.art3d.Line3D object at 0x0000000008456860>, <mpl_toolkits.mplot3d.art3d.Line3D object at 0x000000000845F940>, <mpl_toolkits.mplot3d.art3d.Line3D object at 0x000000000845FDA0>, <mpl_toolkits.mplot3d.art3d.Line3D object at 0x000000000845FF28>, <mpl_toolkits.mplot3d.art3d.Line3D object at 0x0000000007F9D6A0>, <mpl_toolkits.mplot3d.art3d.Line3D object at 0x0000000007F9DB00>, <mpl_toolkits.mplot3d.art3d.Line3D object at 0x0000000007F9DF60>, <mpl_toolkits.mplot3d.art3d.Line3D object at 0x0000000007F99400>, <mpl_toolkits.mplot3d.art3d.Line3D object at 0x0000000007F99860>, <mpl_toolkits.mplot3d.art3d.Line3D object at 0x0000000007F99CC0>]\n"
     ]
    },
    {
     "data": {
      "text/plain": [
       "'video = open(\"animation.mp4\", \"rb\").read()\\nHTML(video)\\nimport unicodedata\\nfrom IPython.display import HTML\\nvideo = open(\"animation.mp4\", \"rb\").read()\\nvideo_encoded = video.encode(\"base64\")\\nvideo_tag = \\'<video controls alt=\"test\" src=\"data:video/x-m4v;base64,{0}\">\\'.format(video_encoded)\\nHTML(video_tag)'"
      ]
     },
     "execution_count": 10,
     "metadata": {},
     "output_type": "execute_result"
    }
   ],
   "source": [
    "%matplotlib notebook\n",
    "\n",
    "import numpy as np\n",
    "import matplotlib.pyplot as plt\n",
    "import mpl_toolkits.mplot3d.axes3d as p3\n",
    "import matplotlib.animation as animation\n",
    "plt.ioff()\n",
    "\n",
    "# Fixing random state for reproducibility\n",
    "np.random.seed(19680801)\n",
    "\n",
    "\n",
    "def Gen_RandLine(length, dims=2):\n",
    "    \"\"\"\n",
    "    Create a line using a random walk algorithm\n",
    "\n",
    "    length is the number of points for the line.\n",
    "    dims is the number of dimensions the line has.\n",
    "    \"\"\"\n",
    "    lineData = np.empty((dims, length))\n",
    "    lineData[:, 0] = np.random.rand(dims)\n",
    "    for index in range(1, length):\n",
    "        # scaling the random numbers by 0.1 so\n",
    "        # movement is small compared to position.\n",
    "        # subtraction by 0.5 is to change the range to [-0.5, 0.5]\n",
    "        # to allow a line to move backwards.\n",
    "        step = ((np.random.rand(dims) - 0.5) * 0.1)\n",
    "        lineData[:, index] = lineData[:, index - 1] + step\n",
    "\n",
    "    return lineData\n",
    "\n",
    "\n",
    "def update_lines(num, dataLines, lines):\n",
    "    for line, data in zip(lines, dataLines):\n",
    "        # NOTE: there is no .set_data() for 3 dim data...\n",
    "        line.set_data(data[0:2, :num])\n",
    "        line.set_3d_properties(data[2, :num])\n",
    "    return lines\n",
    "\n",
    "# Attaching 3D axis to the figure\n",
    "fig = plt.figure()\n",
    "ax = p3.Axes3D(fig)\n",
    "\n",
    "# Fifty lines of random 3-D lines\n",
    "data = [Gen_RandLine(25, 3) for index in range(50)]\n",
    "\n",
    "# Creating fifty line objects.\n",
    "# NOTE: Can't pass empty arrays into 3d version of plot()\n",
    "lines = [ax.plot(dat[0, 0:1], dat[1, 0:1], dat[2, 0:1])[0] for dat in data]\n",
    "print(lines)\n",
    "# Setting the axes properties\n",
    "ax.set_xlim3d([0.0, 1.0])\n",
    "ax.set_xlabel('X')\n",
    "\n",
    "ax.set_ylim3d([0.0, 1.0])\n",
    "ax.set_ylabel('Y')\n",
    "\n",
    "ax.set_zlim3d([0.0, 1.0])\n",
    "ax.set_zlabel('Z')\n",
    "\n",
    "ax.set_title('3D Test')\n",
    "\n",
    "# Creating the Animation object\n",
    "line_ani = animation.FuncAnimation(fig, update_lines, 25, fargs=(data, lines),\n",
    "                                   interval=50, blit=False)\n",
    "\n",
    "Writer = animation.writers['ffmpeg']\n",
    "writer = Writer(fps=15, metadata=dict(artist='Me'), bitrate=1800)\n",
    "\n",
    "\n",
    "line_ani.save('animation.mp4', fps=10, writer=\"ffmpeg\", codec=\"libx264\")\n",
    "'''video = open(\"animation.mp4\", \"rb\").read()\n",
    "HTML(video)\n",
    "import unicodedata\n",
    "from IPython.display import HTML\n",
    "video = open(\"animation.mp4\", \"rb\").read()\n",
    "video_encoded = video.encode(\"base64\")\n",
    "video_tag = '<video controls alt=\"test\" src=\"data:video/x-m4v;base64,{0}\">'.format(video_encoded)\n",
    "HTML(video_tag)'''\n",
    "# plt.show()"
   ]
  },
  {
   "cell_type": "markdown",
   "metadata": {},
   "source": [
    "# Backup for the Cat and Mouse Data Analysis Tools"
   ]
  },
  {
   "cell_type": "code",
   "execution_count": 40,
   "metadata": {},
   "outputs": [],
   "source": [
    "def plot_3d(model, degree):\n",
    "    fig = plt.figure(figsize=(6, 6))\n",
    "    ax = fig.add_subplot(1, 1, 1, projection='3d')\n",
    "    \n",
    "    p = model.plot(ax, idx=(2, 3), Z=Y, plot_type='wireframe', show_contours=False)\n",
    "    q = model.plot(ax, idx=(2, 3), Z=model.process(degree=degree).predict(), \n",
    "                   lims=((0.0, 1.5), (0.0, 1.5), (0, 1)),\n",
    "                   show_labels=True, labels=(\"Learning Rate\", \"Discount Rate\", \"Agent Performance\"))\n",
    "\n",
    "    # formatter = ticker.ScalarFormatter(useMathText=True)\n",
    "    # formatter.set_scientific(True) \n",
    "    # formatter.set_powerlimits((-1,1)) \n",
    "    # ax.zaxis.set_major_formatter(formatter)\n",
    "\n",
    "    ax.set_xticks(np.linspace(0, 1, 6))\n",
    "    ax.set_yticks(np.linspace(0, 1, 6))\n",
    "    ax.set_zticks([0.0, 1.0])\n",
    "    ax.set_zticklabels(['low', 'high'])\n",
    "    \n",
    "    ax.invert_xaxis()\n",
    "    # ax.invert_yaxis()\n",
    "    # ax.invert_zaxis()\n",
    "    \n",
    "    fig.patch.set_alpha(0.)\n",
    "    ax.patch.set_alpha(0.0)\n",
    "    ax.grid(False)\n",
    "    \n",
    "    return ax"
   ]
  },
  {
   "cell_type": "code",
   "execution_count": 41,
   "metadata": {},
   "outputs": [],
   "source": [
    "def plot_animate_preprocess(model, degree):\n",
    "    ax = plot_3d(model, degree)\n",
    "    \n",
    "    for ii in range(0, 360, 1):\n",
    "        ax.view_init(elev=30., azim=ii)\n",
    "        plt.savefig(\"plots/regression/degree%d/frame%d.jpeg\" % (degree, ii), transparent=True)\n",
    "    \n",
    "    plt.close()"
   ]
  },
  {
   "cell_type": "code",
   "execution_count": 42,
   "metadata": {},
   "outputs": [],
   "source": [
    "def plot_animate_beta(degree, secs=6, fps=60):\n",
    "    frame_steps = 360 // (secs * fps)\n",
    "    \n",
    "    images = []\n",
    "    for ii in range(0, 360, frame_steps):\n",
    "        images.append(imageio.imread(\"plots/regression/degree%d/frame%d.jpeg\" % (degree,ii)))\n",
    "    imageio.mimsave(\"plots/regression/degree%d/anim%d.gif\" % (degree, fps), images, fps=60)\n",
    "    \n",
    "    return HTML('<img src=\"plots/regression/degree%d/anim%d.gif\">' % (degree, fps))"
   ]
  },
  {
   "cell_type": "code",
   "execution_count": null,
   "metadata": {},
   "outputs": [],
   "source": [
    "def plot_3d(model, degree):\n",
    "    fig = plt.figure(figsize=(6, 6))\n",
    "    ax = fig.add_subplot(1, 1, 1, projection='3d')\n",
    "    \n",
    "    p = model.plot(ax, idx=(2, 3), Z=Y, plot_type='wireframe', show_contours=False)\n",
    "    q = model.plot(ax, idx=(2, 3), Z=model.process(degree=degree).predict(), \n",
    "                   lims=((0.0, 1.5), (0.0, 1.5), (0, 1)),\n",
    "                   show_labels=True, labels=(\"Learning Rate\", \"Discount Rate\", \"Agent Performance\"))\n",
    "\n",
    "    # formatter = ticker.ScalarFormatter(useMathText=True)\n",
    "    # formatter.set_scientific(True) \n",
    "    # formatter.set_powerlimits((-1,1)) \n",
    "    # ax.zaxis.set_major_formatter(formatter)\n",
    "\n",
    "    ax.set_xticks(np.linspace(0, 1, 6))\n",
    "    ax.set_yticks(np.linspace(0, 1, 6))\n",
    "    ax.set_zticks([0.0, 1.0])\n",
    "    ax.set_zticklabels(['low', 'high'])\n",
    "    \n",
    "    ax.invert_xaxis()\n",
    "    # ax.invert_yaxis()\n",
    "    # ax.invert_zaxis()\n",
    "    \n",
    "    fig.patch.set_alpha(0.)\n",
    "    ax.patch.set_alpha(0.0)\n",
    "    ax.grid(False)\n",
    "    \n",
    "    return ax\n",
    "\n",
    "def plot_animate_preprocess(model, degree):\n",
    "    ax = plot_3d(model, degree)\n",
    "    \n",
    "    for ii in range(0, 360, 1):\n",
    "        ax.view_init(elev=30., azim=ii)\n",
    "        plt.savefig(\"plots/regression/degree%d/frame%d.jpeg\" % (degree, ii), transparent=True)\n",
    "    \n",
    "    plt.close()\n",
    "\n",
    "def plot_animate_beta(degree, secs=6, fps=60):\n",
    "    frame_steps = 360 // (secs * fps)\n",
    "    \n",
    "    images = []\n",
    "    for ii in range(0, 360, frame_steps):\n",
    "        images.append(imageio.imread(\"plots/regression/degree%d/frame%d.jpeg\" % (degree,ii)))\n",
    "    imageio.mimsave(\"plots/regression/degree%d/anim%d.gif\" % (degree, fps), images, fps=60)\n",
    "    \n",
    "    return HTML('<img src=\"plots/regression/degree%d/anim%d.gif\">' % (degree, fps))"
   ]
  },
  {
   "cell_type": "markdown",
   "metadata": {},
   "source": [
    "# Backup for animations"
   ]
  },
  {
   "cell_type": "code",
   "execution_count": null,
   "metadata": {},
   "outputs": [],
   "source": [
    "def random_seaborn_heatmap_animation():\n",
    "    nx = 50\n",
    "    ny = 50\n",
    "\n",
    "    fig = plt.figure(figsize=(3, 3))\n",
    "    data = np.random.rand(nx, ny)\n",
    "    sns.heatmap(data, vmax=.8, square=True)\n",
    "    \n",
    "    def init():\n",
    "        sns.heatmap(np.zeros((nx, ny)), vmax=.8, square=True)\n",
    "\n",
    "    def animate(i):\n",
    "        plt.clf()\n",
    "        data = np.random.rand(nx, ny)\n",
    "        sns.heatmap(data, vmax=.8, square=True)\n",
    "\n",
    "    anim = animation.FuncAnimation(fig, animate, init_func=init, frames=20, repeat=True)\n",
    "    anim.save('test_animation.mp4', fps=10, writer=\"ffmpeg\", codec=\"libx264\")\n",
    "    \n",
    "    return HTML(\"\"\"<video controls>\n",
    "                   <source src=\"test_animation.mp4\" type=\"video/mp4\">\n",
    "                   </video>\"\"\")"
   ]
  },
  {
   "cell_type": "code",
   "execution_count": null,
   "metadata": {},
   "outputs": [],
   "source": [
    "vid = random_seaborn_heatmap_animation()"
   ]
  },
  {
   "cell_type": "code",
   "execution_count": null,
   "metadata": {},
   "outputs": [],
   "source": []
  }
 ],
 "metadata": {
  "kernelspec": {
   "display_name": "Python 3",
   "language": "python",
   "name": "python3"
  },
  "language_info": {
   "codemirror_mode": {
    "name": "ipython",
    "version": 3
   },
   "file_extension": ".py",
   "mimetype": "text/x-python",
   "name": "python",
   "nbconvert_exporter": "python",
   "pygments_lexer": "ipython3",
   "version": "3.5.3"
  }
 },
 "nbformat": 4,
 "nbformat_minor": 2
}
