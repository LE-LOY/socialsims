{
 "cells": [
  {
   "cell_type": "code",
   "execution_count": 1,
   "metadata": {},
   "outputs": [],
   "source": [
    "%matplotlib notebook"
   ]
  },
  {
   "cell_type": "code",
   "execution_count": 2,
   "metadata": {},
   "outputs": [],
   "source": [
    "import os\n",
    "import sys\n",
    "from collections import namedtuple"
   ]
  },
  {
   "cell_type": "code",
   "execution_count": 3,
   "metadata": {},
   "outputs": [],
   "source": [
    "import numpy as np"
   ]
  },
  {
   "cell_type": "code",
   "execution_count": 39,
   "metadata": {},
   "outputs": [],
   "source": [
    "import imageio\n",
    "import moviepy.editor as mp\n",
    "from IPython.display import HTML"
   ]
  },
  {
   "cell_type": "code",
   "execution_count": 5,
   "metadata": {},
   "outputs": [],
   "source": [
    "import matplotlib.pyplot as plt\n",
    "from matplotlib import animation, rc, ticker\n",
    "from mpl_toolkits.mplot3d.axes3d import Axes3D\n",
    "plt.ioff()"
   ]
  },
  {
   "cell_type": "code",
   "execution_count": 6,
   "metadata": {},
   "outputs": [],
   "source": [
    "import seaborn as sns\n",
    "sns.set()"
   ]
  },
  {
   "cell_type": "code",
   "execution_count": 7,
   "metadata": {},
   "outputs": [],
   "source": [
    "module_path = os.path.abspath(os.path.join('..'))\n",
    "if module_path not in sys.path:\n",
    "    sys.path.append(module_path)"
   ]
  },
  {
   "cell_type": "code",
   "execution_count": 8,
   "metadata": {},
   "outputs": [],
   "source": [
    "from data.analysis_tools import PolynomialRegression"
   ]
  },
  {
   "cell_type": "markdown",
   "metadata": {},
   "source": [
    "## Data Preparation"
   ]
  },
  {
   "cell_type": "markdown",
   "metadata": {},
   "source": [
    "The data is stored in $D$ in the form $D[run][visdepth][timestep][\\alpha][\\beta] = performance$\n",
    "\n",
    "where:\n",
    "\n",
    "$\\alpha = 10 \\times \\mbox{learning rate} $\n",
    "\n",
    "$\\beta = 10 \\times \\mbox{discount rate} $\n",
    "\n",
    "Note that $D$ is automatically averaged over runs"
   ]
  },
  {
   "cell_type": "code",
   "execution_count": 9,
   "metadata": {},
   "outputs": [],
   "source": [
    "num_runs = 10\n",
    "max_vis_depth = 4\n",
    "num_steps = 10\n",
    "n = 11"
   ]
  },
  {
   "cell_type": "code",
   "execution_count": 10,
   "metadata": {},
   "outputs": [],
   "source": [
    "step_size = 10\n",
    "num_features = max_vis_depth * num_steps * n * n"
   ]
  },
  {
   "cell_type": "markdown",
   "metadata": {},
   "source": [
    "### Loading"
   ]
  },
  {
   "cell_type": "code",
   "execution_count": 11,
   "metadata": {},
   "outputs": [],
   "source": [
    "D = np.zeros((max_vis_depth + 1, num_steps + 1, n, n))"
   ]
  },
  {
   "cell_type": "code",
   "execution_count": 12,
   "metadata": {},
   "outputs": [],
   "source": [
    "for run in range(1, num_runs + 1):\n",
    "    for depth in range(1, max_vis_depth + 1):\n",
    "        dir_input = \"raw/cat_mouse/depth\" + str(depth) + \"/run\" + str(run) + \".txt\"\n",
    "        with open(os.path.abspath(dir_input)) as f:\n",
    "            for line in f.readlines():\n",
    "                line = list(map(int, line.split()))\n",
    "                a = line[0]\n",
    "                b = line[1]\n",
    "                for i in range(2, num_steps + 2):\n",
    "                    step = i - 1\n",
    "                    perf = line[i]\n",
    "                    D[depth][step][a][b] += perf / num_runs"
   ]
  },
  {
   "cell_type": "markdown",
   "metadata": {},
   "source": [
    "### Preparation of Improvement Tables"
   ]
  },
  {
   "cell_type": "code",
   "execution_count": 13,
   "metadata": {},
   "outputs": [],
   "source": [
    "ArrayStats = namedtuple('ArrayStats', 'min ave max range')\n",
    "def get_stats(X):\n",
    "    xmin = np.amin(X)\n",
    "    xmax = np.amax(X)\n",
    "    return ArrayStats(xmin, sum(X.flatten()) / X.size, xmax, xmax - xmin)"
   ]
  },
  {
   "cell_type": "markdown",
   "metadata": {},
   "source": [
    "#### Calculation"
   ]
  },
  {
   "cell_type": "code",
   "execution_count": 14,
   "metadata": {},
   "outputs": [],
   "source": [
    "I = np.zeros((max_vis_depth + 1, num_steps + 1, n, n))"
   ]
  },
  {
   "cell_type": "code",
   "execution_count": 15,
   "metadata": {},
   "outputs": [],
   "source": [
    "for depth in range(1, max_vis_depth + 1):\n",
    "    for step in range(1, num_steps + 1):\n",
    "        I[depth][step] = (D[depth][step] - D[depth][step - 1]) / step_size"
   ]
  },
  {
   "cell_type": "code",
   "execution_count": 16,
   "metadata": {
    "scrolled": true
   },
   "outputs": [
    {
     "data": {
      "text/plain": [
       "ArrayStats(min=21.569999999999983, ave=72.748915289256175, max=208.19000000000005, range=186.62000000000006)"
      ]
     },
     "execution_count": 16,
     "metadata": {},
     "output_type": "execute_result"
    }
   ],
   "source": [
    "i_stats = get_stats(I[1:max_vis_depth + 1, 1:num_steps + 1])\n",
    "i_stats"
   ]
  },
  {
   "cell_type": "markdown",
   "metadata": {},
   "source": [
    "#### Normalization"
   ]
  },
  {
   "cell_type": "code",
   "execution_count": 17,
   "metadata": {},
   "outputs": [],
   "source": [
    "def normalize(X, stats):\n",
    "    return (stats.range - (X - stats.min)) / stats.range"
   ]
  },
  {
   "cell_type": "code",
   "execution_count": 18,
   "metadata": {},
   "outputs": [],
   "source": [
    "I_norm = normalize(I, i_stats)"
   ]
  },
  {
   "cell_type": "code",
   "execution_count": 19,
   "metadata": {},
   "outputs": [
    {
     "data": {
      "text/plain": [
       "ArrayStats(min=0.0, ave=0.72575867919163961, max=1.0, range=1.0)"
      ]
     },
     "execution_count": 19,
     "metadata": {},
     "output_type": "execute_result"
    }
   ],
   "source": [
    "i_norm_stats = get_stats(I_norm[1:max_vis_depth + 1, 1:num_steps + 1])\n",
    "i_norm_stats"
   ]
  },
  {
   "cell_type": "markdown",
   "metadata": {},
   "source": [
    "### Preparation of Mesh Grids"
   ]
  },
  {
   "cell_type": "code",
   "execution_count": 20,
   "metadata": {},
   "outputs": [],
   "source": [
    "def_depth = 1\n",
    "def_step = 10"
   ]
  },
  {
   "cell_type": "code",
   "execution_count": 21,
   "metadata": {},
   "outputs": [],
   "source": [
    "X_domain = np.linspace(0, 1, n)\n",
    "X = np.zeros((4, n, n))\n",
    "X[0] = np.full((n, n), def_depth)\n",
    "X[1] = np.full((n, n), def_step * step_size)\n",
    "X[2], X[3] = np.meshgrid(X_domain, X_domain)"
   ]
  },
  {
   "cell_type": "code",
   "execution_count": 22,
   "metadata": {},
   "outputs": [],
   "source": [
    "Y = I_norm[def_depth][def_step]"
   ]
  },
  {
   "cell_type": "code",
   "execution_count": 23,
   "metadata": {},
   "outputs": [
    {
     "data": {
      "text/plain": [
       "ArrayStats(min=0.40365448504983481, ave=0.79049219211532529, max=1.0, range=0.59634551495016519)"
      ]
     },
     "execution_count": 23,
     "metadata": {},
     "output_type": "execute_result"
    }
   ],
   "source": [
    "y_stats = get_stats(Y)\n",
    "y_stats"
   ]
  },
  {
   "cell_type": "markdown",
   "metadata": {},
   "source": [
    "## Data Visualization"
   ]
  },
  {
   "cell_type": "code",
   "execution_count": 40,
   "metadata": {},
   "outputs": [],
   "source": [
    "def gif_to_mp4(file):\n",
    "    clip = mp.VideoFileClip(\"%s.gif\" % file)\n",
    "    clip.write_videofile(\"%s.mp4\" % file)"
   ]
  },
  {
   "cell_type": "markdown",
   "metadata": {},
   "source": [
    "### Performance Distribution"
   ]
  },
  {
   "cell_type": "code",
   "execution_count": 30,
   "metadata": {},
   "outputs": [],
   "source": [
    "def plot_dist(X, figsize=(3, 3), load_only=False):\n",
    "    fig, ax = plt.subplots(1, 1, figsize=figsize)\n",
    "    \n",
    "    ax = sns.distplot(X, hist=False, color=\"b\", kde_kws={\"shade\": True}, ax=ax)\n",
    "    \n",
    "    # sns.despine(left=True, ax=ax)\n",
    "    ax.set_yticks([])\n",
    "    \n",
    "    plt.tight_layout()\n",
    "    plt.savefig(\"plots/normed_perf_dist.jpeg\", transparent=True)\n",
    "    \n",
    "    plt.close()\n",
    "    \n",
    "    return HTML('<img src=\"plots/normed_perf_dist.jpeg\">')"
   ]
  },
  {
   "cell_type": "code",
   "execution_count": 31,
   "metadata": {},
   "outputs": [],
   "source": [
    "dist = plot_dist(I_norm[1:max_vis_depth + 1, 1:num_steps + 1].flatten(), figsize=(3, 3))"
   ]
  },
  {
   "cell_type": "code",
   "execution_count": 32,
   "metadata": {},
   "outputs": [
    {
     "data": {
      "text/html": [
       "<img src=\"plots/normed_perf_dist.jpeg\">"
      ],
      "text/plain": [
       "<IPython.core.display.HTML object>"
      ]
     },
     "execution_count": 32,
     "metadata": {},
     "output_type": "execute_result"
    }
   ],
   "source": [
    "dist"
   ]
  },
  {
   "cell_type": "code",
   "execution_count": 33,
   "metadata": {},
   "outputs": [],
   "source": [
    "vmin=0.5\n",
    "vmax=1.0"
   ]
  },
  {
   "cell_type": "markdown",
   "metadata": {},
   "source": [
    "### Performance vs. Depth and Time Heatmap"
   ]
  },
  {
   "cell_type": "code",
   "execution_count": 28,
   "metadata": {
    "scrolled": false
   },
   "outputs": [],
   "source": [
    "def heatmap_anim_preprocess():\n",
    "    for step in range(1, num_steps + 1):\n",
    "        fig, axes = plt.subplots(2, 3, figsize=(6.3, 6), gridspec_kw={'width_ratios':[1, 1, 0.1], 'height_ratios':[1, 1]})\n",
    "\n",
    "        for i in range(2):\n",
    "            for j in range(2):\n",
    "                ax = sns.heatmap(I_norm[2*i + j + 1][step],\n",
    "                                 vmin=vmin, vmax=vmax,\n",
    "                                 cmap=sns.color_palette(\"Blues\", n_colors=100),\n",
    "                                 ax=axes[i][j],\n",
    "                                 cbar=False)\n",
    "\n",
    "                if i == 1:\n",
    "                    ax.set_xticks(np.linspace(0, 10, 6) + .5)\n",
    "                    ax.set_xticklabels(np.linspace(0, 1, 6))\n",
    "                else:\n",
    "                    ax.set_xticks([])\n",
    "\n",
    "                if j == 0:\n",
    "                    ax.set_yticks(np.linspace(0, 10, 6) + 0.8)\n",
    "                    ax.set_yticklabels(np.linspace(0, 1, 6))\n",
    "                else:\n",
    "                    ax.set_yticks([])\n",
    "\n",
    "                ax.set_xlabel('')\n",
    "                ax.set_ylabel('')\n",
    "\n",
    "                ax.invert_yaxis()\n",
    "\n",
    "        mappable = axes[0][0].get_children()[0]\n",
    "        plt.colorbar(mappable, ax=axes, orientation='vertical', ticks=[], cax=axes[0][2], extend='max');\n",
    "        plt.colorbar(mappable, ax=axes, orientation='vertical', ticks=[], cax=axes[1][2], extend='max');\n",
    "\n",
    "        plt.tight_layout()\n",
    "        plt.savefig(\"plots/depth_heatmap/frame%d.jpeg\" % step, transparent=True)\n",
    "        plt.close()"
   ]
  },
  {
   "cell_type": "code",
   "execution_count": 36,
   "metadata": {},
   "outputs": [],
   "source": [
    "def heatmap_animate(load_only=False, fps=1, vid=True):\n",
    "    images = []\n",
    "    for step in range(1, num_steps + 1):\n",
    "        images.append(imageio.imread(\"plots/depth_heatmap/frame%d.jpeg\" % step))\n",
    "    imageio.mimsave(\"plots/depth_heatmap/anim.gif\", images, fps=fps)\n",
    "    \n",
    "    gif_to_mp4('plots/depth_heatmap/anim')\n",
    "    \n",
    "    if vid:\n",
    "        return HTML('<video controls> <source src=\"plots/depth_heatmap/anim.mp4\" type=\"video/mp4\"> </video>')\n",
    "    else:\n",
    "        return HTML('<img src=\"plots/depth_heatmap/anim.gif\">')"
   ]
  },
  {
   "cell_type": "code",
   "execution_count": 30,
   "metadata": {
    "scrolled": true
   },
   "outputs": [],
   "source": [
    "heatmap_anim_preprocess()"
   ]
  },
  {
   "cell_type": "code",
   "execution_count": 41,
   "metadata": {},
   "outputs": [
    {
     "name": "stdout",
     "output_type": "stream",
     "text": [
      "[MoviePy] >>>> Building video plots/depth_heatmap/anim.mp4\n",
      "[MoviePy] Writing video plots/depth_heatmap/anim.mp4\n"
     ]
    },
    {
     "name": "stderr",
     "output_type": "stream",
     "text": [
      " 91%|██████████████████████████████████████▏   | 10/11 [00:00<00:00, 59.88it/s]\n"
     ]
    },
    {
     "name": "stdout",
     "output_type": "stream",
     "text": [
      "[MoviePy] Done.\n",
      "[MoviePy] >>>> Video ready: plots/depth_heatmap/anim.mp4 \n",
      "\n"
     ]
    }
   ],
   "source": [
    "heatmap_vid = heatmap_animate()"
   ]
  },
  {
   "cell_type": "code",
   "execution_count": 42,
   "metadata": {},
   "outputs": [
    {
     "data": {
      "text/html": [
       "<video controls> <source src=\"plots/depth_heatmap/anim.mp4\" type=\"video/mp4\"> </video>"
      ],
      "text/plain": [
       "<IPython.core.display.HTML object>"
      ]
     },
     "execution_count": 42,
     "metadata": {},
     "output_type": "execute_result"
    }
   ],
   "source": [
    "heatmap_vid"
   ]
  },
  {
   "cell_type": "markdown",
   "metadata": {},
   "source": [
    "### Regression"
   ]
  },
  {
   "cell_type": "code",
   "execution_count": 33,
   "metadata": {},
   "outputs": [],
   "source": [
    "model = PolynomialRegression(X, Y)"
   ]
  },
  {
   "cell_type": "markdown",
   "metadata": {},
   "source": [
    "#### Linear model"
   ]
  },
  {
   "cell_type": "code",
   "execution_count": 34,
   "metadata": {},
   "outputs": [
    {
     "name": "stdout",
     "output_type": "stream",
     "text": [
      "0.000091*1 + 0.000091*x0 + 0.009132*x1 + -0.056874*x2 + -0.188991*x3\n"
     ]
    }
   ],
   "source": [
    "lin_model = model.process(degree=1)\n",
    "lin_model.print_func()"
   ]
  },
  {
   "cell_type": "code",
   "execution_count": 35,
   "metadata": {},
   "outputs": [
    {
     "name": "stdout",
     "output_type": "stream",
     "text": [
      "0.235152011463\n"
     ]
    }
   ],
   "source": [
    "print(lin_model.r_squared)"
   ]
  },
  {
   "cell_type": "markdown",
   "metadata": {},
   "source": [
    "#### Quadratic model"
   ]
  },
  {
   "cell_type": "code",
   "execution_count": 36,
   "metadata": {
    "scrolled": true
   },
   "outputs": [
    {
     "name": "stdout",
     "output_type": "stream",
     "text": [
      "0.000000*1 + 0.000000*x0 + 0.000001*x1 + 0.000044*x2 + 0.000057*x3 + 0.000000*x0^2 + 0.000001*x0*x1 + 0.000044*x0*x2 + 0.000057*x0*x3 + 0.000074*x1^2 + 0.004428*x1*x2 + 0.005738*x1*x3 + -0.604418*x2^2 + 0.209299*x2*x3 + -0.867604*x3^2\n"
     ]
    }
   ],
   "source": [
    "quad_model = model.process(degree=2)\n",
    "quad_model.print_func()"
   ]
  },
  {
   "cell_type": "code",
   "execution_count": 37,
   "metadata": {},
   "outputs": [
    {
     "name": "stdout",
     "output_type": "stream",
     "text": [
      "0.78807150507\n"
     ]
    }
   ],
   "source": [
    "print(quad_model.r_squared)"
   ]
  },
  {
   "cell_type": "markdown",
   "metadata": {},
   "source": [
    "#### Cubic model"
   ]
  },
  {
   "cell_type": "code",
   "execution_count": 38,
   "metadata": {},
   "outputs": [
    {
     "name": "stdout",
     "output_type": "stream",
     "text": [
      "0.000000*1 + 0.000000*x0 + 0.000000*x1 + 0.000000*x2 + 0.000000*x3 + 0.000000*x0^2 + 0.000000*x0*x1 + 0.000000*x0*x2 + 0.000000*x0*x3 + 0.000000*x1^2 + 0.000000*x1*x2 + 0.000001*x1*x3 + -0.000040*x2^2 + 0.000051*x2*x3 + -0.000137*x3^2 + 0.000000*x0^3 + 0.000000*x0^2*x1 + 0.000000*x0^2*x2 + 0.000000*x0^2*x3 + 0.000000*x0*x1^2 + 0.000000*x0*x1*x2 + 0.000001*x0*x1*x3 + -0.000040*x0*x2^2 + 0.000051*x0*x2*x3 + -0.000137*x0*x3^2 + 0.000001*x1^3 + 0.000026*x1^2*x2 + 0.000074*x1^2*x3 + -0.004047*x1*x2^2 + 0.005088*x1*x2*x3 + -0.013665*x1*x3^2 + 0.002643*x2^3 + -0.407209*x2^2*x3 + 0.107606*x2*x3^2 + 0.296936*x3^3\n"
     ]
    }
   ],
   "source": [
    "cube_model = model.process(degree=3)\n",
    "cube_model.print_func()"
   ]
  },
  {
   "cell_type": "code",
   "execution_count": 39,
   "metadata": {},
   "outputs": [
    {
     "name": "stdout",
     "output_type": "stream",
     "text": [
      "0.799414450235\n"
     ]
    }
   ],
   "source": [
    "print(cube_model.r_squared)"
   ]
  },
  {
   "cell_type": "markdown",
   "metadata": {},
   "source": [
    "### 3D Plotting"
   ]
  },
  {
   "cell_type": "code",
   "execution_count": 40,
   "metadata": {},
   "outputs": [],
   "source": [
    "def plot_3d(model, degree):\n",
    "    fig = plt.figure(figsize=(6, 6))\n",
    "    ax = fig.add_subplot(1, 1, 1, projection='3d')\n",
    "    \n",
    "    p = model.plot(ax, idx=(2, 3), Z=Y, plot_type='wireframe', show_contours=False)\n",
    "    q = model.plot(ax, idx=(2, 3), Z=model.process(degree=degree).predict(), \n",
    "                   lims=((0.0, 1.5), (0.0, 1.5), (0, 1)),\n",
    "                   show_labels=True, labels=(\"Learning Rate\", \"Discount Rate\", \"Agent Performance\"))\n",
    "\n",
    "    # formatter = ticker.ScalarFormatter(useMathText=True)\n",
    "    # formatter.set_scientific(True) \n",
    "    # formatter.set_powerlimits((-1,1)) \n",
    "    # ax.zaxis.set_major_formatter(formatter)\n",
    "\n",
    "    ax.set_xticks(np.linspace(0, 1, 6))\n",
    "    ax.set_yticks(np.linspace(0, 1, 6))\n",
    "    ax.set_zticks([0.0, 1.0])\n",
    "    ax.set_zticklabels(['low', 'high'])\n",
    "    \n",
    "    ax.invert_xaxis()\n",
    "    # ax.invert_yaxis()\n",
    "    # ax.invert_zaxis()\n",
    "    \n",
    "    fig.patch.set_alpha(0.)\n",
    "    ax.patch.set_alpha(0.0)\n",
    "    ax.grid(False)\n",
    "    \n",
    "    return ax"
   ]
  },
  {
   "cell_type": "code",
   "execution_count": 41,
   "metadata": {},
   "outputs": [],
   "source": [
    "def plot_animate_preprocess(model, degree):\n",
    "    ax = plot_3d(model, degree)\n",
    "    \n",
    "    for ii in range(0, 360, 1):\n",
    "        ax.view_init(elev=30., azim=ii)\n",
    "        plt.savefig(\"plots/regression/degree%d/frame%d.jpeg\" % (degree, ii), transparent=True)\n",
    "    \n",
    "    plt.close()"
   ]
  },
  {
   "cell_type": "code",
   "execution_count": 42,
   "metadata": {},
   "outputs": [],
   "source": [
    "def plot_animate_beta(degree, secs=6, fps=60):\n",
    "    frame_steps = 360 // (secs * fps)\n",
    "    \n",
    "    images = []\n",
    "    for ii in range(0, 360, frame_steps):\n",
    "        images.append(imageio.imread(\"plots/regression/degree%d/frame%d.jpeg\" % (degree,ii)))\n",
    "    imageio.mimsave(\"plots/regression/degree%d/anim%d.gif\" % (degree, fps), images, fps=60)\n",
    "    \n",
    "    return HTML('<img src=\"plots/regression/degree%d/anim%d.gif\">' % (degree, fps))"
   ]
  },
  {
   "cell_type": "code",
   "execution_count": 43,
   "metadata": {},
   "outputs": [
    {
     "name": "stdout",
     "output_type": "stream",
     "text": [
      "[[ 0.   0.   0.   0.   0.   0.   0.   0.   0.   0.   0. ]\n",
      " [ 0.1  0.1  0.1  0.1  0.1  0.1  0.1  0.1  0.1  0.1  0.1]\n",
      " [ 0.2  0.2  0.2  0.2  0.2  0.2  0.2  0.2  0.2  0.2  0.2]\n",
      " [ 0.3  0.3  0.3  0.3  0.3  0.3  0.3  0.3  0.3  0.3  0.3]\n",
      " [ 0.4  0.4  0.4  0.4  0.4  0.4  0.4  0.4  0.4  0.4  0.4]\n",
      " [ 0.5  0.5  0.5  0.5  0.5  0.5  0.5  0.5  0.5  0.5  0.5]\n",
      " [ 0.6  0.6  0.6  0.6  0.6  0.6  0.6  0.6  0.6  0.6  0.6]\n",
      " [ 0.7  0.7  0.7  0.7  0.7  0.7  0.7  0.7  0.7  0.7  0.7]\n",
      " [ 0.8  0.8  0.8  0.8  0.8  0.8  0.8  0.8  0.8  0.8  0.8]\n",
      " [ 0.9  0.9  0.9  0.9  0.9  0.9  0.9  0.9  0.9  0.9  0.9]\n",
      " [ 1.   1.   1.   1.   1.   1.   1.   1.   1.   1.   1. ]]\n"
     ]
    }
   ],
   "source": [
    "print(model.X[3])"
   ]
  },
  {
   "cell_type": "code",
   "execution_count": 47,
   "metadata": {},
   "outputs": [],
   "source": [
    "ax = plot_3d(model, degree=1)"
   ]
  },
  {
   "cell_type": "code",
   "execution_count": 49,
   "metadata": {},
   "outputs": [
    {
     "data": {
      "text/plain": [
       "<matplotlib.axes._subplots.Axes3DSubplot at 0xcbf7470>"
      ]
     },
     "execution_count": 49,
     "metadata": {},
     "output_type": "execute_result"
    }
   ],
   "source": [
    "ax"
   ]
  },
  {
   "cell_type": "code",
   "execution_count": 48,
   "metadata": {},
   "outputs": [
    {
     "data": {
      "application/javascript": [
       "/* Put everything inside the global mpl namespace */\n",
       "window.mpl = {};\n",
       "\n",
       "\n",
       "mpl.get_websocket_type = function() {\n",
       "    if (typeof(WebSocket) !== 'undefined') {\n",
       "        return WebSocket;\n",
       "    } else if (typeof(MozWebSocket) !== 'undefined') {\n",
       "        return MozWebSocket;\n",
       "    } else {\n",
       "        alert('Your browser does not have WebSocket support.' +\n",
       "              'Please try Chrome, Safari or Firefox ≥ 6. ' +\n",
       "              'Firefox 4 and 5 are also supported but you ' +\n",
       "              'have to enable WebSockets in about:config.');\n",
       "    };\n",
       "}\n",
       "\n",
       "mpl.figure = function(figure_id, websocket, ondownload, parent_element) {\n",
       "    this.id = figure_id;\n",
       "\n",
       "    this.ws = websocket;\n",
       "\n",
       "    this.supports_binary = (this.ws.binaryType != undefined);\n",
       "\n",
       "    if (!this.supports_binary) {\n",
       "        var warnings = document.getElementById(\"mpl-warnings\");\n",
       "        if (warnings) {\n",
       "            warnings.style.display = 'block';\n",
       "            warnings.textContent = (\n",
       "                \"This browser does not support binary websocket messages. \" +\n",
       "                    \"Performance may be slow.\");\n",
       "        }\n",
       "    }\n",
       "\n",
       "    this.imageObj = new Image();\n",
       "\n",
       "    this.context = undefined;\n",
       "    this.message = undefined;\n",
       "    this.canvas = undefined;\n",
       "    this.rubberband_canvas = undefined;\n",
       "    this.rubberband_context = undefined;\n",
       "    this.format_dropdown = undefined;\n",
       "\n",
       "    this.image_mode = 'full';\n",
       "\n",
       "    this.root = $('<div/>');\n",
       "    this._root_extra_style(this.root)\n",
       "    this.root.attr('style', 'display: inline-block');\n",
       "\n",
       "    $(parent_element).append(this.root);\n",
       "\n",
       "    this._init_header(this);\n",
       "    this._init_canvas(this);\n",
       "    this._init_toolbar(this);\n",
       "\n",
       "    var fig = this;\n",
       "\n",
       "    this.waiting = false;\n",
       "\n",
       "    this.ws.onopen =  function () {\n",
       "            fig.send_message(\"supports_binary\", {value: fig.supports_binary});\n",
       "            fig.send_message(\"send_image_mode\", {});\n",
       "            if (mpl.ratio != 1) {\n",
       "                fig.send_message(\"set_dpi_ratio\", {'dpi_ratio': mpl.ratio});\n",
       "            }\n",
       "            fig.send_message(\"refresh\", {});\n",
       "        }\n",
       "\n",
       "    this.imageObj.onload = function() {\n",
       "            if (fig.image_mode == 'full') {\n",
       "                // Full images could contain transparency (where diff images\n",
       "                // almost always do), so we need to clear the canvas so that\n",
       "                // there is no ghosting.\n",
       "                fig.context.clearRect(0, 0, fig.canvas.width, fig.canvas.height);\n",
       "            }\n",
       "            fig.context.drawImage(fig.imageObj, 0, 0);\n",
       "        };\n",
       "\n",
       "    this.imageObj.onunload = function() {\n",
       "        fig.ws.close();\n",
       "    }\n",
       "\n",
       "    this.ws.onmessage = this._make_on_message_function(this);\n",
       "\n",
       "    this.ondownload = ondownload;\n",
       "}\n",
       "\n",
       "mpl.figure.prototype._init_header = function() {\n",
       "    var titlebar = $(\n",
       "        '<div class=\"ui-dialog-titlebar ui-widget-header ui-corner-all ' +\n",
       "        'ui-helper-clearfix\"/>');\n",
       "    var titletext = $(\n",
       "        '<div class=\"ui-dialog-title\" style=\"width: 100%; ' +\n",
       "        'text-align: center; padding: 3px;\"/>');\n",
       "    titlebar.append(titletext)\n",
       "    this.root.append(titlebar);\n",
       "    this.header = titletext[0];\n",
       "}\n",
       "\n",
       "\n",
       "\n",
       "mpl.figure.prototype._canvas_extra_style = function(canvas_div) {\n",
       "\n",
       "}\n",
       "\n",
       "\n",
       "mpl.figure.prototype._root_extra_style = function(canvas_div) {\n",
       "\n",
       "}\n",
       "\n",
       "mpl.figure.prototype._init_canvas = function() {\n",
       "    var fig = this;\n",
       "\n",
       "    var canvas_div = $('<div/>');\n",
       "\n",
       "    canvas_div.attr('style', 'position: relative; clear: both; outline: 0');\n",
       "\n",
       "    function canvas_keyboard_event(event) {\n",
       "        return fig.key_event(event, event['data']);\n",
       "    }\n",
       "\n",
       "    canvas_div.keydown('key_press', canvas_keyboard_event);\n",
       "    canvas_div.keyup('key_release', canvas_keyboard_event);\n",
       "    this.canvas_div = canvas_div\n",
       "    this._canvas_extra_style(canvas_div)\n",
       "    this.root.append(canvas_div);\n",
       "\n",
       "    var canvas = $('<canvas/>');\n",
       "    canvas.addClass('mpl-canvas');\n",
       "    canvas.attr('style', \"left: 0; top: 0; z-index: 0; outline: 0\")\n",
       "\n",
       "    this.canvas = canvas[0];\n",
       "    this.context = canvas[0].getContext(\"2d\");\n",
       "\n",
       "    var backingStore = this.context.backingStorePixelRatio ||\n",
       "\tthis.context.webkitBackingStorePixelRatio ||\n",
       "\tthis.context.mozBackingStorePixelRatio ||\n",
       "\tthis.context.msBackingStorePixelRatio ||\n",
       "\tthis.context.oBackingStorePixelRatio ||\n",
       "\tthis.context.backingStorePixelRatio || 1;\n",
       "\n",
       "    mpl.ratio = (window.devicePixelRatio || 1) / backingStore;\n",
       "\n",
       "    var rubberband = $('<canvas/>');\n",
       "    rubberband.attr('style', \"position: absolute; left: 0; top: 0; z-index: 1;\")\n",
       "\n",
       "    var pass_mouse_events = true;\n",
       "\n",
       "    canvas_div.resizable({\n",
       "        start: function(event, ui) {\n",
       "            pass_mouse_events = false;\n",
       "        },\n",
       "        resize: function(event, ui) {\n",
       "            fig.request_resize(ui.size.width, ui.size.height);\n",
       "        },\n",
       "        stop: function(event, ui) {\n",
       "            pass_mouse_events = true;\n",
       "            fig.request_resize(ui.size.width, ui.size.height);\n",
       "        },\n",
       "    });\n",
       "\n",
       "    function mouse_event_fn(event) {\n",
       "        if (pass_mouse_events)\n",
       "            return fig.mouse_event(event, event['data']);\n",
       "    }\n",
       "\n",
       "    rubberband.mousedown('button_press', mouse_event_fn);\n",
       "    rubberband.mouseup('button_release', mouse_event_fn);\n",
       "    // Throttle sequential mouse events to 1 every 20ms.\n",
       "    rubberband.mousemove('motion_notify', mouse_event_fn);\n",
       "\n",
       "    rubberband.mouseenter('figure_enter', mouse_event_fn);\n",
       "    rubberband.mouseleave('figure_leave', mouse_event_fn);\n",
       "\n",
       "    canvas_div.on(\"wheel\", function (event) {\n",
       "        event = event.originalEvent;\n",
       "        event['data'] = 'scroll'\n",
       "        if (event.deltaY < 0) {\n",
       "            event.step = 1;\n",
       "        } else {\n",
       "            event.step = -1;\n",
       "        }\n",
       "        mouse_event_fn(event);\n",
       "    });\n",
       "\n",
       "    canvas_div.append(canvas);\n",
       "    canvas_div.append(rubberband);\n",
       "\n",
       "    this.rubberband = rubberband;\n",
       "    this.rubberband_canvas = rubberband[0];\n",
       "    this.rubberband_context = rubberband[0].getContext(\"2d\");\n",
       "    this.rubberband_context.strokeStyle = \"#000000\";\n",
       "\n",
       "    this._resize_canvas = function(width, height) {\n",
       "        // Keep the size of the canvas, canvas container, and rubber band\n",
       "        // canvas in synch.\n",
       "        canvas_div.css('width', width)\n",
       "        canvas_div.css('height', height)\n",
       "\n",
       "        canvas.attr('width', width * mpl.ratio);\n",
       "        canvas.attr('height', height * mpl.ratio);\n",
       "        canvas.attr('style', 'width: ' + width + 'px; height: ' + height + 'px;');\n",
       "\n",
       "        rubberband.attr('width', width);\n",
       "        rubberband.attr('height', height);\n",
       "    }\n",
       "\n",
       "    // Set the figure to an initial 600x600px, this will subsequently be updated\n",
       "    // upon first draw.\n",
       "    this._resize_canvas(600, 600);\n",
       "\n",
       "    // Disable right mouse context menu.\n",
       "    $(this.rubberband_canvas).bind(\"contextmenu\",function(e){\n",
       "        return false;\n",
       "    });\n",
       "\n",
       "    function set_focus () {\n",
       "        canvas.focus();\n",
       "        canvas_div.focus();\n",
       "    }\n",
       "\n",
       "    window.setTimeout(set_focus, 100);\n",
       "}\n",
       "\n",
       "mpl.figure.prototype._init_toolbar = function() {\n",
       "    var fig = this;\n",
       "\n",
       "    var nav_element = $('<div/>')\n",
       "    nav_element.attr('style', 'width: 100%');\n",
       "    this.root.append(nav_element);\n",
       "\n",
       "    // Define a callback function for later on.\n",
       "    function toolbar_event(event) {\n",
       "        return fig.toolbar_button_onclick(event['data']);\n",
       "    }\n",
       "    function toolbar_mouse_event(event) {\n",
       "        return fig.toolbar_button_onmouseover(event['data']);\n",
       "    }\n",
       "\n",
       "    for(var toolbar_ind in mpl.toolbar_items) {\n",
       "        var name = mpl.toolbar_items[toolbar_ind][0];\n",
       "        var tooltip = mpl.toolbar_items[toolbar_ind][1];\n",
       "        var image = mpl.toolbar_items[toolbar_ind][2];\n",
       "        var method_name = mpl.toolbar_items[toolbar_ind][3];\n",
       "\n",
       "        if (!name) {\n",
       "            // put a spacer in here.\n",
       "            continue;\n",
       "        }\n",
       "        var button = $('<button/>');\n",
       "        button.addClass('ui-button ui-widget ui-state-default ui-corner-all ' +\n",
       "                        'ui-button-icon-only');\n",
       "        button.attr('role', 'button');\n",
       "        button.attr('aria-disabled', 'false');\n",
       "        button.click(method_name, toolbar_event);\n",
       "        button.mouseover(tooltip, toolbar_mouse_event);\n",
       "\n",
       "        var icon_img = $('<span/>');\n",
       "        icon_img.addClass('ui-button-icon-primary ui-icon');\n",
       "        icon_img.addClass(image);\n",
       "        icon_img.addClass('ui-corner-all');\n",
       "\n",
       "        var tooltip_span = $('<span/>');\n",
       "        tooltip_span.addClass('ui-button-text');\n",
       "        tooltip_span.html(tooltip);\n",
       "\n",
       "        button.append(icon_img);\n",
       "        button.append(tooltip_span);\n",
       "\n",
       "        nav_element.append(button);\n",
       "    }\n",
       "\n",
       "    var fmt_picker_span = $('<span/>');\n",
       "\n",
       "    var fmt_picker = $('<select/>');\n",
       "    fmt_picker.addClass('mpl-toolbar-option ui-widget ui-widget-content');\n",
       "    fmt_picker_span.append(fmt_picker);\n",
       "    nav_element.append(fmt_picker_span);\n",
       "    this.format_dropdown = fmt_picker[0];\n",
       "\n",
       "    for (var ind in mpl.extensions) {\n",
       "        var fmt = mpl.extensions[ind];\n",
       "        var option = $(\n",
       "            '<option/>', {selected: fmt === mpl.default_extension}).html(fmt);\n",
       "        fmt_picker.append(option)\n",
       "    }\n",
       "\n",
       "    // Add hover states to the ui-buttons\n",
       "    $( \".ui-button\" ).hover(\n",
       "        function() { $(this).addClass(\"ui-state-hover\");},\n",
       "        function() { $(this).removeClass(\"ui-state-hover\");}\n",
       "    );\n",
       "\n",
       "    var status_bar = $('<span class=\"mpl-message\"/>');\n",
       "    nav_element.append(status_bar);\n",
       "    this.message = status_bar[0];\n",
       "}\n",
       "\n",
       "mpl.figure.prototype.request_resize = function(x_pixels, y_pixels) {\n",
       "    // Request matplotlib to resize the figure. Matplotlib will then trigger a resize in the client,\n",
       "    // which will in turn request a refresh of the image.\n",
       "    this.send_message('resize', {'width': x_pixels, 'height': y_pixels});\n",
       "}\n",
       "\n",
       "mpl.figure.prototype.send_message = function(type, properties) {\n",
       "    properties['type'] = type;\n",
       "    properties['figure_id'] = this.id;\n",
       "    this.ws.send(JSON.stringify(properties));\n",
       "}\n",
       "\n",
       "mpl.figure.prototype.send_draw_message = function() {\n",
       "    if (!this.waiting) {\n",
       "        this.waiting = true;\n",
       "        this.ws.send(JSON.stringify({type: \"draw\", figure_id: this.id}));\n",
       "    }\n",
       "}\n",
       "\n",
       "\n",
       "mpl.figure.prototype.handle_save = function(fig, msg) {\n",
       "    var format_dropdown = fig.format_dropdown;\n",
       "    var format = format_dropdown.options[format_dropdown.selectedIndex].value;\n",
       "    fig.ondownload(fig, format);\n",
       "}\n",
       "\n",
       "\n",
       "mpl.figure.prototype.handle_resize = function(fig, msg) {\n",
       "    var size = msg['size'];\n",
       "    if (size[0] != fig.canvas.width || size[1] != fig.canvas.height) {\n",
       "        fig._resize_canvas(size[0], size[1]);\n",
       "        fig.send_message(\"refresh\", {});\n",
       "    };\n",
       "}\n",
       "\n",
       "mpl.figure.prototype.handle_rubberband = function(fig, msg) {\n",
       "    var x0 = msg['x0'] / mpl.ratio;\n",
       "    var y0 = (fig.canvas.height - msg['y0']) / mpl.ratio;\n",
       "    var x1 = msg['x1'] / mpl.ratio;\n",
       "    var y1 = (fig.canvas.height - msg['y1']) / mpl.ratio;\n",
       "    x0 = Math.floor(x0) + 0.5;\n",
       "    y0 = Math.floor(y0) + 0.5;\n",
       "    x1 = Math.floor(x1) + 0.5;\n",
       "    y1 = Math.floor(y1) + 0.5;\n",
       "    var min_x = Math.min(x0, x1);\n",
       "    var min_y = Math.min(y0, y1);\n",
       "    var width = Math.abs(x1 - x0);\n",
       "    var height = Math.abs(y1 - y0);\n",
       "\n",
       "    fig.rubberband_context.clearRect(\n",
       "        0, 0, fig.canvas.width, fig.canvas.height);\n",
       "\n",
       "    fig.rubberband_context.strokeRect(min_x, min_y, width, height);\n",
       "}\n",
       "\n",
       "mpl.figure.prototype.handle_figure_label = function(fig, msg) {\n",
       "    // Updates the figure title.\n",
       "    fig.header.textContent = msg['label'];\n",
       "}\n",
       "\n",
       "mpl.figure.prototype.handle_cursor = function(fig, msg) {\n",
       "    var cursor = msg['cursor'];\n",
       "    switch(cursor)\n",
       "    {\n",
       "    case 0:\n",
       "        cursor = 'pointer';\n",
       "        break;\n",
       "    case 1:\n",
       "        cursor = 'default';\n",
       "        break;\n",
       "    case 2:\n",
       "        cursor = 'crosshair';\n",
       "        break;\n",
       "    case 3:\n",
       "        cursor = 'move';\n",
       "        break;\n",
       "    }\n",
       "    fig.rubberband_canvas.style.cursor = cursor;\n",
       "}\n",
       "\n",
       "mpl.figure.prototype.handle_message = function(fig, msg) {\n",
       "    fig.message.textContent = msg['message'];\n",
       "}\n",
       "\n",
       "mpl.figure.prototype.handle_draw = function(fig, msg) {\n",
       "    // Request the server to send over a new figure.\n",
       "    fig.send_draw_message();\n",
       "}\n",
       "\n",
       "mpl.figure.prototype.handle_image_mode = function(fig, msg) {\n",
       "    fig.image_mode = msg['mode'];\n",
       "}\n",
       "\n",
       "mpl.figure.prototype.updated_canvas_event = function() {\n",
       "    // Called whenever the canvas gets updated.\n",
       "    this.send_message(\"ack\", {});\n",
       "}\n",
       "\n",
       "// A function to construct a web socket function for onmessage handling.\n",
       "// Called in the figure constructor.\n",
       "mpl.figure.prototype._make_on_message_function = function(fig) {\n",
       "    return function socket_on_message(evt) {\n",
       "        if (evt.data instanceof Blob) {\n",
       "            /* FIXME: We get \"Resource interpreted as Image but\n",
       "             * transferred with MIME type text/plain:\" errors on\n",
       "             * Chrome.  But how to set the MIME type?  It doesn't seem\n",
       "             * to be part of the websocket stream */\n",
       "            evt.data.type = \"image/png\";\n",
       "\n",
       "            /* Free the memory for the previous frames */\n",
       "            if (fig.imageObj.src) {\n",
       "                (window.URL || window.webkitURL).revokeObjectURL(\n",
       "                    fig.imageObj.src);\n",
       "            }\n",
       "\n",
       "            fig.imageObj.src = (window.URL || window.webkitURL).createObjectURL(\n",
       "                evt.data);\n",
       "            fig.updated_canvas_event();\n",
       "            fig.waiting = false;\n",
       "            return;\n",
       "        }\n",
       "        else if (typeof evt.data === 'string' && evt.data.slice(0, 21) == \"data:image/png;base64\") {\n",
       "            fig.imageObj.src = evt.data;\n",
       "            fig.updated_canvas_event();\n",
       "            fig.waiting = false;\n",
       "            return;\n",
       "        }\n",
       "\n",
       "        var msg = JSON.parse(evt.data);\n",
       "        var msg_type = msg['type'];\n",
       "\n",
       "        // Call the  \"handle_{type}\" callback, which takes\n",
       "        // the figure and JSON message as its only arguments.\n",
       "        try {\n",
       "            var callback = fig[\"handle_\" + msg_type];\n",
       "        } catch (e) {\n",
       "            console.log(\"No handler for the '\" + msg_type + \"' message type: \", msg);\n",
       "            return;\n",
       "        }\n",
       "\n",
       "        if (callback) {\n",
       "            try {\n",
       "                // console.log(\"Handling '\" + msg_type + \"' message: \", msg);\n",
       "                callback(fig, msg);\n",
       "            } catch (e) {\n",
       "                console.log(\"Exception inside the 'handler_\" + msg_type + \"' callback:\", e, e.stack, msg);\n",
       "            }\n",
       "        }\n",
       "    };\n",
       "}\n",
       "\n",
       "// from http://stackoverflow.com/questions/1114465/getting-mouse-location-in-canvas\n",
       "mpl.findpos = function(e) {\n",
       "    //this section is from http://www.quirksmode.org/js/events_properties.html\n",
       "    var targ;\n",
       "    if (!e)\n",
       "        e = window.event;\n",
       "    if (e.target)\n",
       "        targ = e.target;\n",
       "    else if (e.srcElement)\n",
       "        targ = e.srcElement;\n",
       "    if (targ.nodeType == 3) // defeat Safari bug\n",
       "        targ = targ.parentNode;\n",
       "\n",
       "    // jQuery normalizes the pageX and pageY\n",
       "    // pageX,Y are the mouse positions relative to the document\n",
       "    // offset() returns the position of the element relative to the document\n",
       "    var x = e.pageX - $(targ).offset().left;\n",
       "    var y = e.pageY - $(targ).offset().top;\n",
       "\n",
       "    return {\"x\": x, \"y\": y};\n",
       "};\n",
       "\n",
       "/*\n",
       " * return a copy of an object with only non-object keys\n",
       " * we need this to avoid circular references\n",
       " * http://stackoverflow.com/a/24161582/3208463\n",
       " */\n",
       "function simpleKeys (original) {\n",
       "  return Object.keys(original).reduce(function (obj, key) {\n",
       "    if (typeof original[key] !== 'object')\n",
       "        obj[key] = original[key]\n",
       "    return obj;\n",
       "  }, {});\n",
       "}\n",
       "\n",
       "mpl.figure.prototype.mouse_event = function(event, name) {\n",
       "    var canvas_pos = mpl.findpos(event)\n",
       "\n",
       "    if (name === 'button_press')\n",
       "    {\n",
       "        this.canvas.focus();\n",
       "        this.canvas_div.focus();\n",
       "    }\n",
       "\n",
       "    var x = canvas_pos.x * mpl.ratio;\n",
       "    var y = canvas_pos.y * mpl.ratio;\n",
       "\n",
       "    this.send_message(name, {x: x, y: y, button: event.button,\n",
       "                             step: event.step,\n",
       "                             guiEvent: simpleKeys(event)});\n",
       "\n",
       "    /* This prevents the web browser from automatically changing to\n",
       "     * the text insertion cursor when the button is pressed.  We want\n",
       "     * to control all of the cursor setting manually through the\n",
       "     * 'cursor' event from matplotlib */\n",
       "    event.preventDefault();\n",
       "    return false;\n",
       "}\n",
       "\n",
       "mpl.figure.prototype._key_event_extra = function(event, name) {\n",
       "    // Handle any extra behaviour associated with a key event\n",
       "}\n",
       "\n",
       "mpl.figure.prototype.key_event = function(event, name) {\n",
       "\n",
       "    // Prevent repeat events\n",
       "    if (name == 'key_press')\n",
       "    {\n",
       "        if (event.which === this._key)\n",
       "            return;\n",
       "        else\n",
       "            this._key = event.which;\n",
       "    }\n",
       "    if (name == 'key_release')\n",
       "        this._key = null;\n",
       "\n",
       "    var value = '';\n",
       "    if (event.ctrlKey && event.which != 17)\n",
       "        value += \"ctrl+\";\n",
       "    if (event.altKey && event.which != 18)\n",
       "        value += \"alt+\";\n",
       "    if (event.shiftKey && event.which != 16)\n",
       "        value += \"shift+\";\n",
       "\n",
       "    value += 'k';\n",
       "    value += event.which.toString();\n",
       "\n",
       "    this._key_event_extra(event, name);\n",
       "\n",
       "    this.send_message(name, {key: value,\n",
       "                             guiEvent: simpleKeys(event)});\n",
       "    return false;\n",
       "}\n",
       "\n",
       "mpl.figure.prototype.toolbar_button_onclick = function(name) {\n",
       "    if (name == 'download') {\n",
       "        this.handle_save(this, null);\n",
       "    } else {\n",
       "        this.send_message(\"toolbar_button\", {name: name});\n",
       "    }\n",
       "};\n",
       "\n",
       "mpl.figure.prototype.toolbar_button_onmouseover = function(tooltip) {\n",
       "    this.message.textContent = tooltip;\n",
       "};\n",
       "mpl.toolbar_items = [[\"Home\", \"Reset original view\", \"fa fa-home icon-home\", \"home\"], [\"Back\", \"Back to  previous view\", \"fa fa-arrow-left icon-arrow-left\", \"back\"], [\"Forward\", \"Forward to next view\", \"fa fa-arrow-right icon-arrow-right\", \"forward\"], [\"\", \"\", \"\", \"\"], [\"Pan\", \"Pan axes with left mouse, zoom with right\", \"fa fa-arrows icon-move\", \"pan\"], [\"Zoom\", \"Zoom to rectangle\", \"fa fa-square-o icon-check-empty\", \"zoom\"], [\"\", \"\", \"\", \"\"], [\"Download\", \"Download plot\", \"fa fa-floppy-o icon-save\", \"download\"]];\n",
       "\n",
       "mpl.extensions = [\"eps\", \"jpeg\", \"pdf\", \"png\", \"ps\", \"raw\", \"svg\", \"tif\"];\n",
       "\n",
       "mpl.default_extension = \"png\";var comm_websocket_adapter = function(comm) {\n",
       "    // Create a \"websocket\"-like object which calls the given IPython comm\n",
       "    // object with the appropriate methods. Currently this is a non binary\n",
       "    // socket, so there is still some room for performance tuning.\n",
       "    var ws = {};\n",
       "\n",
       "    ws.close = function() {\n",
       "        comm.close()\n",
       "    };\n",
       "    ws.send = function(m) {\n",
       "        //console.log('sending', m);\n",
       "        comm.send(m);\n",
       "    };\n",
       "    // Register the callback with on_msg.\n",
       "    comm.on_msg(function(msg) {\n",
       "        //console.log('receiving', msg['content']['data'], msg);\n",
       "        // Pass the mpl event to the overriden (by mpl) onmessage function.\n",
       "        ws.onmessage(msg['content']['data'])\n",
       "    });\n",
       "    return ws;\n",
       "}\n",
       "\n",
       "mpl.mpl_figure_comm = function(comm, msg) {\n",
       "    // This is the function which gets called when the mpl process\n",
       "    // starts-up an IPython Comm through the \"matplotlib\" channel.\n",
       "\n",
       "    var id = msg.content.data.id;\n",
       "    // Get hold of the div created by the display call when the Comm\n",
       "    // socket was opened in Python.\n",
       "    var element = $(\"#\" + id);\n",
       "    var ws_proxy = comm_websocket_adapter(comm)\n",
       "\n",
       "    function ondownload(figure, format) {\n",
       "        window.open(figure.imageObj.src);\n",
       "    }\n",
       "\n",
       "    var fig = new mpl.figure(id, ws_proxy,\n",
       "                           ondownload,\n",
       "                           element.get(0));\n",
       "\n",
       "    // Call onopen now - mpl needs it, as it is assuming we've passed it a real\n",
       "    // web socket which is closed, not our websocket->open comm proxy.\n",
       "    ws_proxy.onopen();\n",
       "\n",
       "    fig.parent_element = element.get(0);\n",
       "    fig.cell_info = mpl.find_output_cell(\"<div id='\" + id + \"'></div>\");\n",
       "    if (!fig.cell_info) {\n",
       "        console.error(\"Failed to find cell for figure\", id, fig);\n",
       "        return;\n",
       "    }\n",
       "\n",
       "    var output_index = fig.cell_info[2]\n",
       "    var cell = fig.cell_info[0];\n",
       "\n",
       "};\n",
       "\n",
       "mpl.figure.prototype.handle_close = function(fig, msg) {\n",
       "    var width = fig.canvas.width/mpl.ratio\n",
       "    fig.root.unbind('remove')\n",
       "\n",
       "    // Update the output cell to use the data from the current canvas.\n",
       "    fig.push_to_output();\n",
       "    var dataURL = fig.canvas.toDataURL();\n",
       "    // Re-enable the keyboard manager in IPython - without this line, in FF,\n",
       "    // the notebook keyboard shortcuts fail.\n",
       "    IPython.keyboard_manager.enable()\n",
       "    $(fig.parent_element).html('<img src=\"' + dataURL + '\" width=\"' + width + '\">');\n",
       "    fig.close_ws(fig, msg);\n",
       "}\n",
       "\n",
       "mpl.figure.prototype.close_ws = function(fig, msg){\n",
       "    fig.send_message('closing', msg);\n",
       "    // fig.ws.close()\n",
       "}\n",
       "\n",
       "mpl.figure.prototype.push_to_output = function(remove_interactive) {\n",
       "    // Turn the data on the canvas into data in the output cell.\n",
       "    var width = this.canvas.width/mpl.ratio\n",
       "    var dataURL = this.canvas.toDataURL();\n",
       "    this.cell_info[1]['text/html'] = '<img src=\"' + dataURL + '\" width=\"' + width + '\">';\n",
       "}\n",
       "\n",
       "mpl.figure.prototype.updated_canvas_event = function() {\n",
       "    // Tell IPython that the notebook contents must change.\n",
       "    IPython.notebook.set_dirty(true);\n",
       "    this.send_message(\"ack\", {});\n",
       "    var fig = this;\n",
       "    // Wait a second, then push the new image to the DOM so\n",
       "    // that it is saved nicely (might be nice to debounce this).\n",
       "    setTimeout(function () { fig.push_to_output() }, 1000);\n",
       "}\n",
       "\n",
       "mpl.figure.prototype._init_toolbar = function() {\n",
       "    var fig = this;\n",
       "\n",
       "    var nav_element = $('<div/>')\n",
       "    nav_element.attr('style', 'width: 100%');\n",
       "    this.root.append(nav_element);\n",
       "\n",
       "    // Define a callback function for later on.\n",
       "    function toolbar_event(event) {\n",
       "        return fig.toolbar_button_onclick(event['data']);\n",
       "    }\n",
       "    function toolbar_mouse_event(event) {\n",
       "        return fig.toolbar_button_onmouseover(event['data']);\n",
       "    }\n",
       "\n",
       "    for(var toolbar_ind in mpl.toolbar_items){\n",
       "        var name = mpl.toolbar_items[toolbar_ind][0];\n",
       "        var tooltip = mpl.toolbar_items[toolbar_ind][1];\n",
       "        var image = mpl.toolbar_items[toolbar_ind][2];\n",
       "        var method_name = mpl.toolbar_items[toolbar_ind][3];\n",
       "\n",
       "        if (!name) { continue; };\n",
       "\n",
       "        var button = $('<button class=\"btn btn-default\" href=\"#\" title=\"' + name + '\"><i class=\"fa ' + image + ' fa-lg\"></i></button>');\n",
       "        button.click(method_name, toolbar_event);\n",
       "        button.mouseover(tooltip, toolbar_mouse_event);\n",
       "        nav_element.append(button);\n",
       "    }\n",
       "\n",
       "    // Add the status bar.\n",
       "    var status_bar = $('<span class=\"mpl-message\" style=\"text-align:right; float: right;\"/>');\n",
       "    nav_element.append(status_bar);\n",
       "    this.message = status_bar[0];\n",
       "\n",
       "    // Add the close button to the window.\n",
       "    var buttongrp = $('<div class=\"btn-group inline pull-right\"></div>');\n",
       "    var button = $('<button class=\"btn btn-mini btn-primary\" href=\"#\" title=\"Stop Interaction\"><i class=\"fa fa-power-off icon-remove icon-large\"></i></button>');\n",
       "    button.click(function (evt) { fig.handle_close(fig, {}); } );\n",
       "    button.mouseover('Stop Interaction', toolbar_mouse_event);\n",
       "    buttongrp.append(button);\n",
       "    var titlebar = this.root.find($('.ui-dialog-titlebar'));\n",
       "    titlebar.prepend(buttongrp);\n",
       "}\n",
       "\n",
       "mpl.figure.prototype._root_extra_style = function(el){\n",
       "    var fig = this\n",
       "    el.on(\"remove\", function(){\n",
       "\tfig.close_ws(fig, {});\n",
       "    });\n",
       "}\n",
       "\n",
       "mpl.figure.prototype._canvas_extra_style = function(el){\n",
       "    // this is important to make the div 'focusable\n",
       "    el.attr('tabindex', 0)\n",
       "    // reach out to IPython and tell the keyboard manager to turn it's self\n",
       "    // off when our div gets focus\n",
       "\n",
       "    // location in version 3\n",
       "    if (IPython.notebook.keyboard_manager) {\n",
       "        IPython.notebook.keyboard_manager.register_events(el);\n",
       "    }\n",
       "    else {\n",
       "        // location in version 2\n",
       "        IPython.keyboard_manager.register_events(el);\n",
       "    }\n",
       "\n",
       "}\n",
       "\n",
       "mpl.figure.prototype._key_event_extra = function(event, name) {\n",
       "    var manager = IPython.notebook.keyboard_manager;\n",
       "    if (!manager)\n",
       "        manager = IPython.keyboard_manager;\n",
       "\n",
       "    // Check for shift+enter\n",
       "    if (event.shiftKey && event.which == 13) {\n",
       "        this.canvas_div.blur();\n",
       "        event.shiftKey = false;\n",
       "        // Send a \"J\" for go to next cell\n",
       "        event.which = 74;\n",
       "        event.keyCode = 74;\n",
       "        manager.command_mode();\n",
       "        manager.handle_keydown(event);\n",
       "    }\n",
       "}\n",
       "\n",
       "mpl.figure.prototype.handle_save = function(fig, msg) {\n",
       "    fig.ondownload(fig, null);\n",
       "}\n",
       "\n",
       "\n",
       "mpl.find_output_cell = function(html_output) {\n",
       "    // Return the cell and output element which can be found *uniquely* in the notebook.\n",
       "    // Note - this is a bit hacky, but it is done because the \"notebook_saving.Notebook\"\n",
       "    // IPython event is triggered only after the cells have been serialised, which for\n",
       "    // our purposes (turning an active figure into a static one), is too late.\n",
       "    var cells = IPython.notebook.get_cells();\n",
       "    var ncells = cells.length;\n",
       "    for (var i=0; i<ncells; i++) {\n",
       "        var cell = cells[i];\n",
       "        if (cell.cell_type === 'code'){\n",
       "            for (var j=0; j<cell.output_area.outputs.length; j++) {\n",
       "                var data = cell.output_area.outputs[j];\n",
       "                if (data.data) {\n",
       "                    // IPython >= 3 moved mimebundle to data attribute of output\n",
       "                    data = data.data;\n",
       "                }\n",
       "                if (data['text/html'] == html_output) {\n",
       "                    return [cell, data, j];\n",
       "                }\n",
       "            }\n",
       "        }\n",
       "    }\n",
       "}\n",
       "\n",
       "// Register the function which deals with the matplotlib target/channel.\n",
       "// The kernel may be null if the page has been refreshed.\n",
       "if (IPython.notebook.kernel != null) {\n",
       "    IPython.notebook.kernel.comm_manager.register_target('matplotlib', mpl.mpl_figure_comm);\n",
       "}\n"
      ],
      "text/plain": [
       "<IPython.core.display.Javascript object>"
      ]
     },
     "metadata": {},
     "output_type": "display_data"
    },
    {
     "data": {
      "text/html": [
       "<img src=\"data:image/png;base64,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\" width=\"600\">"
      ],
      "text/plain": [
       "<IPython.core.display.HTML object>"
      ]
     },
     "metadata": {},
     "output_type": "display_data"
    }
   ],
   "source": [
    "plt.show()"
   ]
  },
  {
   "cell_type": "markdown",
   "metadata": {},
   "source": [
    "#### Linear Estimate"
   ]
  },
  {
   "cell_type": "code",
   "execution_count": 42,
   "metadata": {},
   "outputs": [],
   "source": [
    "plot_animate_preprocess(model, degree=1)"
   ]
  },
  {
   "cell_type": "code",
   "execution_count": 43,
   "metadata": {},
   "outputs": [],
   "source": [
    "anim1 = plot_animate_beta(degree=1, secs=6, fps=60)"
   ]
  },
  {
   "cell_type": "code",
   "execution_count": 44,
   "metadata": {},
   "outputs": [
    {
     "data": {
      "text/html": [
       "<img src=\"plots/regression/degree1/anim60_compressed.gif\">"
      ],
      "text/plain": [
       "<IPython.core.display.HTML object>"
      ]
     },
     "execution_count": 44,
     "metadata": {},
     "output_type": "execute_result"
    }
   ],
   "source": [
    "HTML('<img src=\"plots/regression/degree1/anim60_compressed.gif\">')"
   ]
  },
  {
   "cell_type": "markdown",
   "metadata": {},
   "source": [
    "#### Quadratic Estimate"
   ]
  },
  {
   "cell_type": "code",
   "execution_count": 45,
   "metadata": {},
   "outputs": [],
   "source": [
    "plot_animate_preprocess(model, degree=2)"
   ]
  },
  {
   "cell_type": "code",
   "execution_count": 46,
   "metadata": {},
   "outputs": [],
   "source": [
    "anim2 = plot_animate_beta(degree=2, secs=6, fps=60)"
   ]
  },
  {
   "cell_type": "code",
   "execution_count": 47,
   "metadata": {},
   "outputs": [
    {
     "data": {
      "text/html": [
       "<img src=\"plots/regression/degree2/anim60_compressed.gif\">"
      ],
      "text/plain": [
       "<IPython.core.display.HTML object>"
      ]
     },
     "execution_count": 47,
     "metadata": {},
     "output_type": "execute_result"
    }
   ],
   "source": [
    "HTML('<img src=\"plots/regression/degree2/anim60_compressed.gif\">')"
   ]
  },
  {
   "cell_type": "markdown",
   "metadata": {},
   "source": [
    "#### Cubic Estimate"
   ]
  },
  {
   "cell_type": "code",
   "execution_count": 48,
   "metadata": {},
   "outputs": [],
   "source": [
    "plot_animate_preprocess(model, degree=3)"
   ]
  },
  {
   "cell_type": "code",
   "execution_count": 49,
   "metadata": {},
   "outputs": [],
   "source": [
    "anim3 = plot_animate_beta(degree=3, secs=6, fps=60)"
   ]
  },
  {
   "cell_type": "code",
   "execution_count": 50,
   "metadata": {},
   "outputs": [
    {
     "data": {
      "text/html": [
       "<img src=\"plots/regression/degree3/anim60_compressed.gif\">"
      ],
      "text/plain": [
       "<IPython.core.display.HTML object>"
      ]
     },
     "execution_count": 50,
     "metadata": {},
     "output_type": "execute_result"
    }
   ],
   "source": [
    "HTML('<img src=\"plots/regression/degree3/anim60_compressed.gif\">')"
   ]
  },
  {
   "cell_type": "code",
   "execution_count": null,
   "metadata": {},
   "outputs": [],
   "source": []
  }
 ],
 "metadata": {
  "kernelspec": {
   "display_name": "Python 3",
   "language": "python",
   "name": "python3"
  },
  "language_info": {
   "codemirror_mode": {
    "name": "ipython",
    "version": 3
   },
   "file_extension": ".py",
   "mimetype": "text/x-python",
   "name": "python",
   "nbconvert_exporter": "python",
   "pygments_lexer": "ipython3",
   "version": "3.5.3"
  }
 },
 "nbformat": 4,
 "nbformat_minor": 2
}
