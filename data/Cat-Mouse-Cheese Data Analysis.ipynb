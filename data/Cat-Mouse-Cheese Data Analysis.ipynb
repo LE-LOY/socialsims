{
 "cells": [
  {
   "cell_type": "code",
   "execution_count": 1,
   "metadata": {},
   "outputs": [],
   "source": [
    "%matplotlib notebook"
   ]
  },
  {
   "cell_type": "code",
   "execution_count": 2,
   "metadata": {},
   "outputs": [],
   "source": [
    "import os\n",
    "import sys"
   ]
  },
  {
   "cell_type": "code",
   "execution_count": 3,
   "metadata": {},
   "outputs": [],
   "source": [
    "import numpy as np"
   ]
  },
  {
   "cell_type": "code",
   "execution_count": 4,
   "metadata": {},
   "outputs": [],
   "source": [
    "import imageio\n",
    "from IPython.display import HTML"
   ]
  },
  {
   "cell_type": "code",
   "execution_count": 5,
   "metadata": {},
   "outputs": [],
   "source": [
    "import matplotlib.pyplot as plt\n",
    "from matplotlib import ticker\n",
    "from mpl_toolkits.mplot3d.axes3d import Axes3D\n",
    "plt.ioff()"
   ]
  },
  {
   "cell_type": "code",
   "execution_count": 6,
   "metadata": {},
   "outputs": [],
   "source": [
    "import seaborn as sns\n",
    "sns.set()"
   ]
  },
  {
   "cell_type": "code",
   "execution_count": 7,
   "metadata": {},
   "outputs": [],
   "source": [
    "module_path = os.path.abspath(os.path.join('..'))\n",
    "if module_path not in sys.path:\n",
    "    sys.path.append(module_path)"
   ]
  },
  {
   "cell_type": "code",
   "execution_count": 8,
   "metadata": {},
   "outputs": [],
   "source": [
    "import data.analysis_tools as tools"
   ]
  },
  {
   "cell_type": "markdown",
   "metadata": {},
   "source": [
    "# Data Preparation"
   ]
  },
  {
   "cell_type": "code",
   "execution_count": 9,
   "metadata": {},
   "outputs": [],
   "source": [
    "num_runs = 5\n",
    "max_vis_depth = 4\n",
    "num_intervals = 10\n",
    "n = 11"
   ]
  },
  {
   "cell_type": "code",
   "execution_count": 10,
   "metadata": {},
   "outputs": [],
   "source": [
    "interval_size = 100"
   ]
  },
  {
   "cell_type": "markdown",
   "metadata": {},
   "source": [
    "## Loading"
   ]
  },
  {
   "cell_type": "code",
   "execution_count": 11,
   "metadata": {
    "scrolled": true
   },
   "outputs": [],
   "source": [
    "E = np.zeros((max_vis_depth + 1, num_intervals + 1, n, n))\n",
    "F = np.zeros((max_vis_depth + 1, num_intervals + 1, n, n))"
   ]
  },
  {
   "cell_type": "code",
   "execution_count": 12,
   "metadata": {},
   "outputs": [],
   "source": [
    "for run in range(1, num_runs + 1):\n",
    "    for depth in range(1, max_vis_depth + 1):\n",
    "        dir_input = \"raw/cat_mouse_cheese/depth{}/run{}.txt\".format(depth, run)\n",
    "        with open(os.path.abspath(dir_input)) as f:\n",
    "            for line in f.readlines():\n",
    "                line = list(map(int, line.split()))\n",
    "                a = line[0]\n",
    "                b = line[1]\n",
    "                for i in range(2, num_intervals + 2):\n",
    "                    interval = i - 1\n",
    "                    eaten = line[i]\n",
    "                    E[depth][interval][a][b] += eaten / num_runs\n",
    "                for i in range(num_intervals + 2, 2*num_intervals + 2):\n",
    "                    interval = i - num_intervals - 1\n",
    "                    fed = line[i]\n",
    "                    F[depth][interval][a][b] += fed / num_runs"
   ]
  },
  {
   "cell_type": "markdown",
   "metadata": {},
   "source": [
    "## Preparation of Improvement Tables"
   ]
  },
  {
   "cell_type": "markdown",
   "metadata": {},
   "source": [
    "### Calculation"
   ]
  },
  {
   "cell_type": "code",
   "execution_count": 13,
   "metadata": {},
   "outputs": [],
   "source": [
    "I = np.zeros((max_vis_depth + 1, num_intervals + 1, n, n))"
   ]
  },
  {
   "cell_type": "code",
   "execution_count": 14,
   "metadata": {},
   "outputs": [],
   "source": [
    "for depth in range(1, max_vis_depth + 1):\n",
    "    for interval in range(1, num_intervals + 1):\n",
    "        I[depth][interval] = (F[depth][interval] - F[depth][interval - 1]) / (E[depth][interval] - E[depth][interval - 1])"
   ]
  },
  {
   "cell_type": "code",
   "execution_count": 15,
   "metadata": {},
   "outputs": [],
   "source": [
    "I_flat = I[1:max_vis_depth + 1, 1:num_intervals + 1].flatten()"
   ]
  },
  {
   "cell_type": "code",
   "execution_count": 16,
   "metadata": {},
   "outputs": [
    {
     "data": {
      "text/plain": [
       "ArrayStats(min=0.0, ave=0.082167601195682963, max=0.32258064516129054, range=0.32258064516129054)"
      ]
     },
     "execution_count": 16,
     "metadata": {},
     "output_type": "execute_result"
    }
   ],
   "source": [
    "i_stats = tools.get_stats(I_flat)\n",
    "i_stats"
   ]
  },
  {
   "cell_type": "markdown",
   "metadata": {},
   "source": [
    "### Normalization"
   ]
  },
  {
   "cell_type": "code",
   "execution_count": 17,
   "metadata": {},
   "outputs": [],
   "source": [
    "I_norm = tools.normalize(I, i_stats)"
   ]
  },
  {
   "cell_type": "code",
   "execution_count": 18,
   "metadata": {},
   "outputs": [],
   "source": [
    "I_norm_flat = I_norm[1:max_vis_depth + 1, 1:num_intervals + 1].flatten()"
   ]
  },
  {
   "cell_type": "code",
   "execution_count": 19,
   "metadata": {},
   "outputs": [
    {
     "data": {
      "text/plain": [
       "ArrayStats(min=0.0, ave=0.25471956370661686, max=1.0, range=1.0)"
      ]
     },
     "execution_count": 19,
     "metadata": {},
     "output_type": "execute_result"
    }
   ],
   "source": [
    "i_norm_stats = tools.get_stats(I_norm_flat)\n",
    "i_norm_stats"
   ]
  },
  {
   "cell_type": "markdown",
   "metadata": {},
   "source": [
    "## Preparation of Mesh Grids"
   ]
  },
  {
   "cell_type": "code",
   "execution_count": 20,
   "metadata": {},
   "outputs": [],
   "source": [
    "def_depth = 1\n",
    "def_interval = 10"
   ]
  },
  {
   "cell_type": "code",
   "execution_count": 21,
   "metadata": {},
   "outputs": [],
   "source": [
    "X_domain = np.linspace(0, 1, n)\n",
    "X = np.zeros((4, n, n))\n",
    "X[0] = np.full((n, n), def_depth)\n",
    "X[1] = np.full((n, n), def_interval * interval_size)\n",
    "X[2], X[3] = np.meshgrid(X_domain, X_domain)"
   ]
  },
  {
   "cell_type": "code",
   "execution_count": 22,
   "metadata": {},
   "outputs": [],
   "source": [
    "Y = I_norm[def_depth][def_interval]"
   ]
  },
  {
   "cell_type": "code",
   "execution_count": 23,
   "metadata": {},
   "outputs": [
    {
     "data": {
      "text/plain": [
       "ArrayStats(min=0.0, ave=0.25434879690156259, max=0.79487179487179327, range=0.79487179487179327)"
      ]
     },
     "execution_count": 23,
     "metadata": {},
     "output_type": "execute_result"
    }
   ],
   "source": [
    "y_stats = tools.get_stats(Y)\n",
    "y_stats"
   ]
  },
  {
   "cell_type": "markdown",
   "metadata": {},
   "source": [
    "# Data Visualization"
   ]
  },
  {
   "cell_type": "markdown",
   "metadata": {},
   "source": [
    "## Performance Distribution"
   ]
  },
  {
   "cell_type": "code",
   "execution_count": 24,
   "metadata": {},
   "outputs": [],
   "source": [
    "fig, ax = plt.subplots(1, 1, figsize=(3, 3))\n",
    "dist = tools.plot_dist(X=I_norm_flat,\n",
    "                       ax=ax,\n",
    "                       file_name='plots/normed_perf_dist_2',\n",
    "                       yticks=[])\n",
    "plt.close()"
   ]
  },
  {
   "cell_type": "code",
   "execution_count": 25,
   "metadata": {},
   "outputs": [
    {
     "data": {
      "text/html": [
       "<img src=\"plots/normed_perf_dist_2.png\">"
      ],
      "text/plain": [
       "<IPython.core.display.HTML object>"
      ]
     },
     "execution_count": 25,
     "metadata": {},
     "output_type": "execute_result"
    }
   ],
   "source": [
    "dist"
   ]
  },
  {
   "cell_type": "code",
   "execution_count": 26,
   "metadata": {},
   "outputs": [
    {
     "data": {
      "text/plain": [
       "'96.43%'"
      ]
     },
     "execution_count": 26,
     "metadata": {},
     "output_type": "execute_result"
    }
   ],
   "source": [
    "percent_in_lower_half = ((0.0 < I_flat) & (I_flat < 0.5)).sum() / I_flat.size\n",
    "\"{:.2%}\".format(percent_in_lower_half)"
   ]
  },
  {
   "cell_type": "markdown",
   "metadata": {},
   "source": [
    "## Performance vs. Depth and Time Heatmap"
   ]
  },
  {
   "cell_type": "code",
   "execution_count": 27,
   "metadata": {},
   "outputs": [],
   "source": [
    "tools.heatmap_preprocess(X=I_norm,\n",
    "                         num_steps=num_intervals,\n",
    "                         save_file=\"plots/depth_heatmap/cmc/frame{:03d}.png\",\n",
    "                         vmin=0.0,\n",
    "                         vmax=0.5,\n",
    "                        )"
   ]
  },
  {
   "cell_type": "code",
   "execution_count": 28,
   "metadata": {},
   "outputs": [],
   "source": [
    "heatmap_vid = tools.animate(\"plots/depth_heatmap/cmc/frame\",\n",
    "                            \"plots/depth_heatmap/cmc/anim\")"
   ]
  },
  {
   "cell_type": "code",
   "execution_count": 29,
   "metadata": {},
   "outputs": [
    {
     "data": {
      "text/html": [
       "<video controls autoplay loop> <source src=\"plots/depth_heatmap/cmc/anim.mp4\" type=\"video/mp4\"> </video>"
      ],
      "text/plain": [
       "<IPython.core.display.HTML object>"
      ]
     },
     "execution_count": 29,
     "metadata": {},
     "output_type": "execute_result"
    }
   ],
   "source": [
    "heatmap_vid"
   ]
  },
  {
   "cell_type": "markdown",
   "metadata": {},
   "source": [
    "## Regression"
   ]
  },
  {
   "cell_type": "code",
   "execution_count": 27,
   "metadata": {},
   "outputs": [],
   "source": [
    "model = tools.PolynomialRegression(X, Y)"
   ]
  },
  {
   "cell_type": "markdown",
   "metadata": {},
   "source": [
    "### Linear model"
   ]
  },
  {
   "cell_type": "code",
   "execution_count": 28,
   "metadata": {},
   "outputs": [
    {
     "name": "stdout",
     "output_type": "stream",
     "text": [
      "0.000000*1 + 0.000000*x0 + 0.000282*x1 + -0.003462*x2 + -0.052490*x3\n"
     ]
    }
   ],
   "source": [
    "lin_model = model.process(degree=1)\n",
    "lin_model.print_func()"
   ]
  },
  {
   "cell_type": "code",
   "execution_count": 29,
   "metadata": {},
   "outputs": [
    {
     "data": {
      "text/plain": [
       "0.011280421862783331"
      ]
     },
     "execution_count": 29,
     "metadata": {},
     "output_type": "execute_result"
    }
   ],
   "source": [
    "lin_model.r_squared"
   ]
  },
  {
   "cell_type": "markdown",
   "metadata": {},
   "source": [
    "### Quadratic model"
   ]
  },
  {
   "cell_type": "code",
   "execution_count": 30,
   "metadata": {},
   "outputs": [
    {
     "name": "stdout",
     "output_type": "stream",
     "text": [
      "0.000000*1 + 0.000000*x0 + 0.000000*x1 + -0.000000*x2 + -0.000000*x3 + 0.000000*x0^2 + 0.000000*x0*x1 + -0.000000*x0*x2 + -0.000000*x0*x3 + 0.000000*x1^2 + -0.000278*x1*x2 + -0.000322*x1*x3 + 0.320577*x2^2 + -0.092674*x2*x3 + 0.315688*x3^2\n"
     ]
    }
   ],
   "source": [
    "quad_model = model.process(degree=2)\n",
    "quad_model.print_func()"
   ]
  },
  {
   "cell_type": "code",
   "execution_count": 31,
   "metadata": {},
   "outputs": [
    {
     "data": {
      "text/plain": [
       "0.079148180454456374"
      ]
     },
     "execution_count": 31,
     "metadata": {},
     "output_type": "execute_result"
    }
   ],
   "source": [
    "quad_model.r_squared"
   ]
  },
  {
   "cell_type": "markdown",
   "metadata": {},
   "source": [
    "### Cubic model"
   ]
  },
  {
   "cell_type": "code",
   "execution_count": 32,
   "metadata": {},
   "outputs": [
    {
     "name": "stdout",
     "output_type": "stream",
     "text": [
      "0.000000*1 + -0.000000*x0 + 0.000001*x1 + -0.000000*x2 + 0.000005*x3 + 0.000000*x0^2 + 0.000000*x0*x1 + -0.000000*x0*x2 + 0.000000*x0*x3 + 0.000000*x1^2 + 0.000000*x1*x2 + 0.000000*x1*x3 + -0.000002*x2^2 + -0.000001*x2*x3 + 0.000002*x3^2 + -0.000000*x0^3 + -0.000000*x0^2*x1 + -0.000000*x0^2*x2 + -0.000000*x0^2*x3 + -0.000000*x0*x1^2 + 0.000000*x0*x1*x2 + 0.000000*x0*x1*x3 + -0.000002*x0*x2^2 + -0.000001*x0*x2*x3 + 0.000002*x0*x3^2 + 0.000000*x1^3 + 0.000001*x1^2*x2 + -0.000001*x1^2*x3 + -0.001720*x1*x2^2 + -0.000948*x1*x2*x3 + 0.001509*x1*x3^2 + 0.917153*x2^3 + 1.329795*x2^2*x3 + -0.474357*x2*x3^2 + -0.637491*x3^3\n"
     ]
    }
   ],
   "source": [
    "cube_model = model.process(degree=3)\n",
    "cube_model.print_func()"
   ]
  },
  {
   "cell_type": "code",
   "execution_count": 33,
   "metadata": {},
   "outputs": [
    {
     "data": {
      "text/plain": [
       "0.171093500467945"
      ]
     },
     "execution_count": 33,
     "metadata": {},
     "output_type": "execute_result"
    }
   ],
   "source": [
    "cube_model.r_squared"
   ]
  },
  {
   "cell_type": "markdown",
   "metadata": {},
   "source": [
    "## 3D Plotting"
   ]
  },
  {
   "cell_type": "markdown",
   "metadata": {},
   "source": [
    "### Linear Estimate"
   ]
  },
  {
   "cell_type": "code",
   "execution_count": 40,
   "metadata": {},
   "outputs": [],
   "source": [
    "ax = tools.plot_3d_normed(model, degree=1, offsets=(1.5, 1.5, 1))"
   ]
  },
  {
   "cell_type": "code",
   "execution_count": 41,
   "metadata": {},
   "outputs": [
    {
     "data": {
      "application/javascript": [
       "/* Put everything inside the global mpl namespace */\n",
       "window.mpl = {};\n",
       "\n",
       "\n",
       "mpl.get_websocket_type = function() {\n",
       "    if (typeof(WebSocket) !== 'undefined') {\n",
       "        return WebSocket;\n",
       "    } else if (typeof(MozWebSocket) !== 'undefined') {\n",
       "        return MozWebSocket;\n",
       "    } else {\n",
       "        alert('Your browser does not have WebSocket support.' +\n",
       "              'Please try Chrome, Safari or Firefox ≥ 6. ' +\n",
       "              'Firefox 4 and 5 are also supported but you ' +\n",
       "              'have to enable WebSockets in about:config.');\n",
       "    };\n",
       "}\n",
       "\n",
       "mpl.figure = function(figure_id, websocket, ondownload, parent_element) {\n",
       "    this.id = figure_id;\n",
       "\n",
       "    this.ws = websocket;\n",
       "\n",
       "    this.supports_binary = (this.ws.binaryType != undefined);\n",
       "\n",
       "    if (!this.supports_binary) {\n",
       "        var warnings = document.getElementById(\"mpl-warnings\");\n",
       "        if (warnings) {\n",
       "            warnings.style.display = 'block';\n",
       "            warnings.textContent = (\n",
       "                \"This browser does not support binary websocket messages. \" +\n",
       "                    \"Performance may be slow.\");\n",
       "        }\n",
       "    }\n",
       "\n",
       "    this.imageObj = new Image();\n",
       "\n",
       "    this.context = undefined;\n",
       "    this.message = undefined;\n",
       "    this.canvas = undefined;\n",
       "    this.rubberband_canvas = undefined;\n",
       "    this.rubberband_context = undefined;\n",
       "    this.format_dropdown = undefined;\n",
       "\n",
       "    this.image_mode = 'full';\n",
       "\n",
       "    this.root = $('<div/>');\n",
       "    this._root_extra_style(this.root)\n",
       "    this.root.attr('style', 'display: inline-block');\n",
       "\n",
       "    $(parent_element).append(this.root);\n",
       "\n",
       "    this._init_header(this);\n",
       "    this._init_canvas(this);\n",
       "    this._init_toolbar(this);\n",
       "\n",
       "    var fig = this;\n",
       "\n",
       "    this.waiting = false;\n",
       "\n",
       "    this.ws.onopen =  function () {\n",
       "            fig.send_message(\"supports_binary\", {value: fig.supports_binary});\n",
       "            fig.send_message(\"send_image_mode\", {});\n",
       "            if (mpl.ratio != 1) {\n",
       "                fig.send_message(\"set_dpi_ratio\", {'dpi_ratio': mpl.ratio});\n",
       "            }\n",
       "            fig.send_message(\"refresh\", {});\n",
       "        }\n",
       "\n",
       "    this.imageObj.onload = function() {\n",
       "            if (fig.image_mode == 'full') {\n",
       "                // Full images could contain transparency (where diff images\n",
       "                // almost always do), so we need to clear the canvas so that\n",
       "                // there is no ghosting.\n",
       "                fig.context.clearRect(0, 0, fig.canvas.width, fig.canvas.height);\n",
       "            }\n",
       "            fig.context.drawImage(fig.imageObj, 0, 0);\n",
       "        };\n",
       "\n",
       "    this.imageObj.onunload = function() {\n",
       "        fig.ws.close();\n",
       "    }\n",
       "\n",
       "    this.ws.onmessage = this._make_on_message_function(this);\n",
       "\n",
       "    this.ondownload = ondownload;\n",
       "}\n",
       "\n",
       "mpl.figure.prototype._init_header = function() {\n",
       "    var titlebar = $(\n",
       "        '<div class=\"ui-dialog-titlebar ui-widget-header ui-corner-all ' +\n",
       "        'ui-helper-clearfix\"/>');\n",
       "    var titletext = $(\n",
       "        '<div class=\"ui-dialog-title\" style=\"width: 100%; ' +\n",
       "        'text-align: center; padding: 3px;\"/>');\n",
       "    titlebar.append(titletext)\n",
       "    this.root.append(titlebar);\n",
       "    this.header = titletext[0];\n",
       "}\n",
       "\n",
       "\n",
       "\n",
       "mpl.figure.prototype._canvas_extra_style = function(canvas_div) {\n",
       "\n",
       "}\n",
       "\n",
       "\n",
       "mpl.figure.prototype._root_extra_style = function(canvas_div) {\n",
       "\n",
       "}\n",
       "\n",
       "mpl.figure.prototype._init_canvas = function() {\n",
       "    var fig = this;\n",
       "\n",
       "    var canvas_div = $('<div/>');\n",
       "\n",
       "    canvas_div.attr('style', 'position: relative; clear: both; outline: 0');\n",
       "\n",
       "    function canvas_keyboard_event(event) {\n",
       "        return fig.key_event(event, event['data']);\n",
       "    }\n",
       "\n",
       "    canvas_div.keydown('key_press', canvas_keyboard_event);\n",
       "    canvas_div.keyup('key_release', canvas_keyboard_event);\n",
       "    this.canvas_div = canvas_div\n",
       "    this._canvas_extra_style(canvas_div)\n",
       "    this.root.append(canvas_div);\n",
       "\n",
       "    var canvas = $('<canvas/>');\n",
       "    canvas.addClass('mpl-canvas');\n",
       "    canvas.attr('style', \"left: 0; top: 0; z-index: 0; outline: 0\")\n",
       "\n",
       "    this.canvas = canvas[0];\n",
       "    this.context = canvas[0].getContext(\"2d\");\n",
       "\n",
       "    var backingStore = this.context.backingStorePixelRatio ||\n",
       "\tthis.context.webkitBackingStorePixelRatio ||\n",
       "\tthis.context.mozBackingStorePixelRatio ||\n",
       "\tthis.context.msBackingStorePixelRatio ||\n",
       "\tthis.context.oBackingStorePixelRatio ||\n",
       "\tthis.context.backingStorePixelRatio || 1;\n",
       "\n",
       "    mpl.ratio = (window.devicePixelRatio || 1) / backingStore;\n",
       "\n",
       "    var rubberband = $('<canvas/>');\n",
       "    rubberband.attr('style', \"position: absolute; left: 0; top: 0; z-index: 1;\")\n",
       "\n",
       "    var pass_mouse_events = true;\n",
       "\n",
       "    canvas_div.resizable({\n",
       "        start: function(event, ui) {\n",
       "            pass_mouse_events = false;\n",
       "        },\n",
       "        resize: function(event, ui) {\n",
       "            fig.request_resize(ui.size.width, ui.size.height);\n",
       "        },\n",
       "        stop: function(event, ui) {\n",
       "            pass_mouse_events = true;\n",
       "            fig.request_resize(ui.size.width, ui.size.height);\n",
       "        },\n",
       "    });\n",
       "\n",
       "    function mouse_event_fn(event) {\n",
       "        if (pass_mouse_events)\n",
       "            return fig.mouse_event(event, event['data']);\n",
       "    }\n",
       "\n",
       "    rubberband.mousedown('button_press', mouse_event_fn);\n",
       "    rubberband.mouseup('button_release', mouse_event_fn);\n",
       "    // Throttle sequential mouse events to 1 every 20ms.\n",
       "    rubberband.mousemove('motion_notify', mouse_event_fn);\n",
       "\n",
       "    rubberband.mouseenter('figure_enter', mouse_event_fn);\n",
       "    rubberband.mouseleave('figure_leave', mouse_event_fn);\n",
       "\n",
       "    canvas_div.on(\"wheel\", function (event) {\n",
       "        event = event.originalEvent;\n",
       "        event['data'] = 'scroll'\n",
       "        if (event.deltaY < 0) {\n",
       "            event.step = 1;\n",
       "        } else {\n",
       "            event.step = -1;\n",
       "        }\n",
       "        mouse_event_fn(event);\n",
       "    });\n",
       "\n",
       "    canvas_div.append(canvas);\n",
       "    canvas_div.append(rubberband);\n",
       "\n",
       "    this.rubberband = rubberband;\n",
       "    this.rubberband_canvas = rubberband[0];\n",
       "    this.rubberband_context = rubberband[0].getContext(\"2d\");\n",
       "    this.rubberband_context.strokeStyle = \"#000000\";\n",
       "\n",
       "    this._resize_canvas = function(width, height) {\n",
       "        // Keep the size of the canvas, canvas container, and rubber band\n",
       "        // canvas in synch.\n",
       "        canvas_div.css('width', width)\n",
       "        canvas_div.css('height', height)\n",
       "\n",
       "        canvas.attr('width', width * mpl.ratio);\n",
       "        canvas.attr('height', height * mpl.ratio);\n",
       "        canvas.attr('style', 'width: ' + width + 'px; height: ' + height + 'px;');\n",
       "\n",
       "        rubberband.attr('width', width);\n",
       "        rubberband.attr('height', height);\n",
       "    }\n",
       "\n",
       "    // Set the figure to an initial 600x600px, this will subsequently be updated\n",
       "    // upon first draw.\n",
       "    this._resize_canvas(600, 600);\n",
       "\n",
       "    // Disable right mouse context menu.\n",
       "    $(this.rubberband_canvas).bind(\"contextmenu\",function(e){\n",
       "        return false;\n",
       "    });\n",
       "\n",
       "    function set_focus () {\n",
       "        canvas.focus();\n",
       "        canvas_div.focus();\n",
       "    }\n",
       "\n",
       "    window.setTimeout(set_focus, 100);\n",
       "}\n",
       "\n",
       "mpl.figure.prototype._init_toolbar = function() {\n",
       "    var fig = this;\n",
       "\n",
       "    var nav_element = $('<div/>')\n",
       "    nav_element.attr('style', 'width: 100%');\n",
       "    this.root.append(nav_element);\n",
       "\n",
       "    // Define a callback function for later on.\n",
       "    function toolbar_event(event) {\n",
       "        return fig.toolbar_button_onclick(event['data']);\n",
       "    }\n",
       "    function toolbar_mouse_event(event) {\n",
       "        return fig.toolbar_button_onmouseover(event['data']);\n",
       "    }\n",
       "\n",
       "    for(var toolbar_ind in mpl.toolbar_items) {\n",
       "        var name = mpl.toolbar_items[toolbar_ind][0];\n",
       "        var tooltip = mpl.toolbar_items[toolbar_ind][1];\n",
       "        var image = mpl.toolbar_items[toolbar_ind][2];\n",
       "        var method_name = mpl.toolbar_items[toolbar_ind][3];\n",
       "\n",
       "        if (!name) {\n",
       "            // put a spacer in here.\n",
       "            continue;\n",
       "        }\n",
       "        var button = $('<button/>');\n",
       "        button.addClass('ui-button ui-widget ui-state-default ui-corner-all ' +\n",
       "                        'ui-button-icon-only');\n",
       "        button.attr('role', 'button');\n",
       "        button.attr('aria-disabled', 'false');\n",
       "        button.click(method_name, toolbar_event);\n",
       "        button.mouseover(tooltip, toolbar_mouse_event);\n",
       "\n",
       "        var icon_img = $('<span/>');\n",
       "        icon_img.addClass('ui-button-icon-primary ui-icon');\n",
       "        icon_img.addClass(image);\n",
       "        icon_img.addClass('ui-corner-all');\n",
       "\n",
       "        var tooltip_span = $('<span/>');\n",
       "        tooltip_span.addClass('ui-button-text');\n",
       "        tooltip_span.html(tooltip);\n",
       "\n",
       "        button.append(icon_img);\n",
       "        button.append(tooltip_span);\n",
       "\n",
       "        nav_element.append(button);\n",
       "    }\n",
       "\n",
       "    var fmt_picker_span = $('<span/>');\n",
       "\n",
       "    var fmt_picker = $('<select/>');\n",
       "    fmt_picker.addClass('mpl-toolbar-option ui-widget ui-widget-content');\n",
       "    fmt_picker_span.append(fmt_picker);\n",
       "    nav_element.append(fmt_picker_span);\n",
       "    this.format_dropdown = fmt_picker[0];\n",
       "\n",
       "    for (var ind in mpl.extensions) {\n",
       "        var fmt = mpl.extensions[ind];\n",
       "        var option = $(\n",
       "            '<option/>', {selected: fmt === mpl.default_extension}).html(fmt);\n",
       "        fmt_picker.append(option)\n",
       "    }\n",
       "\n",
       "    // Add hover states to the ui-buttons\n",
       "    $( \".ui-button\" ).hover(\n",
       "        function() { $(this).addClass(\"ui-state-hover\");},\n",
       "        function() { $(this).removeClass(\"ui-state-hover\");}\n",
       "    );\n",
       "\n",
       "    var status_bar = $('<span class=\"mpl-message\"/>');\n",
       "    nav_element.append(status_bar);\n",
       "    this.message = status_bar[0];\n",
       "}\n",
       "\n",
       "mpl.figure.prototype.request_resize = function(x_pixels, y_pixels) {\n",
       "    // Request matplotlib to resize the figure. Matplotlib will then trigger a resize in the client,\n",
       "    // which will in turn request a refresh of the image.\n",
       "    this.send_message('resize', {'width': x_pixels, 'height': y_pixels});\n",
       "}\n",
       "\n",
       "mpl.figure.prototype.send_message = function(type, properties) {\n",
       "    properties['type'] = type;\n",
       "    properties['figure_id'] = this.id;\n",
       "    this.ws.send(JSON.stringify(properties));\n",
       "}\n",
       "\n",
       "mpl.figure.prototype.send_draw_message = function() {\n",
       "    if (!this.waiting) {\n",
       "        this.waiting = true;\n",
       "        this.ws.send(JSON.stringify({type: \"draw\", figure_id: this.id}));\n",
       "    }\n",
       "}\n",
       "\n",
       "\n",
       "mpl.figure.prototype.handle_save = function(fig, msg) {\n",
       "    var format_dropdown = fig.format_dropdown;\n",
       "    var format = format_dropdown.options[format_dropdown.selectedIndex].value;\n",
       "    fig.ondownload(fig, format);\n",
       "}\n",
       "\n",
       "\n",
       "mpl.figure.prototype.handle_resize = function(fig, msg) {\n",
       "    var size = msg['size'];\n",
       "    if (size[0] != fig.canvas.width || size[1] != fig.canvas.height) {\n",
       "        fig._resize_canvas(size[0], size[1]);\n",
       "        fig.send_message(\"refresh\", {});\n",
       "    };\n",
       "}\n",
       "\n",
       "mpl.figure.prototype.handle_rubberband = function(fig, msg) {\n",
       "    var x0 = msg['x0'] / mpl.ratio;\n",
       "    var y0 = (fig.canvas.height - msg['y0']) / mpl.ratio;\n",
       "    var x1 = msg['x1'] / mpl.ratio;\n",
       "    var y1 = (fig.canvas.height - msg['y1']) / mpl.ratio;\n",
       "    x0 = Math.floor(x0) + 0.5;\n",
       "    y0 = Math.floor(y0) + 0.5;\n",
       "    x1 = Math.floor(x1) + 0.5;\n",
       "    y1 = Math.floor(y1) + 0.5;\n",
       "    var min_x = Math.min(x0, x1);\n",
       "    var min_y = Math.min(y0, y1);\n",
       "    var width = Math.abs(x1 - x0);\n",
       "    var height = Math.abs(y1 - y0);\n",
       "\n",
       "    fig.rubberband_context.clearRect(\n",
       "        0, 0, fig.canvas.width, fig.canvas.height);\n",
       "\n",
       "    fig.rubberband_context.strokeRect(min_x, min_y, width, height);\n",
       "}\n",
       "\n",
       "mpl.figure.prototype.handle_figure_label = function(fig, msg) {\n",
       "    // Updates the figure title.\n",
       "    fig.header.textContent = msg['label'];\n",
       "}\n",
       "\n",
       "mpl.figure.prototype.handle_cursor = function(fig, msg) {\n",
       "    var cursor = msg['cursor'];\n",
       "    switch(cursor)\n",
       "    {\n",
       "    case 0:\n",
       "        cursor = 'pointer';\n",
       "        break;\n",
       "    case 1:\n",
       "        cursor = 'default';\n",
       "        break;\n",
       "    case 2:\n",
       "        cursor = 'crosshair';\n",
       "        break;\n",
       "    case 3:\n",
       "        cursor = 'move';\n",
       "        break;\n",
       "    }\n",
       "    fig.rubberband_canvas.style.cursor = cursor;\n",
       "}\n",
       "\n",
       "mpl.figure.prototype.handle_message = function(fig, msg) {\n",
       "    fig.message.textContent = msg['message'];\n",
       "}\n",
       "\n",
       "mpl.figure.prototype.handle_draw = function(fig, msg) {\n",
       "    // Request the server to send over a new figure.\n",
       "    fig.send_draw_message();\n",
       "}\n",
       "\n",
       "mpl.figure.prototype.handle_image_mode = function(fig, msg) {\n",
       "    fig.image_mode = msg['mode'];\n",
       "}\n",
       "\n",
       "mpl.figure.prototype.updated_canvas_event = function() {\n",
       "    // Called whenever the canvas gets updated.\n",
       "    this.send_message(\"ack\", {});\n",
       "}\n",
       "\n",
       "// A function to construct a web socket function for onmessage handling.\n",
       "// Called in the figure constructor.\n",
       "mpl.figure.prototype._make_on_message_function = function(fig) {\n",
       "    return function socket_on_message(evt) {\n",
       "        if (evt.data instanceof Blob) {\n",
       "            /* FIXME: We get \"Resource interpreted as Image but\n",
       "             * transferred with MIME type text/plain:\" errors on\n",
       "             * Chrome.  But how to set the MIME type?  It doesn't seem\n",
       "             * to be part of the websocket stream */\n",
       "            evt.data.type = \"image/png\";\n",
       "\n",
       "            /* Free the memory for the previous frames */\n",
       "            if (fig.imageObj.src) {\n",
       "                (window.URL || window.webkitURL).revokeObjectURL(\n",
       "                    fig.imageObj.src);\n",
       "            }\n",
       "\n",
       "            fig.imageObj.src = (window.URL || window.webkitURL).createObjectURL(\n",
       "                evt.data);\n",
       "            fig.updated_canvas_event();\n",
       "            fig.waiting = false;\n",
       "            return;\n",
       "        }\n",
       "        else if (typeof evt.data === 'string' && evt.data.slice(0, 21) == \"data:image/png;base64\") {\n",
       "            fig.imageObj.src = evt.data;\n",
       "            fig.updated_canvas_event();\n",
       "            fig.waiting = false;\n",
       "            return;\n",
       "        }\n",
       "\n",
       "        var msg = JSON.parse(evt.data);\n",
       "        var msg_type = msg['type'];\n",
       "\n",
       "        // Call the  \"handle_{type}\" callback, which takes\n",
       "        // the figure and JSON message as its only arguments.\n",
       "        try {\n",
       "            var callback = fig[\"handle_\" + msg_type];\n",
       "        } catch (e) {\n",
       "            console.log(\"No handler for the '\" + msg_type + \"' message type: \", msg);\n",
       "            return;\n",
       "        }\n",
       "\n",
       "        if (callback) {\n",
       "            try {\n",
       "                // console.log(\"Handling '\" + msg_type + \"' message: \", msg);\n",
       "                callback(fig, msg);\n",
       "            } catch (e) {\n",
       "                console.log(\"Exception inside the 'handler_\" + msg_type + \"' callback:\", e, e.stack, msg);\n",
       "            }\n",
       "        }\n",
       "    };\n",
       "}\n",
       "\n",
       "// from http://stackoverflow.com/questions/1114465/getting-mouse-location-in-canvas\n",
       "mpl.findpos = function(e) {\n",
       "    //this section is from http://www.quirksmode.org/js/events_properties.html\n",
       "    var targ;\n",
       "    if (!e)\n",
       "        e = window.event;\n",
       "    if (e.target)\n",
       "        targ = e.target;\n",
       "    else if (e.srcElement)\n",
       "        targ = e.srcElement;\n",
       "    if (targ.nodeType == 3) // defeat Safari bug\n",
       "        targ = targ.parentNode;\n",
       "\n",
       "    // jQuery normalizes the pageX and pageY\n",
       "    // pageX,Y are the mouse positions relative to the document\n",
       "    // offset() returns the position of the element relative to the document\n",
       "    var x = e.pageX - $(targ).offset().left;\n",
       "    var y = e.pageY - $(targ).offset().top;\n",
       "\n",
       "    return {\"x\": x, \"y\": y};\n",
       "};\n",
       "\n",
       "/*\n",
       " * return a copy of an object with only non-object keys\n",
       " * we need this to avoid circular references\n",
       " * http://stackoverflow.com/a/24161582/3208463\n",
       " */\n",
       "function simpleKeys (original) {\n",
       "  return Object.keys(original).reduce(function (obj, key) {\n",
       "    if (typeof original[key] !== 'object')\n",
       "        obj[key] = original[key]\n",
       "    return obj;\n",
       "  }, {});\n",
       "}\n",
       "\n",
       "mpl.figure.prototype.mouse_event = function(event, name) {\n",
       "    var canvas_pos = mpl.findpos(event)\n",
       "\n",
       "    if (name === 'button_press')\n",
       "    {\n",
       "        this.canvas.focus();\n",
       "        this.canvas_div.focus();\n",
       "    }\n",
       "\n",
       "    var x = canvas_pos.x * mpl.ratio;\n",
       "    var y = canvas_pos.y * mpl.ratio;\n",
       "\n",
       "    this.send_message(name, {x: x, y: y, button: event.button,\n",
       "                             step: event.step,\n",
       "                             guiEvent: simpleKeys(event)});\n",
       "\n",
       "    /* This prevents the web browser from automatically changing to\n",
       "     * the text insertion cursor when the button is pressed.  We want\n",
       "     * to control all of the cursor setting manually through the\n",
       "     * 'cursor' event from matplotlib */\n",
       "    event.preventDefault();\n",
       "    return false;\n",
       "}\n",
       "\n",
       "mpl.figure.prototype._key_event_extra = function(event, name) {\n",
       "    // Handle any extra behaviour associated with a key event\n",
       "}\n",
       "\n",
       "mpl.figure.prototype.key_event = function(event, name) {\n",
       "\n",
       "    // Prevent repeat events\n",
       "    if (name == 'key_press')\n",
       "    {\n",
       "        if (event.which === this._key)\n",
       "            return;\n",
       "        else\n",
       "            this._key = event.which;\n",
       "    }\n",
       "    if (name == 'key_release')\n",
       "        this._key = null;\n",
       "\n",
       "    var value = '';\n",
       "    if (event.ctrlKey && event.which != 17)\n",
       "        value += \"ctrl+\";\n",
       "    if (event.altKey && event.which != 18)\n",
       "        value += \"alt+\";\n",
       "    if (event.shiftKey && event.which != 16)\n",
       "        value += \"shift+\";\n",
       "\n",
       "    value += 'k';\n",
       "    value += event.which.toString();\n",
       "\n",
       "    this._key_event_extra(event, name);\n",
       "\n",
       "    this.send_message(name, {key: value,\n",
       "                             guiEvent: simpleKeys(event)});\n",
       "    return false;\n",
       "}\n",
       "\n",
       "mpl.figure.prototype.toolbar_button_onclick = function(name) {\n",
       "    if (name == 'download') {\n",
       "        this.handle_save(this, null);\n",
       "    } else {\n",
       "        this.send_message(\"toolbar_button\", {name: name});\n",
       "    }\n",
       "};\n",
       "\n",
       "mpl.figure.prototype.toolbar_button_onmouseover = function(tooltip) {\n",
       "    this.message.textContent = tooltip;\n",
       "};\n",
       "mpl.toolbar_items = [[\"Home\", \"Reset original view\", \"fa fa-home icon-home\", \"home\"], [\"Back\", \"Back to  previous view\", \"fa fa-arrow-left icon-arrow-left\", \"back\"], [\"Forward\", \"Forward to next view\", \"fa fa-arrow-right icon-arrow-right\", \"forward\"], [\"\", \"\", \"\", \"\"], [\"Pan\", \"Pan axes with left mouse, zoom with right\", \"fa fa-arrows icon-move\", \"pan\"], [\"Zoom\", \"Zoom to rectangle\", \"fa fa-square-o icon-check-empty\", \"zoom\"], [\"\", \"\", \"\", \"\"], [\"Download\", \"Download plot\", \"fa fa-floppy-o icon-save\", \"download\"]];\n",
       "\n",
       "mpl.extensions = [\"eps\", \"jpeg\", \"pdf\", \"png\", \"ps\", \"raw\", \"svg\", \"tif\"];\n",
       "\n",
       "mpl.default_extension = \"png\";var comm_websocket_adapter = function(comm) {\n",
       "    // Create a \"websocket\"-like object which calls the given IPython comm\n",
       "    // object with the appropriate methods. Currently this is a non binary\n",
       "    // socket, so there is still some room for performance tuning.\n",
       "    var ws = {};\n",
       "\n",
       "    ws.close = function() {\n",
       "        comm.close()\n",
       "    };\n",
       "    ws.send = function(m) {\n",
       "        //console.log('sending', m);\n",
       "        comm.send(m);\n",
       "    };\n",
       "    // Register the callback with on_msg.\n",
       "    comm.on_msg(function(msg) {\n",
       "        //console.log('receiving', msg['content']['data'], msg);\n",
       "        // Pass the mpl event to the overriden (by mpl) onmessage function.\n",
       "        ws.onmessage(msg['content']['data'])\n",
       "    });\n",
       "    return ws;\n",
       "}\n",
       "\n",
       "mpl.mpl_figure_comm = function(comm, msg) {\n",
       "    // This is the function which gets called when the mpl process\n",
       "    // starts-up an IPython Comm through the \"matplotlib\" channel.\n",
       "\n",
       "    var id = msg.content.data.id;\n",
       "    // Get hold of the div created by the display call when the Comm\n",
       "    // socket was opened in Python.\n",
       "    var element = $(\"#\" + id);\n",
       "    var ws_proxy = comm_websocket_adapter(comm)\n",
       "\n",
       "    function ondownload(figure, format) {\n",
       "        window.open(figure.imageObj.src);\n",
       "    }\n",
       "\n",
       "    var fig = new mpl.figure(id, ws_proxy,\n",
       "                           ondownload,\n",
       "                           element.get(0));\n",
       "\n",
       "    // Call onopen now - mpl needs it, as it is assuming we've passed it a real\n",
       "    // web socket which is closed, not our websocket->open comm proxy.\n",
       "    ws_proxy.onopen();\n",
       "\n",
       "    fig.parent_element = element.get(0);\n",
       "    fig.cell_info = mpl.find_output_cell(\"<div id='\" + id + \"'></div>\");\n",
       "    if (!fig.cell_info) {\n",
       "        console.error(\"Failed to find cell for figure\", id, fig);\n",
       "        return;\n",
       "    }\n",
       "\n",
       "    var output_index = fig.cell_info[2]\n",
       "    var cell = fig.cell_info[0];\n",
       "\n",
       "};\n",
       "\n",
       "mpl.figure.prototype.handle_close = function(fig, msg) {\n",
       "    var width = fig.canvas.width/mpl.ratio\n",
       "    fig.root.unbind('remove')\n",
       "\n",
       "    // Update the output cell to use the data from the current canvas.\n",
       "    fig.push_to_output();\n",
       "    var dataURL = fig.canvas.toDataURL();\n",
       "    // Re-enable the keyboard manager in IPython - without this line, in FF,\n",
       "    // the notebook keyboard shortcuts fail.\n",
       "    IPython.keyboard_manager.enable()\n",
       "    $(fig.parent_element).html('<img src=\"' + dataURL + '\" width=\"' + width + '\">');\n",
       "    fig.close_ws(fig, msg);\n",
       "}\n",
       "\n",
       "mpl.figure.prototype.close_ws = function(fig, msg){\n",
       "    fig.send_message('closing', msg);\n",
       "    // fig.ws.close()\n",
       "}\n",
       "\n",
       "mpl.figure.prototype.push_to_output = function(remove_interactive) {\n",
       "    // Turn the data on the canvas into data in the output cell.\n",
       "    var width = this.canvas.width/mpl.ratio\n",
       "    var dataURL = this.canvas.toDataURL();\n",
       "    this.cell_info[1]['text/html'] = '<img src=\"' + dataURL + '\" width=\"' + width + '\">';\n",
       "}\n",
       "\n",
       "mpl.figure.prototype.updated_canvas_event = function() {\n",
       "    // Tell IPython that the notebook contents must change.\n",
       "    IPython.notebook.set_dirty(true);\n",
       "    this.send_message(\"ack\", {});\n",
       "    var fig = this;\n",
       "    // Wait a second, then push the new image to the DOM so\n",
       "    // that it is saved nicely (might be nice to debounce this).\n",
       "    setTimeout(function () { fig.push_to_output() }, 1000);\n",
       "}\n",
       "\n",
       "mpl.figure.prototype._init_toolbar = function() {\n",
       "    var fig = this;\n",
       "\n",
       "    var nav_element = $('<div/>')\n",
       "    nav_element.attr('style', 'width: 100%');\n",
       "    this.root.append(nav_element);\n",
       "\n",
       "    // Define a callback function for later on.\n",
       "    function toolbar_event(event) {\n",
       "        return fig.toolbar_button_onclick(event['data']);\n",
       "    }\n",
       "    function toolbar_mouse_event(event) {\n",
       "        return fig.toolbar_button_onmouseover(event['data']);\n",
       "    }\n",
       "\n",
       "    for(var toolbar_ind in mpl.toolbar_items){\n",
       "        var name = mpl.toolbar_items[toolbar_ind][0];\n",
       "        var tooltip = mpl.toolbar_items[toolbar_ind][1];\n",
       "        var image = mpl.toolbar_items[toolbar_ind][2];\n",
       "        var method_name = mpl.toolbar_items[toolbar_ind][3];\n",
       "\n",
       "        if (!name) { continue; };\n",
       "\n",
       "        var button = $('<button class=\"btn btn-default\" href=\"#\" title=\"' + name + '\"><i class=\"fa ' + image + ' fa-lg\"></i></button>');\n",
       "        button.click(method_name, toolbar_event);\n",
       "        button.mouseover(tooltip, toolbar_mouse_event);\n",
       "        nav_element.append(button);\n",
       "    }\n",
       "\n",
       "    // Add the status bar.\n",
       "    var status_bar = $('<span class=\"mpl-message\" style=\"text-align:right; float: right;\"/>');\n",
       "    nav_element.append(status_bar);\n",
       "    this.message = status_bar[0];\n",
       "\n",
       "    // Add the close button to the window.\n",
       "    var buttongrp = $('<div class=\"btn-group inline pull-right\"></div>');\n",
       "    var button = $('<button class=\"btn btn-mini btn-primary\" href=\"#\" title=\"Stop Interaction\"><i class=\"fa fa-power-off icon-remove icon-large\"></i></button>');\n",
       "    button.click(function (evt) { fig.handle_close(fig, {}); } );\n",
       "    button.mouseover('Stop Interaction', toolbar_mouse_event);\n",
       "    buttongrp.append(button);\n",
       "    var titlebar = this.root.find($('.ui-dialog-titlebar'));\n",
       "    titlebar.prepend(buttongrp);\n",
       "}\n",
       "\n",
       "mpl.figure.prototype._root_extra_style = function(el){\n",
       "    var fig = this\n",
       "    el.on(\"remove\", function(){\n",
       "\tfig.close_ws(fig, {});\n",
       "    });\n",
       "}\n",
       "\n",
       "mpl.figure.prototype._canvas_extra_style = function(el){\n",
       "    // this is important to make the div 'focusable\n",
       "    el.attr('tabindex', 0)\n",
       "    // reach out to IPython and tell the keyboard manager to turn it's self\n",
       "    // off when our div gets focus\n",
       "\n",
       "    // location in version 3\n",
       "    if (IPython.notebook.keyboard_manager) {\n",
       "        IPython.notebook.keyboard_manager.register_events(el);\n",
       "    }\n",
       "    else {\n",
       "        // location in version 2\n",
       "        IPython.keyboard_manager.register_events(el);\n",
       "    }\n",
       "\n",
       "}\n",
       "\n",
       "mpl.figure.prototype._key_event_extra = function(event, name) {\n",
       "    var manager = IPython.notebook.keyboard_manager;\n",
       "    if (!manager)\n",
       "        manager = IPython.keyboard_manager;\n",
       "\n",
       "    // Check for shift+enter\n",
       "    if (event.shiftKey && event.which == 13) {\n",
       "        this.canvas_div.blur();\n",
       "        event.shiftKey = false;\n",
       "        // Send a \"J\" for go to next cell\n",
       "        event.which = 74;\n",
       "        event.keyCode = 74;\n",
       "        manager.command_mode();\n",
       "        manager.handle_keydown(event);\n",
       "    }\n",
       "}\n",
       "\n",
       "mpl.figure.prototype.handle_save = function(fig, msg) {\n",
       "    fig.ondownload(fig, null);\n",
       "}\n",
       "\n",
       "\n",
       "mpl.find_output_cell = function(html_output) {\n",
       "    // Return the cell and output element which can be found *uniquely* in the notebook.\n",
       "    // Note - this is a bit hacky, but it is done because the \"notebook_saving.Notebook\"\n",
       "    // IPython event is triggered only after the cells have been serialised, which for\n",
       "    // our purposes (turning an active figure into a static one), is too late.\n",
       "    var cells = IPython.notebook.get_cells();\n",
       "    var ncells = cells.length;\n",
       "    for (var i=0; i<ncells; i++) {\n",
       "        var cell = cells[i];\n",
       "        if (cell.cell_type === 'code'){\n",
       "            for (var j=0; j<cell.output_area.outputs.length; j++) {\n",
       "                var data = cell.output_area.outputs[j];\n",
       "                if (data.data) {\n",
       "                    // IPython >= 3 moved mimebundle to data attribute of output\n",
       "                    data = data.data;\n",
       "                }\n",
       "                if (data['text/html'] == html_output) {\n",
       "                    return [cell, data, j];\n",
       "                }\n",
       "            }\n",
       "        }\n",
       "    }\n",
       "}\n",
       "\n",
       "// Register the function which deals with the matplotlib target/channel.\n",
       "// The kernel may be null if the page has been refreshed.\n",
       "if (IPython.notebook.kernel != null) {\n",
       "    IPython.notebook.kernel.comm_manager.register_target('matplotlib', mpl.mpl_figure_comm);\n",
       "}\n"
      ],
      "text/plain": [
       "<IPython.core.display.Javascript object>"
      ]
     },
     "metadata": {},
     "output_type": "display_data"
    },
    {
     "data": {
      "text/html": [
       "<img src=\"data:image/png;base64,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\" width=\"600\">"
      ],
      "text/plain": [
       "<IPython.core.display.HTML object>"
      ]
     },
     "metadata": {},
     "output_type": "display_data"
    }
   ],
   "source": [
    "plt.show()"
   ]
  },
  {
   "cell_type": "code",
   "execution_count": 36,
   "metadata": {},
   "outputs": [],
   "source": [
    "# tools.plot_3d_rotate(ax, save_file=\"plots/cmc_regression/degree{}/frame{}.jpeg\", degree=1)"
   ]
  },
  {
   "cell_type": "code",
   "execution_count": 43,
   "metadata": {},
   "outputs": [],
   "source": [
    "for ii in range(0, 360, 1):\n",
    "    ax.view_init(elev=30., azim=ii)\n",
    "    plt.savefig(\"plots/cmc_regression/degree{}/frame{}.png\".format(1, ii), transparent=True)"
   ]
  },
  {
   "cell_type": "code",
   "execution_count": null,
   "metadata": {},
   "outputs": [],
   "source": []
  }
 ],
 "metadata": {
  "kernelspec": {
   "display_name": "Python 3",
   "language": "python",
   "name": "python3"
  },
  "language_info": {
   "codemirror_mode": {
    "name": "ipython",
    "version": 3
   },
   "file_extension": ".py",
   "mimetype": "text/x-python",
   "name": "python",
   "nbconvert_exporter": "python",
   "pygments_lexer": "ipython3",
   "version": "3.5.3"
  }
 },
 "nbformat": 4,
 "nbformat_minor": 2
}
