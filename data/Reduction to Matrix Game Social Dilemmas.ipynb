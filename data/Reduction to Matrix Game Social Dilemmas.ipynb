{
 "cells": [
  {
   "cell_type": "code",
   "execution_count": 1,
   "metadata": {},
   "outputs": [],
   "source": [
    "import numpy as np"
   ]
  },
  {
   "cell_type": "code",
   "execution_count": 3,
   "metadata": {},
   "outputs": [
    {
     "name": "stdout",
     "output_type": "stream",
     "text": [
      "(5, 60, 3, 2)\n"
     ]
    }
   ],
   "source": [
    "results  = np.load('raw/wolfpack_reduction/run_test.npy')\n",
    "print(results.shape)\n",
    "# print(res)"
   ]
  },
  {
   "cell_type": "code",
   "execution_count": 10,
   "metadata": {},
   "outputs": [],
   "source": [
    "def analyze(res):\n",
    "    # output properties of data\n",
    "    print(\"Mean:\")\n",
    "    print(np.mean(res, axis=0))\n",
    "    print(\"Std:\")\n",
    "    print(np.std(res, axis=0))\n",
    "    \n",
    "    # take the average of the results\n",
    "    res = np.mean(res, axis=0)\n",
    "    \n",
    "    # map values to the range [0, 1]\n",
    "    res = np.interp(res, [np.min(res), np.max(res)], [0, 1])\n",
    "    \n",
    "    # print results\n",
    "    print(\"Matrix Game Social Dilemma:\")\n",
    "    print(res)\n",
    "    \n",
    "    return res"
   ]
  },
  {
   "cell_type": "code",
   "execution_count": 17,
   "metadata": {},
   "outputs": [
    {
     "name": "stdout",
     "output_type": "stream",
     "text": [
      "Mean:\n",
      "[[-2809.65       -2777.35      ]\n",
      " [-1459.28333333    79.21666667]\n",
      " [  535.78333333   669.23333333]]\n",
      "Std:\n",
      "[[ 850.14214155  789.13393086]\n",
      " [ 476.7649348   527.69799102]\n",
      " [ 431.25994063  450.56454834]]\n",
      "Matrix Game Social Dilemma:\n",
      "[[ 0.          0.00928459]\n",
      " [ 0.38816095  0.83040056]\n",
      " [ 0.96163999  1.        ]]\n"
     ]
    }
   ],
   "source": [
    "res1 = analyze(results[0])"
   ]
  },
  {
   "cell_type": "code",
   "execution_count": 18,
   "metadata": {},
   "outputs": [
    {
     "name": "stdout",
     "output_type": "stream",
     "text": [
      "Mean:\n",
      "[[-2901.81666667 -2859.31666667]\n",
      " [-1537.05          76.25      ]\n",
      " [  482.06666667   483.76666667]]\n",
      "Std:\n",
      "[[ 767.06154668  779.35882818]\n",
      " [ 463.97655921  546.88160282]\n",
      " [ 437.42217848  464.34485628]]\n",
      "Matrix Game Social Dilemma:\n",
      "[[ 0.          0.01255323]\n",
      " [ 0.40311123  0.87963177]\n",
      " [ 0.99949787  1.        ]]\n"
     ]
    }
   ],
   "source": [
    "res2 = analyze(results[1])"
   ]
  },
  {
   "cell_type": "code",
   "execution_count": 19,
   "metadata": {},
   "outputs": [
    {
     "name": "stdout",
     "output_type": "stream",
     "text": [
      "Mean:\n",
      "[[-2663.   -2720.8 ]\n",
      " [-1549.65    21.15]\n",
      " [  382.1    452.65]]\n",
      "Std:\n",
      "[[ 796.87129868  811.17792541]\n",
      " [ 636.07153227  629.93221395]\n",
      " [ 470.18488208  525.14965565]]\n",
      "Matrix Game Social Dilemma:\n",
      "[[ 0.01821362  0.        ]\n",
      " [ 0.36904631  0.86402811]\n",
      " [ 0.97776867  1.        ]]\n"
     ]
    }
   ],
   "source": [
    "res3 = analyze(results[2])"
   ]
  },
  {
   "cell_type": "code",
   "execution_count": 20,
   "metadata": {},
   "outputs": [
    {
     "name": "stdout",
     "output_type": "stream",
     "text": [
      "Mean:\n",
      "[[-2894.81666667 -2854.01666667]\n",
      " [-1406.85         141.85      ]\n",
      " [  564.66666667   528.96666667]]\n",
      "Std:\n",
      "[[ 764.68055404  759.13816247]\n",
      " [ 554.02989766  611.35981836]\n",
      " [ 487.12560552  472.05769304]]\n",
      "Matrix Game Social Dilemma:\n",
      "[[ 0.          0.01179367]\n",
      " [ 0.4301124   0.8777804 ]\n",
      " [ 1.          0.98968054]]\n"
     ]
    }
   ],
   "source": [
    "res4 = analyze(results[3])"
   ]
  },
  {
   "cell_type": "code",
   "execution_count": 21,
   "metadata": {},
   "outputs": [
    {
     "name": "stdout",
     "output_type": "stream",
     "text": [
      "Mean:\n",
      "[[-2824.75       -2862.15      ]\n",
      " [-1510.21666667   103.08333333]\n",
      " [  389.78333333   418.68333333]]\n",
      "Std:\n",
      "[[ 769.87727648  742.89364032]\n",
      " [ 492.25765921  633.76479054]\n",
      " [ 535.55031173  516.19778159]]\n",
      "Matrix Game Social Dilemma:\n",
      "[[ 0.01139954  0.        ]\n",
      " [ 0.4120701   0.90380493]\n",
      " [ 0.99119126  1.        ]]\n"
     ]
    }
   ],
   "source": [
    "res5 = analyze(results[4])"
   ]
  },
  {
   "cell_type": "code",
   "execution_count": 23,
   "metadata": {},
   "outputs": [
    {
     "data": {
      "text/plain": [
       "array([[ 0.01,  0.  ],\n",
       "       [ 0.41,  0.9 ],\n",
       "       [ 0.99,  1.  ]])"
      ]
     },
     "execution_count": 23,
     "metadata": {},
     "output_type": "execute_result"
    }
   ],
   "source": [
    "np.round_(res5, decimals=2)"
   ]
  },
  {
   "cell_type": "code",
   "execution_count": null,
   "metadata": {},
   "outputs": [],
   "source": []
  }
 ],
 "metadata": {
  "kernelspec": {
   "display_name": "Python 3",
   "language": "python",
   "name": "python3"
  },
  "language_info": {
   "codemirror_mode": {
    "name": "ipython",
    "version": 3
   },
   "file_extension": ".py",
   "mimetype": "text/x-python",
   "name": "python",
   "nbconvert_exporter": "python",
   "pygments_lexer": "ipython3",
   "version": "3.5.3"
  }
 },
 "nbformat": 4,
 "nbformat_minor": 2
}
