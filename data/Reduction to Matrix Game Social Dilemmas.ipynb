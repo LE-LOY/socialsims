{
 "cells": [
  {
   "cell_type": "code",
   "execution_count": 1,
   "metadata": {},
   "outputs": [],
   "source": [
    "import numpy as np"
   ]
  },
  {
   "cell_type": "code",
   "execution_count": 4,
   "metadata": {},
   "outputs": [],
   "source": [
    "def analyze(res):\n",
    "    # output properties of data\n",
    "    print(\"Mean:\")\n",
    "    print(np.mean(res, axis=0))\n",
    "    print(\"Std:\")\n",
    "    print(np.std(res, axis=0))\n",
    "    \n",
    "    # take the average of the results\n",
    "    res = np.mean(res, axis=0)\n",
    "    \n",
    "    # map values to the range [0, 1]\n",
    "    res = np.interp(res, [np.min(res), np.max(res)], [0, 1])\n",
    "    \n",
    "    # print results\n",
    "    print(\"Matrix Game Social Dilemma:\")\n",
    "    print(res)\n",
    "    \n",
    "    return res"
   ]
  },
  {
   "cell_type": "code",
   "execution_count": 2,
   "metadata": {},
   "outputs": [
    {
     "name": "stdout",
     "output_type": "stream",
     "text": [
      "(5, 30, 3, 2, 2)\n"
     ]
    }
   ],
   "source": [
    "results  = np.load('raw/wolfpack_reduction/run_test.npy')\n",
    "print(results.shape)\n",
    "# print(res)"
   ]
  },
  {
   "cell_type": "code",
   "execution_count": 6,
   "metadata": {},
   "outputs": [
    {
     "name": "stdout",
     "output_type": "stream",
     "text": [
      "Mean:\n",
      "[[-2838.03333333 -2766.63333333]\n",
      " [-1522.23333333   136.96666667]\n",
      " [  460.8          505.        ]]\n",
      "Std:\n",
      "[[ 814.99408928  958.05123326]\n",
      " [ 537.26478161  473.60901479]\n",
      " [ 321.94620669  350.86977641]]\n",
      "Matrix Game Social Dilemma:\n",
      "[[ 0.          0.02135785]\n",
      " [ 0.39359464  0.88991036]\n",
      " [ 0.98677847  1.        ]]\n"
     ]
    }
   ],
   "source": [
    "res1 = analyze(results[0,:,:,0])"
   ]
  },
  {
   "cell_type": "code",
   "execution_count": 7,
   "metadata": {},
   "outputs": [
    {
     "name": "stdout",
     "output_type": "stream",
     "text": [
      "Mean:\n",
      "[[-2679.63333333 -2570.83333333]\n",
      " [-1279.26666667   300.03333333]\n",
      " [  518.43333333   501.43333333]]\n",
      "Std:\n",
      "[[ 648.19922263  601.19365063]\n",
      " [ 583.41574275  729.54124779]\n",
      " [ 490.64717013  473.91558203]]\n",
      "Matrix Game Social Dilemma:\n",
      "[[ 0.          0.03402055]\n",
      " [ 0.43787914  0.93170874]\n",
      " [ 1.          0.99468429]]\n"
     ]
    }
   ],
   "source": [
    "res2 = analyze(results[1,:,:,0])"
   ]
  },
  {
   "cell_type": "code",
   "execution_count": 8,
   "metadata": {},
   "outputs": [
    {
     "name": "stdout",
     "output_type": "stream",
     "text": [
      "Mean:\n",
      "[[-2757.06666667 -2746.86666667]\n",
      " [-1520.46666667   133.63333333]\n",
      " [  478.73333333   502.53333333]]\n",
      "Std:\n",
      "[[ 634.26329619  624.42489451]\n",
      " [ 533.06151823  551.05054114]\n",
      " [ 464.83258157  534.46307845]]\n",
      "Matrix Game Social Dilemma:\n",
      "[[ 0.          0.00312922]\n",
      " [ 0.3793717   0.8868266 ]\n",
      " [ 0.99269849  1.        ]]\n"
     ]
    }
   ],
   "source": [
    "res3 = analyze(results[2,:,:,0])"
   ]
  },
  {
   "cell_type": "code",
   "execution_count": 9,
   "metadata": {},
   "outputs": [
    {
     "name": "stdout",
     "output_type": "stream",
     "text": [
      "Mean:\n",
      "[[-2530.93333333 -2546.23333333]\n",
      " [-1345.66666667    85.73333333]\n",
      " [  432.43333333   474.93333333]]\n",
      "Std:\n",
      "[[ 619.43995853  634.89645788]\n",
      " [ 705.08190226  613.02060506]\n",
      " [ 508.29943166  382.35706988]]\n",
      "Matrix Game Social Dilemma:\n",
      "[[ 0.00506427  0.        ]\n",
      " [ 0.39738512  0.87117559]\n",
      " [ 0.98593259  1.        ]]\n"
     ]
    }
   ],
   "source": [
    "res4 = analyze(results[3,:,:,0])"
   ]
  },
  {
   "cell_type": "code",
   "execution_count": 11,
   "metadata": {},
   "outputs": [
    {
     "name": "stdout",
     "output_type": "stream",
     "text": [
      "Mean:\n",
      "[[-2502.3        -2470.        ]\n",
      " [-1336.63333333   152.56666667]\n",
      " [  483.76666667   570.46666667]]\n",
      "Std:\n",
      "[[ 758.83666007  757.51228813]\n",
      " [ 638.93069438  685.37268126]\n",
      " [ 519.01969669  469.43829792]]\n",
      "Matrix Game Social Dilemma:\n",
      "[[ 0.          0.0105117 ]\n",
      " [ 0.37935411  0.86399879]\n",
      " [ 0.97178439  1.        ]]\n"
     ]
    }
   ],
   "source": [
    "res5 = analyze(results[4,:,:,0])"
   ]
  },
  {
   "cell_type": "code",
   "execution_count": 12,
   "metadata": {},
   "outputs": [
    {
     "data": {
      "text/plain": [
       "array([[ 0.  ,  0.01],\n",
       "       [ 0.38,  0.86],\n",
       "       [ 0.97,  1.  ]])"
      ]
     },
     "execution_count": 12,
     "metadata": {},
     "output_type": "execute_result"
    }
   ],
   "source": [
    "np.round_(res5, decimals=2)"
   ]
  },
  {
   "cell_type": "code",
   "execution_count": null,
   "metadata": {},
   "outputs": [],
   "source": []
  }
 ],
 "metadata": {
  "kernelspec": {
   "display_name": "Python 3",
   "language": "python",
   "name": "python3"
  },
  "language_info": {
   "codemirror_mode": {
    "name": "ipython",
    "version": 3
   },
   "file_extension": ".py",
   "mimetype": "text/x-python",
   "name": "python",
   "nbconvert_exporter": "python",
   "pygments_lexer": "ipython3",
   "version": "3.5.3"
  }
 },
 "nbformat": 4,
 "nbformat_minor": 2
}
