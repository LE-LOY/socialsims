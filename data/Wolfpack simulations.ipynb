{
 "cells": [
  {
   "cell_type": "code",
   "execution_count": 32,
   "metadata": {},
   "outputs": [],
   "source": [
    "import numpy as np\n",
    "import matplotlib.pyplot as plt\n",
    "import seaborn as sns\n",
    "sns.set()"
   ]
  },
  {
   "cell_type": "code",
   "execution_count": 33,
   "metadata": {},
   "outputs": [
    {
     "name": "stdout",
     "output_type": "stream",
     "text": [
      "(10, 11, 11, 2)\n"
     ]
    }
   ],
   "source": [
    "results  = np.load('raw/wolfpack/run_test2.npy')\n",
    "print(results.shape)"
   ]
  },
  {
   "cell_type": "code",
   "execution_count": 34,
   "metadata": {},
   "outputs": [
    {
     "name": "stdout",
     "output_type": "stream",
     "text": [
      "[[ 362.1   658.4   470.5   336.9   762.5   494.    497.1   442.7   347.3\n",
      "   563.15  530.1 ]\n",
      " [ 341.9   259.4   535.7   410.6   298.1   332.4   334.8   480.8   412.6\n",
      "   312.1   587.3 ]\n",
      " [ 535.3   392.25  510.6   312.7   462.6   454.2   397.5   598.8   512.95\n",
      "   244.45  256.1 ]\n",
      " [ 228.55  445.95  525.6   580.2   472.2   366.8   489.4   524.3   473.7\n",
      "   713.5   593.7 ]\n",
      " [ 517.2   345.6   388.6   411.7   530.9   305.3   421.5   569.7   530.5\n",
      "   481.2   621.9 ]\n",
      " [ 471.8   594.    466.4   578.35  381.6   502.25  591.7   409.7   391.\n",
      "   437.4   481.2 ]\n",
      " [ 457.35  458.8   530.45  517.6   714.3   555.7   567.8   472.    513.6\n",
      "   527.85  540.  ]\n",
      " [ 417.7   553.7   634.6   187.    644.55  635.7   657.85  564.9   456.1\n",
      "   449.8   535.6 ]\n",
      " [ 717.95  431.6   299.5   494.65  413.65  272.2   444.9   632.9   212.3\n",
      "   566.5   267.3 ]\n",
      " [ 392.1   448.35  590.3   573.9   560.7   594.    489.8   525.4   552.1\n",
      "   488.9   492.  ]\n",
      " [ 491.65  712.5   287.3   647.4   666.9   159.4   720.6   407.4   605.8\n",
      "   648.8   632.1 ]]\n"
     ]
    }
   ],
   "source": [
    "results = np.mean(results, axis=3)\n",
    "results = np.mean(results, axis=0)\n",
    "print(results)"
   ]
  },
  {
   "cell_type": "code",
   "execution_count": 37,
   "metadata": {},
   "outputs": [
    {
     "data": {
      "image/png": "[encoded data removed]",
      "text/plain": [
       "<matplotlib.figure.Figure at 0x114ddb38>"
      ]
     },
     "metadata": {},
     "output_type": "display_data"
    }
   ],
   "source": [
    "cmap =sns.cubehelix_palette(light=1, as_cmap=True)\n",
    "plt.imshow(results, cmap=cmap, interpolation='nearest')\n",
    "plt.show()"
   ]
  },
  {
   "cell_type": "code",
   "execution_count": null,
   "metadata": {},
   "outputs": [],
   "source": []
  }
 ],
 "metadata": {
  "kernelspec": {
   "display_name": "Python 3",
   "language": "python",
   "name": "python3"
  },
  "language_info": {
   "codemirror_mode": {
    "name": "ipython",
    "version": 3
   },
   "file_extension": ".py",
   "mimetype": "text/x-python",
   "name": "python",
   "nbconvert_exporter": "python",
   "pygments_lexer": "ipython3",
   "version": "3.5.3"
  }
 },
 "nbformat": 4,
 "nbformat_minor": 2
}
