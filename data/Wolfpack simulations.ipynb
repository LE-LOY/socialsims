{
 "cells": [
  {
   "cell_type": "code",
   "execution_count": 12,
   "metadata": {},
   "outputs": [],
   "source": [
    "import numpy as np\n",
    "import matplotlib.pyplot as plt"
   ]
  },
  {
   "cell_type": "code",
   "execution_count": 16,
   "metadata": {},
   "outputs": [
    {
     "name": "stdout",
     "output_type": "stream",
     "text": [
      "(1, 11, 11, 2)\n"
     ]
    }
   ],
   "source": [
    "results  = np.load('raw/wolfpack/run_test.npy')\n",
    "print(results.shape)"
   ]
  },
  {
   "cell_type": "code",
   "execution_count": 17,
   "metadata": {},
   "outputs": [
    {
     "name": "stdout",
     "output_type": "stream",
     "text": [
      "[[[ 1174.    145.    828.    646.   1356.    106.    642.    -22.   1133.\n",
      "    -105.    762. ]\n",
      "  [  538.    456.    833.     31.    748.    546.    -39.    972.    944.\n",
      "     860.    713. ]\n",
      "  [  630.    178.   1076.    315.    872.    329.   1134.     44.    723.\n",
      "     -65.    362. ]\n",
      "  [  579.    876.    -81.    853.   1080.   -769.   1148.    931.    196.\n",
      "    -905.    697. ]\n",
      "  [ -203.    654.    173.    642.    140.    757.5   171.    591.     88.\n",
      "     -65.   -242. ]\n",
      "  [  498.    945.   1044.    859.    635.    259.   -105.    384.    319.\n",
      "     595.    456. ]\n",
      "  [  279.    515.    725.    299.    155.   -502.    316.   -279.    378.\n",
      "     666.    469. ]\n",
      "  [  581.     40.     75.     60.    430.    575.    668.    347.   -121.\n",
      "     614.    350. ]\n",
      "  [  853.    297.   1142.   -413.    756.   -144.    226.   1022.   1074.\n",
      "     141.   -104. ]\n",
      "  [  532.   1127.    711.   -111.    938.   -158.    678.    118.    760.\n",
      "     193.     58. ]\n",
      "  [ 1013.    533.   1007.    572.    908.    564.    337.    512.    624.\n",
      "     190.    232. ]]]\n"
     ]
    }
   ],
   "source": [
    "results = np.mean(results, axis=3)\n",
    "print(results)"
   ]
  },
  {
   "cell_type": "code",
   "execution_count": 19,
   "metadata": {},
   "outputs": [
    {
     "data": {
      "image/png": "[encoded data removed]",
      "text/plain": [
       "<matplotlib.figure.Figure at 0x7fdcd30>"
      ]
     },
     "metadata": {},
     "output_type": "display_data"
    }
   ],
   "source": [
    "plt.imshow(results[0], interpolation='nearest')\n",
    "plt.show()"
   ]
  },
  {
   "cell_type": "code",
   "execution_count": null,
   "metadata": {},
   "outputs": [],
   "source": []
  }
 ],
 "metadata": {
  "kernelspec": {
   "display_name": "Python 3",
   "language": "python",
   "name": "python3"
  },
  "language_info": {
   "codemirror_mode": {
    "name": "ipython",
    "version": 3
   },
   "file_extension": ".py",
   "mimetype": "text/x-python",
   "name": "python",
   "nbconvert_exporter": "python",
   "pygments_lexer": "ipython3",
   "version": "3.5.3"
  }
 },
 "nbformat": 4,
 "nbformat_minor": 2
}
